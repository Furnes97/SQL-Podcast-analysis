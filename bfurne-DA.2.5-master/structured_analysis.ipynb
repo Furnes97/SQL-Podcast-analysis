{
 "cells": [
  {
   "cell_type": "markdown",
   "metadata": {},
   "source": [
    "# Podcast Analysis (Need a new and better title)"
   ]
  },
  {
   "cell_type": "markdown",
   "metadata": {},
   "source": [
    "## A bit about the process\n",
    "\n",
    "This analysis is heavily influenced by the fact that I got stuck trying to figure out the categories table and how to extract information from this. A lot of podcasts was filed with more than one category. There was no time for either of the categories so I could not filter for the latest category of each podcast. You will see in the notebook some of the problems and how I tried to solve these. I've tried to extract the essentials here as I had to \"abandon\" the first analysis. So I could finish this in a reasonable time. I would have liked to do more statistical analysis here and I tried to find a way to do a \"pretend A/B test\" If i had the a date change for categories (assuming it has changed over time) and taking one Podcast and seeing if changing the category had an impact on review score or the content of the review if it brought in a different or new crowd. \n",
    "* Keep in mind that I have not worked out the exact way of how I would make this A/B test or if its doable at all since what I hoped I had access to was missing.\n",
    "\n"
   ]
  },
  {
   "cell_type": "markdown",
   "metadata": {},
   "source": [
    "## Findings\n",
    "* There are a lot of podcast categories and a lot of podcast have many subcategories. \n",
    "    * However most podcasts have a few subcategories: Between 1-3 subcategories.\n",
    "    * The most reviewed podcasts have a few subcategories(based on total reviews)\n",
    "        * This is not statistically tested, will come back to this in the future\n",
    "* The most popular subcategories are society, culture, education, business, comedy and spirituality:\n",
    "    * Society and Culture are the most popular subcategories.\n",
    "        * Society and Culture are always part of the same category\n",
    "* Podcasts have become increasingly more popular from 2005 ->  (Based on total reviews, listen time and total plays is not available in this dataset)\n",
    "    * Podcasts saw a big increase during the pandemic years(2019-2021) and a dip in popularity after 2021\n",
    "        * Podcasts reached peak popularity in 2020\n",
    "* Podcasts where higher rated between 2012 and 2019 and lower rated between 2006 and 2012 and 2019 and 2023\n",
    "    * podcast reviews for 2023 are only for the first two months. \n",
    "        * Doing a Z-test we found that podcasts where higher rated in 2022 compared to 2021. \n",
    "* Podcasts where higher rated on average during spring months (March, April and May) compared to the summer months (June, July and August).\n",
    "    * A Z-test and confidence interval confirmed this.\n",
    "        * Why is this ? Winter depression going away? More or fewer new podcasts releasing ? or some other unknown factors?\n"
   ]
  },
  {
   "cell_type": "markdown",
   "metadata": {},
   "source": [
    "## Future improvements\n",
    "\n",
    "* More statistical tests\n",
    "    * Subcategory 1 vs Subcategory 2\n",
    "        * Does either subcategory have a greater impact on review score ? \n",
    "* Whats the subcategories of the most popular podcasts, when did that podcast gain traction and are there more podcasts in the market after the popular podcast(s) got traction\n",
    "* The one review per author was a mistake or it should have been handled in another way, hindsight is a menace sometimes, some eager fans have lost many reviews. However it does help that the same author only has one review when using total amount of reviews as a measure of how popular a podcast is. Without it being skewed because of eager fans. \n",
    "    * Future analysis, check wether or not removing all but one review per author makes some podcasts climb or fall on the top 10 most popular podcasts.\n",
    "    * Check how eager fans impact review scores of a few podcasts and if the change (if there is any) has any statistical significance. \n"
   ]
  },
  {
   "cell_type": "markdown",
   "metadata": {},
   "source": [
    "Importing necessary libraries and setting the seaborn figure style to darkgrid"
   ]
  },
  {
   "cell_type": "code",
   "execution_count": 33,
   "metadata": {},
   "outputs": [],
   "source": [
    "import sqlite3\n",
    "import pandas as pd\n",
    "import numpy as np\n",
    "import matplotlib.pyplot as plt\n",
    "import seaborn as sns\n",
    "import duckdb\n",
    "from statsmodels.stats.weightstats import ztest as ztest\n",
    "import scipy.stats as st\n",
    "import statsmodels.stats.api as sms\n",
    "from statsmodels.stats.proportion import proportions_ztest, proportion_confint\n",
    "from math import ceil\n",
    "from statistics import NormalDist\n",
    "\n",
    "sns.set_style(\"darkgrid\")"
   ]
  },
  {
   "cell_type": "code",
   "execution_count": 34,
   "metadata": {},
   "outputs": [],
   "source": [
    "con = sqlite3.connect(\"database.sqlite\")\n",
    "cur = con.cursor()"
   ]
  },
  {
   "cell_type": "code",
   "execution_count": 35,
   "metadata": {},
   "outputs": [
    {
     "name": "stdout",
     "output_type": "stream",
     "text": [
      "The sql extension is already loaded. To reload it, use:\n",
      "  %reload_ext sql\n"
     ]
    }
   ],
   "source": [
    "%load_ext sql\n",
    "conn = duckdb.connect()\n",
    "%sql conn --alias duckdb\n",
    "%config SqlMagic.autopandas = True"
   ]
  },
  {
   "cell_type": "markdown",
   "metadata": {},
   "source": [
    "We have 110 024 different podcasts in this database"
   ]
  },
  {
   "cell_type": "code",
   "execution_count": 36,
   "metadata": {},
   "outputs": [
    {
     "data": {
      "text/html": [
       "<div>\n",
       "<style scoped>\n",
       "    .dataframe tbody tr th:only-of-type {\n",
       "        vertical-align: middle;\n",
       "    }\n",
       "\n",
       "    .dataframe tbody tr th {\n",
       "        vertical-align: top;\n",
       "    }\n",
       "\n",
       "    .dataframe thead th {\n",
       "        text-align: right;\n",
       "    }\n",
       "</style>\n",
       "<table border=\"1\" class=\"dataframe\">\n",
       "  <thead>\n",
       "    <tr style=\"text-align: right;\">\n",
       "      <th></th>\n",
       "      <th>count_of_podcasts</th>\n",
       "    </tr>\n",
       "  </thead>\n",
       "  <tbody>\n",
       "    <tr>\n",
       "      <th>0</th>\n",
       "      <td>110024</td>\n",
       "    </tr>\n",
       "  </tbody>\n",
       "</table>\n",
       "</div>"
      ],
      "text/plain": [
       "   count_of_podcasts\n",
       "0             110024"
      ]
     },
     "execution_count": 36,
     "metadata": {},
     "output_type": "execute_result"
    }
   ],
   "source": [
    "cur = con.cursor()\n",
    "prompt = \"\"\"\n",
    "SELECT COUNT(p_id) AS count_of_podcasts\n",
    "FROM(SELECT DISTINCT(podcast_id) AS p_id\n",
    "FROM categories)\n",
    "LIMIT 2\n",
    "\"\"\"\n",
    "cur.execute(prompt)\n",
    "df = pd.DataFrame(cur.fetchall(), columns=[d[0] for d in cur.description])\n",
    "cur.close()\n",
    "df"
   ]
  },
  {
   "cell_type": "code",
   "execution_count": 37,
   "metadata": {},
   "outputs": [
    {
     "data": {
      "text/html": [
       "<div>\n",
       "<style scoped>\n",
       "    .dataframe tbody tr th:only-of-type {\n",
       "        vertical-align: middle;\n",
       "    }\n",
       "\n",
       "    .dataframe tbody tr th {\n",
       "        vertical-align: top;\n",
       "    }\n",
       "\n",
       "    .dataframe thead th {\n",
       "        text-align: right;\n",
       "    }\n",
       "</style>\n",
       "<table border=\"1\" class=\"dataframe\">\n",
       "  <thead>\n",
       "    <tr style=\"text-align: right;\">\n",
       "      <th></th>\n",
       "      <th>title</th>\n",
       "      <th>count</th>\n",
       "      <th>category</th>\n",
       "    </tr>\n",
       "  </thead>\n",
       "  <tbody>\n",
       "    <tr>\n",
       "      <th>0</th>\n",
       "      <td>Crime Junkie</td>\n",
       "      <td>33104</td>\n",
       "      <td>true-crime</td>\n",
       "    </tr>\n",
       "    <tr>\n",
       "      <th>1</th>\n",
       "      <td>Wow in the World</td>\n",
       "      <td>29094</td>\n",
       "      <td>education</td>\n",
       "    </tr>\n",
       "    <tr>\n",
       "      <th>2</th>\n",
       "      <td>My Favorite Murder with Karen Kilgariff and Ge...</td>\n",
       "      <td>21350</td>\n",
       "      <td>comedy</td>\n",
       "    </tr>\n",
       "    <tr>\n",
       "      <th>3</th>\n",
       "      <td>Know Your Aura with Mystic Michaela</td>\n",
       "      <td>20236</td>\n",
       "      <td>education</td>\n",
       "    </tr>\n",
       "    <tr>\n",
       "      <th>4</th>\n",
       "      <td>Don't Keep Your Day Job</td>\n",
       "      <td>19728</td>\n",
       "      <td>business</td>\n",
       "    </tr>\n",
       "    <tr>\n",
       "      <th>...</th>\n",
       "      <td>...</td>\n",
       "      <td>...</td>\n",
       "      <td>...</td>\n",
       "    </tr>\n",
       "    <tr>\n",
       "      <th>95</th>\n",
       "      <td>Past Gas by Donut Media</td>\n",
       "      <td>3393</td>\n",
       "      <td>comedy</td>\n",
       "    </tr>\n",
       "    <tr>\n",
       "      <th>96</th>\n",
       "      <td>Philosophize This!</td>\n",
       "      <td>3375</td>\n",
       "      <td>education</td>\n",
       "    </tr>\n",
       "    <tr>\n",
       "      <th>97</th>\n",
       "      <td>Potterless</td>\n",
       "      <td>3369</td>\n",
       "      <td>arts</td>\n",
       "    </tr>\n",
       "    <tr>\n",
       "      <th>98</th>\n",
       "      <td>An Acquired Taste Podcast</td>\n",
       "      <td>3355</td>\n",
       "      <td>comedy</td>\n",
       "    </tr>\n",
       "    <tr>\n",
       "      <th>99</th>\n",
       "      <td>Stuff You Should Know</td>\n",
       "      <td>3332</td>\n",
       "      <td>society-culture</td>\n",
       "    </tr>\n",
       "  </tbody>\n",
       "</table>\n",
       "<p>100 rows × 3 columns</p>\n",
       "</div>"
      ],
      "text/plain": [
       "                                                title  count         category\n",
       "0                                        Crime Junkie  33104       true-crime\n",
       "1                                    Wow in the World  29094        education\n",
       "2   My Favorite Murder with Karen Kilgariff and Ge...  21350           comedy\n",
       "3                 Know Your Aura with Mystic Michaela  20236        education\n",
       "4                             Don't Keep Your Day Job  19728         business\n",
       "..                                                ...    ...              ...\n",
       "95                            Past Gas by Donut Media   3393           comedy\n",
       "96                                 Philosophize This!   3375        education\n",
       "97                                         Potterless   3369             arts\n",
       "98                          An Acquired Taste Podcast   3355           comedy\n",
       "99                              Stuff You Should Know   3332  society-culture\n",
       "\n",
       "[100 rows x 3 columns]"
      ]
     },
     "execution_count": 37,
     "metadata": {},
     "output_type": "execute_result"
    }
   ],
   "source": [
    "cur = con.cursor()\n",
    "prompt = \"\"\"SELECT p.title, COUNT(*) as count, c.category\n",
    "            FROM reviews r\n",
    "            JOIN podcasts p\n",
    "            ON r.podcast_id = p.podcast_id\n",
    "            JOIN categories c\n",
    "            ON c.podcast_id = r.podcast_id\n",
    "            GROUP BY r.podcast_id\n",
    "            ORDER BY count DESC\n",
    "            LIMIT 100\"\"\"\n",
    "cur.execute(prompt)\n",
    "df = pd.DataFrame(cur.fetchall(), columns=[d[0] for d in cur.description])\n",
    "cur.close()\n",
    "df"
   ]
  },
  {
   "cell_type": "markdown",
   "metadata": {},
   "source": [
    "# One Review Per Author Per Podcast\n",
    "\n",
    "Creating a dataframe where every review author has only one review per podcast, this is to remove multiple reviews from the same author on the same podcast and mitigating potential review bombing. \n",
    "\n",
    "Potential analysis for the future, look into podcasts with review bombs and see if the review bombing has a statistically significant impact on the mean review score of said podcasts. "
   ]
  },
  {
   "cell_type": "code",
   "execution_count": 38,
   "metadata": {},
   "outputs": [
    {
     "data": {
      "text/html": [
       "<div>\n",
       "<style scoped>\n",
       "    .dataframe tbody tr th:only-of-type {\n",
       "        vertical-align: middle;\n",
       "    }\n",
       "\n",
       "    .dataframe tbody tr th {\n",
       "        vertical-align: top;\n",
       "    }\n",
       "\n",
       "    .dataframe thead th {\n",
       "        text-align: right;\n",
       "    }\n",
       "</style>\n",
       "<table border=\"1\" class=\"dataframe\">\n",
       "  <thead>\n",
       "    <tr style=\"text-align: right;\">\n",
       "      <th></th>\n",
       "      <th>podcast_id</th>\n",
       "      <th>podcast</th>\n",
       "      <th>author_id</th>\n",
       "      <th>review_title</th>\n",
       "      <th>one_review_per_author_per_podcast</th>\n",
       "    </tr>\n",
       "  </thead>\n",
       "  <tbody>\n",
       "    <tr>\n",
       "      <th>0</th>\n",
       "      <td>a461252c09ccc5f142bd604ef9a40fcd</td>\n",
       "      <td>! Weird Rap Podcast !</td>\n",
       "      <td>189068CD52A9AA5</td>\n",
       "      <td>Keep it weird</td>\n",
       "      <td>1</td>\n",
       "    </tr>\n",
       "    <tr>\n",
       "      <th>1</th>\n",
       "      <td>a461252c09ccc5f142bd604ef9a40fcd</td>\n",
       "      <td>! Weird Rap Podcast !</td>\n",
       "      <td>199C3835F333D11</td>\n",
       "      <td>Biased review</td>\n",
       "      <td>1</td>\n",
       "    </tr>\n",
       "  </tbody>\n",
       "</table>\n",
       "</div>"
      ],
      "text/plain": [
       "                         podcast_id                podcast        author_id  \\\n",
       "0  a461252c09ccc5f142bd604ef9a40fcd  ! Weird Rap Podcast !  189068CD52A9AA5   \n",
       "1  a461252c09ccc5f142bd604ef9a40fcd  ! Weird Rap Podcast !  199C3835F333D11   \n",
       "\n",
       "    review_title  one_review_per_author_per_podcast  \n",
       "0  Keep it weird                                  1  \n",
       "1  Biased review                                  1  "
      ]
     },
     "execution_count": 38,
     "metadata": {},
     "output_type": "execute_result"
    }
   ],
   "source": [
    "cur = con.cursor()\n",
    "prompt = \"\"\"\n",
    "SELECT p.podcast_id, p.title AS podcast, r.author_id, r.title AS review_title, COUNT(r.title) AS one_review_per_author_per_podcast\n",
    "FROM reviews r\n",
    "JOIN podcasts p\n",
    "ON r.podcast_id = p.podcast_id\n",
    "GROUP BY podcast, r.author_id, review_title\n",
    "HAVING one_review_per_author_per_podcast = 1\n",
    "ORDER BY one_review_per_author_per_podcast DESC\n",
    "\"\"\"\n",
    "cur.execute(prompt)\n",
    "df = pd.DataFrame(cur.fetchall(), columns=[d[0] for d in cur.description])\n",
    "cur.close()\n",
    "df[0:2]"
   ]
  },
  {
   "cell_type": "code",
   "execution_count": 39,
   "metadata": {},
   "outputs": [
    {
     "data": {
      "text/html": [
       "<span style=\"None\">Running query in &#x27;duckdb&#x27;</span>"
      ],
      "text/plain": [
       "Running query in 'duckdb'"
      ]
     },
     "metadata": {},
     "output_type": "display_data"
    }
   ],
   "source": [
    "%%sql\n",
    "one_review_df <<\n",
    "SELECT podcast_id, podcast, COUNT(review_title) AS num_of_reviews\n",
    "FROM df\n",
    "GROUP BY podcast, podcast_id\n",
    "ORDER BY num_of_reviews DESC"
   ]
  },
  {
   "cell_type": "code",
   "execution_count": 40,
   "metadata": {},
   "outputs": [
    {
     "data": {
      "text/html": [
       "<div>\n",
       "<style scoped>\n",
       "    .dataframe tbody tr th:only-of-type {\n",
       "        vertical-align: middle;\n",
       "    }\n",
       "\n",
       "    .dataframe tbody tr th {\n",
       "        vertical-align: top;\n",
       "    }\n",
       "\n",
       "    .dataframe thead th {\n",
       "        text-align: right;\n",
       "    }\n",
       "</style>\n",
       "<table border=\"1\" class=\"dataframe\">\n",
       "  <thead>\n",
       "    <tr style=\"text-align: right;\">\n",
       "      <th></th>\n",
       "      <th>podcast_id</th>\n",
       "      <th>podcast</th>\n",
       "      <th>num_of_reviews</th>\n",
       "    </tr>\n",
       "  </thead>\n",
       "  <tbody>\n",
       "    <tr>\n",
       "      <th>0</th>\n",
       "      <td>bf5bf76d5b6ffbf9a31bba4480383b7f</td>\n",
       "      <td>Crime Junkie</td>\n",
       "      <td>31052</td>\n",
       "    </tr>\n",
       "    <tr>\n",
       "      <th>1</th>\n",
       "      <td>bc5ddad3898e0973eb541577d1df8004</td>\n",
       "      <td>My Favorite Murder with Karen Kilgariff and Ge...</td>\n",
       "      <td>9727</td>\n",
       "    </tr>\n",
       "    <tr>\n",
       "      <th>2</th>\n",
       "      <td>f5fce0325ac6a4bf5e191d6608b95797</td>\n",
       "      <td>The Ben Shapiro Show</td>\n",
       "      <td>7464</td>\n",
       "    </tr>\n",
       "    <tr>\n",
       "      <th>3</th>\n",
       "      <td>b1a3eb2aa8e82ecbe9c91ed9a963c362</td>\n",
       "      <td>True Crime Obsessed</td>\n",
       "      <td>6677</td>\n",
       "    </tr>\n",
       "    <tr>\n",
       "      <th>4</th>\n",
       "      <td>bad6c91efdbee814db985c7a65199604</td>\n",
       "      <td>Wow in the World</td>\n",
       "      <td>5565</td>\n",
       "    </tr>\n",
       "    <tr>\n",
       "      <th>...</th>\n",
       "      <td>...</td>\n",
       "      <td>...</td>\n",
       "      <td>...</td>\n",
       "    </tr>\n",
       "    <tr>\n",
       "      <th>109989</th>\n",
       "      <td>fa3d0cc9b7b3010621c995da27c55315</td>\n",
       "      <td>Think For Yourself</td>\n",
       "      <td>1</td>\n",
       "    </tr>\n",
       "    <tr>\n",
       "      <th>109990</th>\n",
       "      <td>ffb5720165eef1ca97ca599c7da8d503</td>\n",
       "      <td>Think: Digital Futures</td>\n",
       "      <td>1</td>\n",
       "    </tr>\n",
       "    <tr>\n",
       "      <th>109991</th>\n",
       "      <td>d0baca131a9441d31a151a58c86b464e</td>\n",
       "      <td>ThinkRadio with Alan Wartes</td>\n",
       "      <td>1</td>\n",
       "    </tr>\n",
       "    <tr>\n",
       "      <th>109992</th>\n",
       "      <td>f5897d885d7c935d66caa6d8298504b7</td>\n",
       "      <td>ThinkTorah.org</td>\n",
       "      <td>1</td>\n",
       "    </tr>\n",
       "    <tr>\n",
       "      <th>109993</th>\n",
       "      <td>c0730bb60b712166533beff1661e6c84</td>\n",
       "      <td>Thinking Bee Podcast - Beekeeping and Agriculture</td>\n",
       "      <td>1</td>\n",
       "    </tr>\n",
       "  </tbody>\n",
       "</table>\n",
       "<p>109994 rows × 3 columns</p>\n",
       "</div>"
      ],
      "text/plain": [
       "                              podcast_id  \\\n",
       "0       bf5bf76d5b6ffbf9a31bba4480383b7f   \n",
       "1       bc5ddad3898e0973eb541577d1df8004   \n",
       "2       f5fce0325ac6a4bf5e191d6608b95797   \n",
       "3       b1a3eb2aa8e82ecbe9c91ed9a963c362   \n",
       "4       bad6c91efdbee814db985c7a65199604   \n",
       "...                                  ...   \n",
       "109989  fa3d0cc9b7b3010621c995da27c55315   \n",
       "109990  ffb5720165eef1ca97ca599c7da8d503   \n",
       "109991  d0baca131a9441d31a151a58c86b464e   \n",
       "109992  f5897d885d7c935d66caa6d8298504b7   \n",
       "109993  c0730bb60b712166533beff1661e6c84   \n",
       "\n",
       "                                                  podcast  num_of_reviews  \n",
       "0                                            Crime Junkie           31052  \n",
       "1       My Favorite Murder with Karen Kilgariff and Ge...            9727  \n",
       "2                                    The Ben Shapiro Show            7464  \n",
       "3                                     True Crime Obsessed            6677  \n",
       "4                                        Wow in the World            5565  \n",
       "...                                                   ...             ...  \n",
       "109989                                 Think For Yourself               1  \n",
       "109990                             Think: Digital Futures               1  \n",
       "109991                        ThinkRadio with Alan Wartes               1  \n",
       "109992                                     ThinkTorah.org               1  \n",
       "109993  Thinking Bee Podcast - Beekeeping and Agriculture               1  \n",
       "\n",
       "[109994 rows x 3 columns]"
      ]
     },
     "execution_count": 40,
     "metadata": {},
     "output_type": "execute_result"
    }
   ],
   "source": [
    "one_review_df"
   ]
  },
  {
   "cell_type": "markdown",
   "metadata": {},
   "source": [
    "Taking a second look into one of the \"review bombers\", it seems more likely that he is a passionate fan as the reviews are from different days and the content is different, initially based the first hypothesis on the title of the review being the same and overlooked some other factors, I would change this and maybe do some better filtering or not base the the analysis further down on only one review per author per podcast. \n",
    "\n",
    "A DISTINCT statement encapsulating podcast_id, author_id, title, content and rating would be a simple way of removing duplicated reviews or review bombings (I would not add created at in this DISTINCT statement as it is specific to the second, if I divided it into month, year and possibly date I would consider using time created without H:M:S)"
   ]
  },
  {
   "cell_type": "code",
   "execution_count": 41,
   "metadata": {},
   "outputs": [
    {
     "data": {
      "text/html": [
       "<div>\n",
       "<style scoped>\n",
       "    .dataframe tbody tr th:only-of-type {\n",
       "        vertical-align: middle;\n",
       "    }\n",
       "\n",
       "    .dataframe tbody tr th {\n",
       "        vertical-align: top;\n",
       "    }\n",
       "\n",
       "    .dataframe thead th {\n",
       "        text-align: right;\n",
       "    }\n",
       "</style>\n",
       "<table border=\"1\" class=\"dataframe\">\n",
       "  <thead>\n",
       "    <tr style=\"text-align: right;\">\n",
       "      <th></th>\n",
       "      <th>podcast_id</th>\n",
       "      <th>title</th>\n",
       "      <th>content</th>\n",
       "      <th>rating</th>\n",
       "      <th>author_id</th>\n",
       "      <th>created_at</th>\n",
       "    </tr>\n",
       "  </thead>\n",
       "  <tbody>\n",
       "    <tr>\n",
       "      <th>0</th>\n",
       "      <td>db93a05fe337aea2061b59c96e647100</td>\n",
       "      <td>Man...</td>\n",
       "      <td>I’m off the GRAM and now I cram grams.\\n\\n    ...</td>\n",
       "      <td>5</td>\n",
       "      <td>791F376ACA3C08D</td>\n",
       "      <td>2019-08-26T21:23:18-07:00</td>\n",
       "    </tr>\n",
       "    <tr>\n",
       "      <th>1</th>\n",
       "      <td>db93a05fe337aea2061b59c96e647100</td>\n",
       "      <td>CONFIDENCE</td>\n",
       "      <td>Is vey sexy...don’t ya think? PALANCE. You sme...</td>\n",
       "      <td>5</td>\n",
       "      <td>791F376ACA3C08D</td>\n",
       "      <td>2019-09-26T08:36:36-07:00</td>\n",
       "    </tr>\n",
       "    <tr>\n",
       "      <th>2</th>\n",
       "      <td>db93a05fe337aea2061b59c96e647100</td>\n",
       "      <td>Dear Joe,</td>\n",
       "      <td>I have a serious issue. I did some “rolling” l...</td>\n",
       "      <td>5</td>\n",
       "      <td>791F376ACA3C08D</td>\n",
       "      <td>2019-10-12T09:38:27-07:00</td>\n",
       "    </tr>\n",
       "    <tr>\n",
       "      <th>3</th>\n",
       "      <td>db93a05fe337aea2061b59c96e647100</td>\n",
       "      <td>Dear Joe,</td>\n",
       "      <td>You were much more handsome on NEWSRADIO. I do...</td>\n",
       "      <td>5</td>\n",
       "      <td>791F376ACA3C08D</td>\n",
       "      <td>2019-10-19T16:14:58-07:00</td>\n",
       "    </tr>\n",
       "    <tr>\n",
       "      <th>4</th>\n",
       "      <td>db93a05fe337aea2061b59c96e647100</td>\n",
       "      <td>Dear Joe,</td>\n",
       "      <td>Happy Halloween. You ought to pass out supplem...</td>\n",
       "      <td>5</td>\n",
       "      <td>791F376ACA3C08D</td>\n",
       "      <td>2019-10-26T15:34:47-07:00</td>\n",
       "    </tr>\n",
       "    <tr>\n",
       "      <th>...</th>\n",
       "      <td>...</td>\n",
       "      <td>...</td>\n",
       "      <td>...</td>\n",
       "      <td>...</td>\n",
       "      <td>...</td>\n",
       "      <td>...</td>\n",
       "    </tr>\n",
       "    <tr>\n",
       "      <th>61</th>\n",
       "      <td>db93a05fe337aea2061b59c96e647100</td>\n",
       "      <td>Dear Joe,</td>\n",
       "      <td>Your steadfast dedication to working out makes...</td>\n",
       "      <td>1</td>\n",
       "      <td>791F376ACA3C08D</td>\n",
       "      <td>2020-09-13T20:36:40-07:00</td>\n",
       "    </tr>\n",
       "    <tr>\n",
       "      <th>62</th>\n",
       "      <td>db93a05fe337aea2061b59c96e647100</td>\n",
       "      <td>Dear Joe,</td>\n",
       "      <td>To think some look at you as some modern day L...</td>\n",
       "      <td>1</td>\n",
       "      <td>791F376ACA3C08D</td>\n",
       "      <td>2020-09-24T18:57:56-07:00</td>\n",
       "    </tr>\n",
       "    <tr>\n",
       "      <th>63</th>\n",
       "      <td>db93a05fe337aea2061b59c96e647100</td>\n",
       "      <td>Dear Joe,</td>\n",
       "      <td>Your bloody, dry, and chapped lips are grossin...</td>\n",
       "      <td>1</td>\n",
       "      <td>791F376ACA3C08D</td>\n",
       "      <td>2020-10-03T18:59:43-07:00</td>\n",
       "    </tr>\n",
       "    <tr>\n",
       "      <th>64</th>\n",
       "      <td>db93a05fe337aea2061b59c96e647100</td>\n",
       "      <td>Dear Joe,</td>\n",
       "      <td>You and Maynard are complete TOOLS. 🕯\\n\\n     ...</td>\n",
       "      <td>1</td>\n",
       "      <td>791F376ACA3C08D</td>\n",
       "      <td>2020-10-23T16:41:32-07:00</td>\n",
       "    </tr>\n",
       "    <tr>\n",
       "      <th>65</th>\n",
       "      <td>db93a05fe337aea2061b59c96e647100</td>\n",
       "      <td>Dear Joe,</td>\n",
       "      <td>It’s getting to be that time of year again Joe...</td>\n",
       "      <td>1</td>\n",
       "      <td>791F376ACA3C08D</td>\n",
       "      <td>2020-11-13T18:29:28-07:00</td>\n",
       "    </tr>\n",
       "  </tbody>\n",
       "</table>\n",
       "<p>66 rows × 6 columns</p>\n",
       "</div>"
      ],
      "text/plain": [
       "                          podcast_id       title  \\\n",
       "0   db93a05fe337aea2061b59c96e647100      Man...   \n",
       "1   db93a05fe337aea2061b59c96e647100  CONFIDENCE   \n",
       "2   db93a05fe337aea2061b59c96e647100   Dear Joe,   \n",
       "3   db93a05fe337aea2061b59c96e647100   Dear Joe,   \n",
       "4   db93a05fe337aea2061b59c96e647100   Dear Joe,   \n",
       "..                               ...         ...   \n",
       "61  db93a05fe337aea2061b59c96e647100   Dear Joe,   \n",
       "62  db93a05fe337aea2061b59c96e647100   Dear Joe,   \n",
       "63  db93a05fe337aea2061b59c96e647100   Dear Joe,   \n",
       "64  db93a05fe337aea2061b59c96e647100   Dear Joe,   \n",
       "65  db93a05fe337aea2061b59c96e647100   Dear Joe,   \n",
       "\n",
       "                                              content  rating  \\\n",
       "0   I’m off the GRAM and now I cram grams.\\n\\n    ...       5   \n",
       "1   Is vey sexy...don’t ya think? PALANCE. You sme...       5   \n",
       "2   I have a serious issue. I did some “rolling” l...       5   \n",
       "3   You were much more handsome on NEWSRADIO. I do...       5   \n",
       "4   Happy Halloween. You ought to pass out supplem...       5   \n",
       "..                                                ...     ...   \n",
       "61  Your steadfast dedication to working out makes...       1   \n",
       "62  To think some look at you as some modern day L...       1   \n",
       "63  Your bloody, dry, and chapped lips are grossin...       1   \n",
       "64  You and Maynard are complete TOOLS. 🕯\\n\\n     ...       1   \n",
       "65  It’s getting to be that time of year again Joe...       1   \n",
       "\n",
       "          author_id                 created_at  \n",
       "0   791F376ACA3C08D  2019-08-26T21:23:18-07:00  \n",
       "1   791F376ACA3C08D  2019-09-26T08:36:36-07:00  \n",
       "2   791F376ACA3C08D  2019-10-12T09:38:27-07:00  \n",
       "3   791F376ACA3C08D  2019-10-19T16:14:58-07:00  \n",
       "4   791F376ACA3C08D  2019-10-26T15:34:47-07:00  \n",
       "..              ...                        ...  \n",
       "61  791F376ACA3C08D  2020-09-13T20:36:40-07:00  \n",
       "62  791F376ACA3C08D  2020-09-24T18:57:56-07:00  \n",
       "63  791F376ACA3C08D  2020-10-03T18:59:43-07:00  \n",
       "64  791F376ACA3C08D  2020-10-23T16:41:32-07:00  \n",
       "65  791F376ACA3C08D  2020-11-13T18:29:28-07:00  \n",
       "\n",
       "[66 rows x 6 columns]"
      ]
     },
     "execution_count": 41,
     "metadata": {},
     "output_type": "execute_result"
    }
   ],
   "source": [
    "cur = con.cursor()\n",
    "prompt = \"\"\"\n",
    "SELECT *\n",
    "FROM reviews\n",
    "WHERE author_id = '791F376ACA3C08D' AND podcast_id = 'db93a05fe337aea2061b59c96e647100'\n",
    "ORDER BY created_at\n",
    "LIMIT 100\n",
    "\"\"\"\n",
    "cur.execute(prompt)\n",
    "more_than_1_review = pd.DataFrame(cur.fetchall(), columns=[d[0] for d in cur.description])\n",
    "cur.close()\n",
    "more_than_1_review"
   ]
  },
  {
   "cell_type": "markdown",
   "metadata": {},
   "source": [
    "# Categories df"
   ]
  },
  {
   "cell_type": "code",
   "execution_count": 42,
   "metadata": {},
   "outputs": [
    {
     "data": {
      "text/html": [
       "<div>\n",
       "<style scoped>\n",
       "    .dataframe tbody tr th:only-of-type {\n",
       "        vertical-align: middle;\n",
       "    }\n",
       "\n",
       "    .dataframe tbody tr th {\n",
       "        vertical-align: top;\n",
       "    }\n",
       "\n",
       "    .dataframe thead th {\n",
       "        text-align: right;\n",
       "    }\n",
       "</style>\n",
       "<table border=\"1\" class=\"dataframe\">\n",
       "  <thead>\n",
       "    <tr style=\"text-align: right;\">\n",
       "      <th></th>\n",
       "      <th>podcast_id</th>\n",
       "      <th>category</th>\n",
       "    </tr>\n",
       "  </thead>\n",
       "  <tbody>\n",
       "    <tr>\n",
       "      <th>0</th>\n",
       "      <td>c61aa81c9b929a66f0c1db6cbe5d8548</td>\n",
       "      <td>arts</td>\n",
       "    </tr>\n",
       "    <tr>\n",
       "      <th>1</th>\n",
       "      <td>c61aa81c9b929a66f0c1db6cbe5d8548</td>\n",
       "      <td>arts-performing-arts</td>\n",
       "    </tr>\n",
       "    <tr>\n",
       "      <th>2</th>\n",
       "      <td>c61aa81c9b929a66f0c1db6cbe5d8548</td>\n",
       "      <td>music</td>\n",
       "    </tr>\n",
       "    <tr>\n",
       "      <th>3</th>\n",
       "      <td>ad4f2bf69c72b8db75978423c25f379e</td>\n",
       "      <td>arts</td>\n",
       "    </tr>\n",
       "    <tr>\n",
       "      <th>4</th>\n",
       "      <td>ad4f2bf69c72b8db75978423c25f379e</td>\n",
       "      <td>arts-design</td>\n",
       "    </tr>\n",
       "    <tr>\n",
       "      <th>...</th>\n",
       "      <td>...</td>\n",
       "      <td>...</td>\n",
       "    </tr>\n",
       "    <tr>\n",
       "      <th>212367</th>\n",
       "      <td>da8331a8fbbba6fe1e2653f2fa86e168</td>\n",
       "      <td>news</td>\n",
       "    </tr>\n",
       "    <tr>\n",
       "      <th>212368</th>\n",
       "      <td>da8331a8fbbba6fe1e2653f2fa86e168</td>\n",
       "      <td>news-news-commentary</td>\n",
       "    </tr>\n",
       "    <tr>\n",
       "      <th>212369</th>\n",
       "      <td>da8331a8fbbba6fe1e2653f2fa86e168</td>\n",
       "      <td>science</td>\n",
       "    </tr>\n",
       "    <tr>\n",
       "      <th>212370</th>\n",
       "      <td>d41b3b7b2413fcf202d8bef1512554dc</td>\n",
       "      <td>islam</td>\n",
       "    </tr>\n",
       "    <tr>\n",
       "      <th>212371</th>\n",
       "      <td>f22336d184d0c448c63a143abf5a83ab</td>\n",
       "      <td>arts</td>\n",
       "    </tr>\n",
       "  </tbody>\n",
       "</table>\n",
       "<p>212372 rows × 2 columns</p>\n",
       "</div>"
      ],
      "text/plain": [
       "                              podcast_id              category\n",
       "0       c61aa81c9b929a66f0c1db6cbe5d8548                  arts\n",
       "1       c61aa81c9b929a66f0c1db6cbe5d8548  arts-performing-arts\n",
       "2       c61aa81c9b929a66f0c1db6cbe5d8548                 music\n",
       "3       ad4f2bf69c72b8db75978423c25f379e                  arts\n",
       "4       ad4f2bf69c72b8db75978423c25f379e           arts-design\n",
       "...                                  ...                   ...\n",
       "212367  da8331a8fbbba6fe1e2653f2fa86e168                  news\n",
       "212368  da8331a8fbbba6fe1e2653f2fa86e168  news-news-commentary\n",
       "212369  da8331a8fbbba6fe1e2653f2fa86e168               science\n",
       "212370  d41b3b7b2413fcf202d8bef1512554dc                 islam\n",
       "212371  f22336d184d0c448c63a143abf5a83ab                  arts\n",
       "\n",
       "[212372 rows x 2 columns]"
      ]
     },
     "execution_count": 42,
     "metadata": {},
     "output_type": "execute_result"
    }
   ],
   "source": [
    "cur = con.cursor()\n",
    "prompt = \"\"\"\n",
    "SELECT *\n",
    "FROM categories\n",
    "\"\"\"\n",
    "cur.execute(prompt)\n",
    "categories_df = pd.DataFrame(cur.fetchall(), columns=[d[0] for d in cur.description])\n",
    "cur.close()\n",
    "categories_df"
   ]
  },
  {
   "cell_type": "markdown",
   "metadata": {},
   "source": [
    "### On average 1.93 categories per podcast (Don't confuse this with sub-categories)\n",
    "\n",
    "Eg. arts-performing-arts is one category"
   ]
  },
  {
   "cell_type": "code",
   "execution_count": 43,
   "metadata": {},
   "outputs": [
    {
     "data": {
      "text/html": [
       "<span style=\"None\">Running query in &#x27;duckdb&#x27;</span>"
      ],
      "text/plain": [
       "Running query in 'duckdb'"
      ]
     },
     "metadata": {},
     "output_type": "display_data"
    },
    {
     "data": {
      "text/html": [
       "<div>\n",
       "<style scoped>\n",
       "    .dataframe tbody tr th:only-of-type {\n",
       "        vertical-align: middle;\n",
       "    }\n",
       "\n",
       "    .dataframe tbody tr th {\n",
       "        vertical-align: top;\n",
       "    }\n",
       "\n",
       "    .dataframe thead th {\n",
       "        text-align: right;\n",
       "    }\n",
       "</style>\n",
       "<table border=\"1\" class=\"dataframe\">\n",
       "  <thead>\n",
       "    <tr style=\"text-align: right;\">\n",
       "      <th></th>\n",
       "      <th>count_podcast_category_combo</th>\n",
       "      <th>count_podcasts</th>\n",
       "      <th>average_category_per_podcast</th>\n",
       "    </tr>\n",
       "  </thead>\n",
       "  <tbody>\n",
       "    <tr>\n",
       "      <th>0</th>\n",
       "      <td>212372.0</td>\n",
       "      <td>109994</td>\n",
       "      <td>1.93076</td>\n",
       "    </tr>\n",
       "  </tbody>\n",
       "</table>\n",
       "</div>"
      ],
      "text/plain": [
       "   count_podcast_category_combo  count_podcasts  average_category_per_podcast\n",
       "0                      212372.0          109994                       1.93076"
      ]
     },
     "execution_count": 43,
     "metadata": {},
     "output_type": "execute_result"
    }
   ],
   "source": [
    "%%sql\n",
    "WITH t1 AS(\n",
    "SELECT SUM(category_count) AS count_podcast_category_combo\n",
    "FROM (\n",
    "SELECT podcast_id, COUNT(category) AS category_count\n",
    "FROM categories_df\n",
    "GROUP BY podcast_id)\n",
    "),\n",
    "t2 AS(\n",
    "SELECT COUNT(podcast_id) AS count_podcasts\n",
    "FROM one_review_df\n",
    ")\n",
    "SELECT t1.count_podcast_category_combo, count_podcasts, count_podcast_category_combo/count_podcasts AS average_category_per_podcast\n",
    "FROM t1\n",
    "CROSS JOIN t2"
   ]
  },
  {
   "cell_type": "markdown",
   "metadata": {},
   "source": [
    "Adding all categories for each podcast into one, there will be duplicated sub categories"
   ]
  },
  {
   "cell_type": "code",
   "execution_count": 44,
   "metadata": {},
   "outputs": [
    {
     "data": {
      "text/html": [
       "<span style=\"None\">Running query in &#x27;duckdb&#x27;</span>"
      ],
      "text/plain": [
       "Running query in 'duckdb'"
      ]
     },
     "metadata": {},
     "output_type": "display_data"
    }
   ],
   "source": [
    "%%sql\n",
    "duped_categories_df <<\n",
    "SELECT podcast_id, STRING_AGG(category, '-') AS category\n",
    "FROM categories_df\n",
    "GROUP BY podcast_id"
   ]
  },
  {
   "cell_type": "markdown",
   "metadata": {},
   "source": [
    "Split the one duped category into several columns which have one subcategory in it each"
   ]
  },
  {
   "cell_type": "code",
   "execution_count": 45,
   "metadata": {},
   "outputs": [
    {
     "data": {
      "text/html": [
       "<span style=\"None\">Running query in &#x27;duckdb&#x27;</span>"
      ],
      "text/plain": [
       "Running query in 'duckdb'"
      ]
     },
     "metadata": {},
     "output_type": "display_data"
    }
   ],
   "source": [
    "%%sql\n",
    "split_dupe_df <<\n",
    "SELECT\n",
    "podcast_id,\n",
    "SPLIT_PART(category, '-', 1) AS category1,\n",
    "SPLIT_PART(category, '-', 2) AS category2,\n",
    "SPLIT_PART(category, '-', 3) AS category3,\n",
    "SPLIT_PART(category, '-', 4) AS category4,\n",
    "SPLIT_PART(category, '-', 5) AS category5,\n",
    "SPLIT_PART(category, '-', 6) AS category6,\n",
    "SPLIT_PART(category, '-', 7) AS category7,\n",
    "SPLIT_PART(category, '-', 8) AS category8,\n",
    "SPLIT_PART(category, '-', 9) AS category9,\n",
    "SPLIT_PART(category, '-', 10) AS category10,\n",
    "SPLIT_PART(category, '-', 11) AS category11,\n",
    "SPLIT_PART(category, '-', 12) AS category12,\n",
    "SPLIT_PART(category, '-', 13) AS category13,\n",
    "SPLIT_PART(category, '-', 14) AS category14,\n",
    "SPLIT_PART(category, '-', 15) AS category15,\n",
    "SPLIT_PART(category, '-', 16) AS category16,\n",
    "SPLIT_PART(category, '-', 17) AS category17,\n",
    "SPLIT_PART(category, '-', 18) AS category18,\n",
    "SPLIT_PART(category, '-', 19) AS category19,\n",
    "SPLIT_PART(category, '-', 20) AS category20,\n",
    "FROM duped_categories_df\n",
    "ORDER BY category20 DESC\n"
   ]
  },
  {
   "cell_type": "markdown",
   "metadata": {},
   "source": [
    "If category have already appeared for the podcast leave it as an empty field"
   ]
  },
  {
   "cell_type": "code",
   "execution_count": 46,
   "metadata": {},
   "outputs": [
    {
     "data": {
      "text/html": [
       "<span style=\"None\">Running query in &#x27;duckdb&#x27;</span>"
      ],
      "text/plain": [
       "Running query in 'duckdb'"
      ]
     },
     "metadata": {},
     "output_type": "display_data"
    }
   ],
   "source": [
    "%%sql\n",
    "removed_dupe_cat_df <<\n",
    "SELECT podcast_id, category1 AS cat1,\n",
    "CASE WHEN TRIM(category2) = category1 THEN '' ELSE category2 END AS cat2,\n",
    "\n",
    "CASE WHEN TRIM(category3) = category1 OR TRIM(category3) = category2 THEN '' ELSE category3 END AS cat3,\n",
    "\n",
    "CASE WHEN TRIM(category4) = category1 OR TRIM(category4) = category2 OR TRIM(category4) = category3 THEN '' ELSE category4 END AS cat4,\n",
    "\n",
    "CASE WHEN TRIM(category5) = category1 OR TRIM(category5) = category2 OR TRIM(category5) = category3 OR TRIM(category5) = category4 THEN '' ELSE category5 END AS cat5,\n",
    "\n",
    "CASE WHEN TRIM(category6) = category1 OR TRIM(category6) = category2 OR TRIM(category6) = category3 OR TRIM(category6) = category4 OR TRIM(category6) = category5 THEN '' ELSE category6 END AS cat6,\n",
    "\n",
    "CASE WHEN TRIM(category7) = category1 OR TRIM(category7) = category2 OR TRIM(category7) = category3 OR TRIM(category7) = category4 OR TRIM(category7) = category5 OR TRIM(category7) = category6 THEN '' ELSE category7 END AS cat7,\n",
    "\n",
    "CASE WHEN TRIM(category8) = category1 OR TRIM(category8) = category2 OR TRIM(category8) = category3 OR TRIM(category8) = category4 OR TRIM(category8) = category5 OR TRIM(category8) = category6 OR TRIM(category8) = category7 THEN '' ELSE category8 END AS cat8,\n",
    "\n",
    "CASE WHEN TRIM(category9) = category1 OR TRIM(category9) = category2 OR TRIM(category9) = category3 OR TRIM(category9) = category4 OR TRIM(category9) = category5 OR TRIM(category9) = category6 OR TRIM(category9) = category7 OR TRIM(category9) = category8  THEN '' ELSE category9 END AS cat9,\n",
    "\n",
    "CASE WHEN TRIM(category10) = category1 OR TRIM(category10) = category2 OR TRIM(category10) = category3 OR TRIM(category10) = category4 OR TRIM(category10) = category5 OR TRIM(category10) = category6 OR TRIM(category10) = category7 OR TRIM(category10) = category8  OR TRIM(category10) = category9 THEN '' ELSE category10 END AS cat10,\n",
    "\n",
    "CASE WHEN TRIM(category11) = category1 OR TRIM(category11) = category2 OR TRIM(category11) = category3 OR TRIM(category11) = category4 OR TRIM(category11) = category5 OR TRIM(category11) = category6 OR TRIM(category11) = category7 OR TRIM(category11) = category8  OR TRIM(category11) = category9 OR TRIM(category11) = category10 THEN '' ELSE category11 END AS cat11,\n",
    "\n",
    "CASE WHEN TRIM(category12) = category1 OR TRIM(category12) = category2 OR TRIM(category12) = category3 OR TRIM(category12) = category4 OR TRIM(category12) = category5 OR TRIM(category12) = category6 OR TRIM(category12) = category7 OR TRIM(category12) = category8  OR TRIM(category12) = category9 OR TRIM(category12) = category10 OR TRIM(category12) = category11 THEN '' ELSE category12 END AS cat12,\n",
    "\n",
    "CASE WHEN TRIM(category13) = category1 OR TRIM(category13) = category2 OR TRIM(category13) = category3 OR TRIM(category13) = category4 OR TRIM(category13) = category5 OR TRIM(category13) = category6 OR TRIM(category13) = category7 OR TRIM(category13) = category8  OR TRIM(category13) = category9 OR TRIM(category13) = category10 OR TRIM(category13) = category11 OR TRIM(category13) = category12 THEN '' ELSE category13 END AS cat13,\n",
    "\n",
    "CASE WHEN TRIM(category14) = category1 OR TRIM(category14) = category2 OR TRIM(category14) = category3 OR TRIM(category14) = category4 OR TRIM(category14) = category5 OR TRIM(category14) = category6 OR TRIM(category14) = category7 OR TRIM(category14) = category8  OR TRIM(category14) = category9 OR TRIM(category14) = category10 OR TRIM(category14) = category11 OR TRIM(category14) = category12 OR TRIM(category14) = category13 THEN '' ELSE category14 END AS cat14,\n",
    "\n",
    "CASE WHEN TRIM(category15) = category1 OR TRIM(category15) = category2 OR TRIM(category15) = category3 OR TRIM(category15) = category4 OR TRIM(category15) = category5 OR TRIM(category15) = category6 OR TRIM(category15) = category7 OR TRIM(category15) = category8  OR TRIM(category15) = category9 OR TRIM(category15) = category10 OR TRIM(category15) = category11 OR TRIM(category15) = category12 OR TRIM(category15) = category13 OR TRIM(category15) = category14 THEN '' ELSE category15 END AS cat15,\n",
    "\n",
    "CASE WHEN TRIM(category16) = category1 OR TRIM(category16) = category2 OR TRIM(category16) = category3 OR TRIM(category16) = category4 OR TRIM(category16) = category5 OR TRIM(category16) = category6 OR TRIM(category16) = category7 OR TRIM(category16) = category8  OR TRIM(category16) = category9 OR TRIM(category16) = category10 OR TRIM(category16) = category11 OR TRIM(category16) = category12 OR TRIM(category16) = category13 OR TRIM(category16) = category14 OR TRIM(category16) = category15 THEN '' ELSE category16 END AS cat16,\n",
    "\n",
    "CASE WHEN TRIM(category17) = category1 OR TRIM(category17) = category2 OR TRIM(category17) = category3 OR TRIM(category17) = category4 OR TRIM(category17) = category5 OR TRIM(category17) = category6 OR TRIM(category17) = category7 OR TRIM(category17) = category8  OR TRIM(category17) = category9 OR TRIM(category17) = category10 OR TRIM(category17) = category11 OR TRIM(category17) = category12 OR TRIM(category17) = category13 OR TRIM(category17) = category14 OR TRIM(category17) = category15 OR TRIM(category17) = category16 THEN '' ELSE category17 END AS cat17,\n",
    "\n",
    "CASE WHEN TRIM(category18) = category1 OR TRIM(category18) = category2 OR TRIM(category18) = category3 OR TRIM(category18) = category4 OR TRIM(category18) = category5 OR TRIM(category18) = category6 OR TRIM(category18) = category7 OR TRIM(category18) = category8  OR TRIM(category18) = category9 OR TRIM(category18) = category10 OR TRIM(category18) = category11 OR TRIM(category18) = category12 OR TRIM(category18) = category13 OR TRIM(category18) = category14 OR TRIM(category18) = category15 OR TRIM(category18) = category16 OR TRIM(category18) = category17 THEN '' ELSE category18 END AS cat18,\n",
    "\n",
    "CASE WHEN TRIM(category19) = category1 OR TRIM(category19) = category2 OR TRIM(category19) = category3 OR TRIM(category19) = category4 OR TRIM(category19) = category5 OR TRIM(category19) = category6 OR TRIM(category19) = category7 OR TRIM(category19) = category8  OR TRIM(category19) = category9 OR TRIM(category19) = category10 OR TRIM(category19) = category11 OR TRIM(category19) = category12 OR TRIM(category19) = category13 OR TRIM(category19) = category14 OR TRIM(category19) = category15 OR TRIM(category19) = category16 OR TRIM(category19) = category17 OR TRIM(category19) = category18 THEN '' ELSE category19 END AS cat19,\n",
    "\n",
    "CASE WHEN TRIM(category20) = category1 OR TRIM(category20) = category2 OR TRIM(category20) = category3 OR TRIM(category20) = category4 OR TRIM(category20) = category5 OR TRIM(category20) = category6 OR TRIM(category20) = category7 OR TRIM(category20) = category8  OR TRIM(category20) = category9 OR TRIM(category20) = category10 OR TRIM(category20) = category11 OR TRIM(category20) = category12 OR TRIM(category20) = category13 OR TRIM(category20) = category14 OR TRIM(category20) = category15 OR TRIM(category20) = category16 OR TRIM(category20) = category17 OR TRIM(category20) = category18 OR TRIM(category20) = category19 THEN '' ELSE category20 END AS cat20,\n",
    "FROM split_dupe_df"
   ]
  },
  {
   "cell_type": "code",
   "execution_count": 47,
   "metadata": {},
   "outputs": [
    {
     "data": {
      "text/html": [
       "<div>\n",
       "<style scoped>\n",
       "    .dataframe tbody tr th:only-of-type {\n",
       "        vertical-align: middle;\n",
       "    }\n",
       "\n",
       "    .dataframe tbody tr th {\n",
       "        vertical-align: top;\n",
       "    }\n",
       "\n",
       "    .dataframe thead th {\n",
       "        text-align: right;\n",
       "    }\n",
       "</style>\n",
       "<table border=\"1\" class=\"dataframe\">\n",
       "  <thead>\n",
       "    <tr style=\"text-align: right;\">\n",
       "      <th></th>\n",
       "      <th>podcast_id</th>\n",
       "      <th>cat1</th>\n",
       "      <th>cat2</th>\n",
       "      <th>cat3</th>\n",
       "      <th>cat4</th>\n",
       "      <th>cat5</th>\n",
       "      <th>cat6</th>\n",
       "      <th>cat7</th>\n",
       "      <th>cat8</th>\n",
       "      <th>cat9</th>\n",
       "      <th>...</th>\n",
       "      <th>cat11</th>\n",
       "      <th>cat12</th>\n",
       "      <th>cat13</th>\n",
       "      <th>cat14</th>\n",
       "      <th>cat15</th>\n",
       "      <th>cat16</th>\n",
       "      <th>cat17</th>\n",
       "      <th>cat18</th>\n",
       "      <th>cat19</th>\n",
       "      <th>cat20</th>\n",
       "    </tr>\n",
       "  </thead>\n",
       "  <tbody>\n",
       "    <tr>\n",
       "      <th>0</th>\n",
       "      <td>fa8c359031380cd4f3b38358c8a75f92</td>\n",
       "      <td>business</td>\n",
       "      <td></td>\n",
       "      <td>careers</td>\n",
       "      <td>education</td>\n",
       "      <td></td>\n",
       "      <td>self</td>\n",
       "      <td>improvement</td>\n",
       "      <td>society</td>\n",
       "      <td>culture</td>\n",
       "      <td>...</td>\n",
       "      <td></td>\n",
       "      <td>personal</td>\n",
       "      <td>journals</td>\n",
       "      <td></td>\n",
       "      <td></td>\n",
       "      <td>philosophy</td>\n",
       "      <td></td>\n",
       "      <td></td>\n",
       "      <td>places</td>\n",
       "      <td>travel</td>\n",
       "    </tr>\n",
       "    <tr>\n",
       "      <th>1</th>\n",
       "      <td>fbd39776094ee5e641ecaf1ff971c388</td>\n",
       "      <td>health</td>\n",
       "      <td>fitness</td>\n",
       "      <td></td>\n",
       "      <td></td>\n",
       "      <td></td>\n",
       "      <td></td>\n",
       "      <td></td>\n",
       "      <td></td>\n",
       "      <td></td>\n",
       "      <td>...</td>\n",
       "      <td></td>\n",
       "      <td></td>\n",
       "      <td></td>\n",
       "      <td></td>\n",
       "      <td></td>\n",
       "      <td></td>\n",
       "      <td></td>\n",
       "      <td></td>\n",
       "      <td></td>\n",
       "      <td></td>\n",
       "    </tr>\n",
       "    <tr>\n",
       "      <th>2</th>\n",
       "      <td>d277dc926e46ff187defb6828c6bf961</td>\n",
       "      <td>spirituality</td>\n",
       "      <td></td>\n",
       "      <td></td>\n",
       "      <td></td>\n",
       "      <td></td>\n",
       "      <td></td>\n",
       "      <td></td>\n",
       "      <td></td>\n",
       "      <td></td>\n",
       "      <td>...</td>\n",
       "      <td></td>\n",
       "      <td></td>\n",
       "      <td></td>\n",
       "      <td></td>\n",
       "      <td></td>\n",
       "      <td></td>\n",
       "      <td></td>\n",
       "      <td></td>\n",
       "      <td></td>\n",
       "      <td></td>\n",
       "    </tr>\n",
       "    <tr>\n",
       "      <th>3</th>\n",
       "      <td>a68a77d4295d482d0ddba9e857cc1234</td>\n",
       "      <td>education</td>\n",
       "      <td></td>\n",
       "      <td></td>\n",
       "      <td></td>\n",
       "      <td></td>\n",
       "      <td></td>\n",
       "      <td></td>\n",
       "      <td></td>\n",
       "      <td></td>\n",
       "      <td>...</td>\n",
       "      <td></td>\n",
       "      <td></td>\n",
       "      <td></td>\n",
       "      <td></td>\n",
       "      <td></td>\n",
       "      <td></td>\n",
       "      <td></td>\n",
       "      <td></td>\n",
       "      <td></td>\n",
       "      <td></td>\n",
       "    </tr>\n",
       "    <tr>\n",
       "      <th>4</th>\n",
       "      <td>b221de67cf9ca5ca418b1f0c1e78dc9d</td>\n",
       "      <td>education</td>\n",
       "      <td></td>\n",
       "      <td></td>\n",
       "      <td></td>\n",
       "      <td></td>\n",
       "      <td></td>\n",
       "      <td></td>\n",
       "      <td></td>\n",
       "      <td></td>\n",
       "      <td>...</td>\n",
       "      <td></td>\n",
       "      <td></td>\n",
       "      <td></td>\n",
       "      <td></td>\n",
       "      <td></td>\n",
       "      <td></td>\n",
       "      <td></td>\n",
       "      <td></td>\n",
       "      <td></td>\n",
       "      <td></td>\n",
       "    </tr>\n",
       "    <tr>\n",
       "      <th>...</th>\n",
       "      <td>...</td>\n",
       "      <td>...</td>\n",
       "      <td>...</td>\n",
       "      <td>...</td>\n",
       "      <td>...</td>\n",
       "      <td>...</td>\n",
       "      <td>...</td>\n",
       "      <td>...</td>\n",
       "      <td>...</td>\n",
       "      <td>...</td>\n",
       "      <td>...</td>\n",
       "      <td>...</td>\n",
       "      <td>...</td>\n",
       "      <td>...</td>\n",
       "      <td>...</td>\n",
       "      <td>...</td>\n",
       "      <td>...</td>\n",
       "      <td>...</td>\n",
       "      <td>...</td>\n",
       "      <td>...</td>\n",
       "      <td>...</td>\n",
       "    </tr>\n",
       "    <tr>\n",
       "      <th>110019</th>\n",
       "      <td>fbc7c1c216bea70d42f40ea6ff57ec25</td>\n",
       "      <td>society</td>\n",
       "      <td>culture</td>\n",
       "      <td></td>\n",
       "      <td></td>\n",
       "      <td>documentary</td>\n",
       "      <td></td>\n",
       "      <td></td>\n",
       "      <td>personal</td>\n",
       "      <td>journals</td>\n",
       "      <td>...</td>\n",
       "      <td></td>\n",
       "      <td></td>\n",
       "      <td></td>\n",
       "      <td></td>\n",
       "      <td></td>\n",
       "      <td></td>\n",
       "      <td></td>\n",
       "      <td></td>\n",
       "      <td></td>\n",
       "      <td></td>\n",
       "    </tr>\n",
       "    <tr>\n",
       "      <th>110020</th>\n",
       "      <td>fbccd2dfefdcd6bf61e21da3bb735c8f</td>\n",
       "      <td>sports</td>\n",
       "      <td></td>\n",
       "      <td></td>\n",
       "      <td></td>\n",
       "      <td></td>\n",
       "      <td></td>\n",
       "      <td></td>\n",
       "      <td></td>\n",
       "      <td></td>\n",
       "      <td>...</td>\n",
       "      <td></td>\n",
       "      <td></td>\n",
       "      <td></td>\n",
       "      <td></td>\n",
       "      <td></td>\n",
       "      <td></td>\n",
       "      <td></td>\n",
       "      <td></td>\n",
       "      <td></td>\n",
       "      <td></td>\n",
       "    </tr>\n",
       "    <tr>\n",
       "      <th>110021</th>\n",
       "      <td>e13c8b732ccf065b819c372d8e117408</td>\n",
       "      <td>comedy</td>\n",
       "      <td></td>\n",
       "      <td></td>\n",
       "      <td></td>\n",
       "      <td></td>\n",
       "      <td></td>\n",
       "      <td></td>\n",
       "      <td></td>\n",
       "      <td></td>\n",
       "      <td>...</td>\n",
       "      <td></td>\n",
       "      <td></td>\n",
       "      <td></td>\n",
       "      <td></td>\n",
       "      <td></td>\n",
       "      <td></td>\n",
       "      <td></td>\n",
       "      <td></td>\n",
       "      <td></td>\n",
       "      <td></td>\n",
       "    </tr>\n",
       "    <tr>\n",
       "      <th>110022</th>\n",
       "      <td>e13ff9e8e236ec15c651860c372ba293</td>\n",
       "      <td>arts</td>\n",
       "      <td></td>\n",
       "      <td></td>\n",
       "      <td></td>\n",
       "      <td></td>\n",
       "      <td></td>\n",
       "      <td></td>\n",
       "      <td></td>\n",
       "      <td></td>\n",
       "      <td>...</td>\n",
       "      <td></td>\n",
       "      <td></td>\n",
       "      <td></td>\n",
       "      <td></td>\n",
       "      <td></td>\n",
       "      <td></td>\n",
       "      <td></td>\n",
       "      <td></td>\n",
       "      <td></td>\n",
       "      <td></td>\n",
       "    </tr>\n",
       "    <tr>\n",
       "      <th>110023</th>\n",
       "      <td>bbc41fc0b4cb9431aeb97b3e6e804394</td>\n",
       "      <td>health</td>\n",
       "      <td>fitness</td>\n",
       "      <td></td>\n",
       "      <td></td>\n",
       "      <td>mental</td>\n",
       "      <td></td>\n",
       "      <td>kids</td>\n",
       "      <td>family</td>\n",
       "      <td></td>\n",
       "      <td>...</td>\n",
       "      <td>parenting</td>\n",
       "      <td></td>\n",
       "      <td></td>\n",
       "      <td></td>\n",
       "      <td></td>\n",
       "      <td></td>\n",
       "      <td></td>\n",
       "      <td></td>\n",
       "      <td></td>\n",
       "      <td></td>\n",
       "    </tr>\n",
       "  </tbody>\n",
       "</table>\n",
       "<p>110024 rows × 21 columns</p>\n",
       "</div>"
      ],
      "text/plain": [
       "                              podcast_id          cat1     cat2     cat3  \\\n",
       "0       fa8c359031380cd4f3b38358c8a75f92      business           careers   \n",
       "1       fbd39776094ee5e641ecaf1ff971c388        health  fitness            \n",
       "2       d277dc926e46ff187defb6828c6bf961  spirituality                     \n",
       "3       a68a77d4295d482d0ddba9e857cc1234     education                     \n",
       "4       b221de67cf9ca5ca418b1f0c1e78dc9d     education                     \n",
       "...                                  ...           ...      ...      ...   \n",
       "110019  fbc7c1c216bea70d42f40ea6ff57ec25       society  culture            \n",
       "110020  fbccd2dfefdcd6bf61e21da3bb735c8f        sports                     \n",
       "110021  e13c8b732ccf065b819c372d8e117408        comedy                     \n",
       "110022  e13ff9e8e236ec15c651860c372ba293          arts                     \n",
       "110023  bbc41fc0b4cb9431aeb97b3e6e804394        health  fitness            \n",
       "\n",
       "             cat4         cat5  cat6         cat7      cat8      cat9  ...  \\\n",
       "0       education               self  improvement   society   culture  ...   \n",
       "1                                                                      ...   \n",
       "2                                                                      ...   \n",
       "3                                                                      ...   \n",
       "4                                                                      ...   \n",
       "...           ...          ...   ...          ...       ...       ...  ...   \n",
       "110019             documentary                     personal  journals  ...   \n",
       "110020                                                                 ...   \n",
       "110021                                                                 ...   \n",
       "110022                                                                 ...   \n",
       "110023                  mental               kids    family            ...   \n",
       "\n",
       "            cat11     cat12     cat13 cat14 cat15       cat16 cat17 cat18  \\\n",
       "0                  personal  journals              philosophy               \n",
       "1                                                                           \n",
       "2                                                                           \n",
       "3                                                                           \n",
       "4                                                                           \n",
       "...           ...       ...       ...   ...   ...         ...   ...   ...   \n",
       "110019                                                                      \n",
       "110020                                                                      \n",
       "110021                                                                      \n",
       "110022                                                                      \n",
       "110023  parenting                                                           \n",
       "\n",
       "         cat19   cat20  \n",
       "0       places  travel  \n",
       "1                       \n",
       "2                       \n",
       "3                       \n",
       "4                       \n",
       "...        ...     ...  \n",
       "110019                  \n",
       "110020                  \n",
       "110021                  \n",
       "110022                  \n",
       "110023                  \n",
       "\n",
       "[110024 rows x 21 columns]"
      ]
     },
     "execution_count": 47,
     "metadata": {},
     "output_type": "execute_result"
    }
   ],
   "source": [
    "removed_dupe_cat_df"
   ]
  },
  {
   "cell_type": "markdown",
   "metadata": {},
   "source": [
    "Turning all empty fields into Null values"
   ]
  },
  {
   "cell_type": "code",
   "execution_count": 48,
   "metadata": {},
   "outputs": [
    {
     "data": {
      "text/html": [
       "<span style=\"None\">Running query in &#x27;duckdb&#x27;</span>"
      ],
      "text/plain": [
       "Running query in 'duckdb'"
      ]
     },
     "metadata": {},
     "output_type": "display_data"
    }
   ],
   "source": [
    "%%sql\n",
    "combined_removed_dupe_df <<\n",
    "SELECT podcast_id, \n",
    "CASE WHEN TRIM(cat1) = '' THEN NULL ELSE cat1 END as category1,\n",
    "CASE WHEN TRIM(cat2) = '' THEN NULL ELSE cat2 END as category2,\n",
    "CASE WHEN TRIM(cat3) = '' THEN NULL ELSE cat3 END as category3,\n",
    "CASE WHEN TRIM(cat4) = '' THEN NULL ELSE cat4 END as category4,\n",
    "CASE WHEN TRIM(cat5) = '' THEN NULL ELSE cat5 END as category5,\n",
    "CASE WHEN TRIM(cat6) = '' THEN NULL ELSE cat6 END as category6,\n",
    "CASE WHEN TRIM(cat7) = '' THEN NULL ELSE cat7 END as category7,\n",
    "CASE WHEN TRIM(cat8) = '' THEN NULL ELSE cat8 END as category8,\n",
    "CASE WHEN TRIM(cat9) = '' THEN NULL ELSE cat9 END as category9,\n",
    "CASE WHEN TRIM(cat10) = '' THEN NULL ELSE cat10 END as category10,\n",
    "CASE WHEN TRIM(cat11) = '' THEN NULL ELSE cat11 END as category11,\n",
    "CASE WHEN TRIM(cat12) = '' THEN NULL ELSE cat12 END as category12,\n",
    "CASE WHEN TRIM(cat13) = '' THEN NULL ELSE cat13 END as category13,\n",
    "CASE WHEN TRIM(cat14) = '' THEN NULL ELSE cat14 END as category14,\n",
    "CASE WHEN TRIM(cat15) = '' THEN NULL ELSE cat15 END as category15,\n",
    "CASE WHEN TRIM(cat16) = '' THEN NULL ELSE cat16 END as category16,\n",
    "CASE WHEN TRIM(cat17) = '' THEN NULL ELSE cat16 END as category17,\n",
    "CASE WHEN TRIM(cat18) = '' THEN NULL ELSE cat16 END as category18,\n",
    "CASE WHEN TRIM(cat19) = '' THEN NULL ELSE cat16 END as category19,\n",
    "CASE WHEN TRIM(cat20) = '' THEN NULL ELSE cat16 END as category20,\n",
    "FROM removed_dupe_cat_df"
   ]
  },
  {
   "cell_type": "code",
   "execution_count": 49,
   "metadata": {},
   "outputs": [
    {
     "data": {
      "text/html": [
       "<div>\n",
       "<style scoped>\n",
       "    .dataframe tbody tr th:only-of-type {\n",
       "        vertical-align: middle;\n",
       "    }\n",
       "\n",
       "    .dataframe tbody tr th {\n",
       "        vertical-align: top;\n",
       "    }\n",
       "\n",
       "    .dataframe thead th {\n",
       "        text-align: right;\n",
       "    }\n",
       "</style>\n",
       "<table border=\"1\" class=\"dataframe\">\n",
       "  <thead>\n",
       "    <tr style=\"text-align: right;\">\n",
       "      <th></th>\n",
       "      <th>podcast_id</th>\n",
       "      <th>category1</th>\n",
       "      <th>category2</th>\n",
       "      <th>category3</th>\n",
       "      <th>category4</th>\n",
       "      <th>category5</th>\n",
       "      <th>category6</th>\n",
       "      <th>category7</th>\n",
       "      <th>category8</th>\n",
       "      <th>category9</th>\n",
       "      <th>...</th>\n",
       "      <th>category11</th>\n",
       "      <th>category12</th>\n",
       "      <th>category13</th>\n",
       "      <th>category14</th>\n",
       "      <th>category15</th>\n",
       "      <th>category16</th>\n",
       "      <th>category17</th>\n",
       "      <th>category18</th>\n",
       "      <th>category19</th>\n",
       "      <th>category20</th>\n",
       "    </tr>\n",
       "  </thead>\n",
       "  <tbody>\n",
       "    <tr>\n",
       "      <th>0</th>\n",
       "      <td>fa8c359031380cd4f3b38358c8a75f92</td>\n",
       "      <td>business</td>\n",
       "      <td>None</td>\n",
       "      <td>careers</td>\n",
       "      <td>education</td>\n",
       "      <td>None</td>\n",
       "      <td>self</td>\n",
       "      <td>improvement</td>\n",
       "      <td>society</td>\n",
       "      <td>culture</td>\n",
       "      <td>...</td>\n",
       "      <td>None</td>\n",
       "      <td>personal</td>\n",
       "      <td>journals</td>\n",
       "      <td>None</td>\n",
       "      <td>None</td>\n",
       "      <td>philosophy</td>\n",
       "      <td>None</td>\n",
       "      <td>None</td>\n",
       "      <td>philosophy</td>\n",
       "      <td>philosophy</td>\n",
       "    </tr>\n",
       "    <tr>\n",
       "      <th>1</th>\n",
       "      <td>fbd39776094ee5e641ecaf1ff971c388</td>\n",
       "      <td>health</td>\n",
       "      <td>fitness</td>\n",
       "      <td>None</td>\n",
       "      <td>None</td>\n",
       "      <td>None</td>\n",
       "      <td>None</td>\n",
       "      <td>None</td>\n",
       "      <td>None</td>\n",
       "      <td>None</td>\n",
       "      <td>...</td>\n",
       "      <td>None</td>\n",
       "      <td>None</td>\n",
       "      <td>None</td>\n",
       "      <td>None</td>\n",
       "      <td>None</td>\n",
       "      <td>None</td>\n",
       "      <td>None</td>\n",
       "      <td>None</td>\n",
       "      <td>None</td>\n",
       "      <td>None</td>\n",
       "    </tr>\n",
       "    <tr>\n",
       "      <th>2</th>\n",
       "      <td>d277dc926e46ff187defb6828c6bf961</td>\n",
       "      <td>spirituality</td>\n",
       "      <td>None</td>\n",
       "      <td>None</td>\n",
       "      <td>None</td>\n",
       "      <td>None</td>\n",
       "      <td>None</td>\n",
       "      <td>None</td>\n",
       "      <td>None</td>\n",
       "      <td>None</td>\n",
       "      <td>...</td>\n",
       "      <td>None</td>\n",
       "      <td>None</td>\n",
       "      <td>None</td>\n",
       "      <td>None</td>\n",
       "      <td>None</td>\n",
       "      <td>None</td>\n",
       "      <td>None</td>\n",
       "      <td>None</td>\n",
       "      <td>None</td>\n",
       "      <td>None</td>\n",
       "    </tr>\n",
       "    <tr>\n",
       "      <th>3</th>\n",
       "      <td>a68a77d4295d482d0ddba9e857cc1234</td>\n",
       "      <td>education</td>\n",
       "      <td>None</td>\n",
       "      <td>None</td>\n",
       "      <td>None</td>\n",
       "      <td>None</td>\n",
       "      <td>None</td>\n",
       "      <td>None</td>\n",
       "      <td>None</td>\n",
       "      <td>None</td>\n",
       "      <td>...</td>\n",
       "      <td>None</td>\n",
       "      <td>None</td>\n",
       "      <td>None</td>\n",
       "      <td>None</td>\n",
       "      <td>None</td>\n",
       "      <td>None</td>\n",
       "      <td>None</td>\n",
       "      <td>None</td>\n",
       "      <td>None</td>\n",
       "      <td>None</td>\n",
       "    </tr>\n",
       "    <tr>\n",
       "      <th>4</th>\n",
       "      <td>b221de67cf9ca5ca418b1f0c1e78dc9d</td>\n",
       "      <td>education</td>\n",
       "      <td>None</td>\n",
       "      <td>None</td>\n",
       "      <td>None</td>\n",
       "      <td>None</td>\n",
       "      <td>None</td>\n",
       "      <td>None</td>\n",
       "      <td>None</td>\n",
       "      <td>None</td>\n",
       "      <td>...</td>\n",
       "      <td>None</td>\n",
       "      <td>None</td>\n",
       "      <td>None</td>\n",
       "      <td>None</td>\n",
       "      <td>None</td>\n",
       "      <td>None</td>\n",
       "      <td>None</td>\n",
       "      <td>None</td>\n",
       "      <td>None</td>\n",
       "      <td>None</td>\n",
       "    </tr>\n",
       "    <tr>\n",
       "      <th>...</th>\n",
       "      <td>...</td>\n",
       "      <td>...</td>\n",
       "      <td>...</td>\n",
       "      <td>...</td>\n",
       "      <td>...</td>\n",
       "      <td>...</td>\n",
       "      <td>...</td>\n",
       "      <td>...</td>\n",
       "      <td>...</td>\n",
       "      <td>...</td>\n",
       "      <td>...</td>\n",
       "      <td>...</td>\n",
       "      <td>...</td>\n",
       "      <td>...</td>\n",
       "      <td>...</td>\n",
       "      <td>...</td>\n",
       "      <td>...</td>\n",
       "      <td>...</td>\n",
       "      <td>...</td>\n",
       "      <td>...</td>\n",
       "      <td>...</td>\n",
       "    </tr>\n",
       "    <tr>\n",
       "      <th>110019</th>\n",
       "      <td>fbc7c1c216bea70d42f40ea6ff57ec25</td>\n",
       "      <td>society</td>\n",
       "      <td>culture</td>\n",
       "      <td>None</td>\n",
       "      <td>None</td>\n",
       "      <td>documentary</td>\n",
       "      <td>None</td>\n",
       "      <td>None</td>\n",
       "      <td>personal</td>\n",
       "      <td>journals</td>\n",
       "      <td>...</td>\n",
       "      <td>None</td>\n",
       "      <td>None</td>\n",
       "      <td>None</td>\n",
       "      <td>None</td>\n",
       "      <td>None</td>\n",
       "      <td>None</td>\n",
       "      <td>None</td>\n",
       "      <td>None</td>\n",
       "      <td>None</td>\n",
       "      <td>None</td>\n",
       "    </tr>\n",
       "    <tr>\n",
       "      <th>110020</th>\n",
       "      <td>fbccd2dfefdcd6bf61e21da3bb735c8f</td>\n",
       "      <td>sports</td>\n",
       "      <td>None</td>\n",
       "      <td>None</td>\n",
       "      <td>None</td>\n",
       "      <td>None</td>\n",
       "      <td>None</td>\n",
       "      <td>None</td>\n",
       "      <td>None</td>\n",
       "      <td>None</td>\n",
       "      <td>...</td>\n",
       "      <td>None</td>\n",
       "      <td>None</td>\n",
       "      <td>None</td>\n",
       "      <td>None</td>\n",
       "      <td>None</td>\n",
       "      <td>None</td>\n",
       "      <td>None</td>\n",
       "      <td>None</td>\n",
       "      <td>None</td>\n",
       "      <td>None</td>\n",
       "    </tr>\n",
       "    <tr>\n",
       "      <th>110021</th>\n",
       "      <td>e13c8b732ccf065b819c372d8e117408</td>\n",
       "      <td>comedy</td>\n",
       "      <td>None</td>\n",
       "      <td>None</td>\n",
       "      <td>None</td>\n",
       "      <td>None</td>\n",
       "      <td>None</td>\n",
       "      <td>None</td>\n",
       "      <td>None</td>\n",
       "      <td>None</td>\n",
       "      <td>...</td>\n",
       "      <td>None</td>\n",
       "      <td>None</td>\n",
       "      <td>None</td>\n",
       "      <td>None</td>\n",
       "      <td>None</td>\n",
       "      <td>None</td>\n",
       "      <td>None</td>\n",
       "      <td>None</td>\n",
       "      <td>None</td>\n",
       "      <td>None</td>\n",
       "    </tr>\n",
       "    <tr>\n",
       "      <th>110022</th>\n",
       "      <td>e13ff9e8e236ec15c651860c372ba293</td>\n",
       "      <td>arts</td>\n",
       "      <td>None</td>\n",
       "      <td>None</td>\n",
       "      <td>None</td>\n",
       "      <td>None</td>\n",
       "      <td>None</td>\n",
       "      <td>None</td>\n",
       "      <td>None</td>\n",
       "      <td>None</td>\n",
       "      <td>...</td>\n",
       "      <td>None</td>\n",
       "      <td>None</td>\n",
       "      <td>None</td>\n",
       "      <td>None</td>\n",
       "      <td>None</td>\n",
       "      <td>None</td>\n",
       "      <td>None</td>\n",
       "      <td>None</td>\n",
       "      <td>None</td>\n",
       "      <td>None</td>\n",
       "    </tr>\n",
       "    <tr>\n",
       "      <th>110023</th>\n",
       "      <td>bbc41fc0b4cb9431aeb97b3e6e804394</td>\n",
       "      <td>health</td>\n",
       "      <td>fitness</td>\n",
       "      <td>None</td>\n",
       "      <td>None</td>\n",
       "      <td>mental</td>\n",
       "      <td>None</td>\n",
       "      <td>kids</td>\n",
       "      <td>family</td>\n",
       "      <td>None</td>\n",
       "      <td>...</td>\n",
       "      <td>parenting</td>\n",
       "      <td>None</td>\n",
       "      <td>None</td>\n",
       "      <td>None</td>\n",
       "      <td>None</td>\n",
       "      <td>None</td>\n",
       "      <td>None</td>\n",
       "      <td>None</td>\n",
       "      <td>None</td>\n",
       "      <td>None</td>\n",
       "    </tr>\n",
       "  </tbody>\n",
       "</table>\n",
       "<p>110024 rows × 21 columns</p>\n",
       "</div>"
      ],
      "text/plain": [
       "                              podcast_id     category1 category2 category3  \\\n",
       "0       fa8c359031380cd4f3b38358c8a75f92      business      None   careers   \n",
       "1       fbd39776094ee5e641ecaf1ff971c388        health   fitness      None   \n",
       "2       d277dc926e46ff187defb6828c6bf961  spirituality      None      None   \n",
       "3       a68a77d4295d482d0ddba9e857cc1234     education      None      None   \n",
       "4       b221de67cf9ca5ca418b1f0c1e78dc9d     education      None      None   \n",
       "...                                  ...           ...       ...       ...   \n",
       "110019  fbc7c1c216bea70d42f40ea6ff57ec25       society   culture      None   \n",
       "110020  fbccd2dfefdcd6bf61e21da3bb735c8f        sports      None      None   \n",
       "110021  e13c8b732ccf065b819c372d8e117408        comedy      None      None   \n",
       "110022  e13ff9e8e236ec15c651860c372ba293          arts      None      None   \n",
       "110023  bbc41fc0b4cb9431aeb97b3e6e804394        health   fitness      None   \n",
       "\n",
       "        category4    category5 category6    category7 category8 category9  \\\n",
       "0       education         None      self  improvement   society   culture   \n",
       "1            None         None      None         None      None      None   \n",
       "2            None         None      None         None      None      None   \n",
       "3            None         None      None         None      None      None   \n",
       "4            None         None      None         None      None      None   \n",
       "...           ...          ...       ...          ...       ...       ...   \n",
       "110019       None  documentary      None         None  personal  journals   \n",
       "110020       None         None      None         None      None      None   \n",
       "110021       None         None      None         None      None      None   \n",
       "110022       None         None      None         None      None      None   \n",
       "110023       None       mental      None         kids    family      None   \n",
       "\n",
       "        ... category11 category12 category13 category14 category15  \\\n",
       "0       ...       None   personal   journals       None       None   \n",
       "1       ...       None       None       None       None       None   \n",
       "2       ...       None       None       None       None       None   \n",
       "3       ...       None       None       None       None       None   \n",
       "4       ...       None       None       None       None       None   \n",
       "...     ...        ...        ...        ...        ...        ...   \n",
       "110019  ...       None       None       None       None       None   \n",
       "110020  ...       None       None       None       None       None   \n",
       "110021  ...       None       None       None       None       None   \n",
       "110022  ...       None       None       None       None       None   \n",
       "110023  ...  parenting       None       None       None       None   \n",
       "\n",
       "        category16 category17 category18  category19  category20  \n",
       "0       philosophy       None       None  philosophy  philosophy  \n",
       "1             None       None       None        None        None  \n",
       "2             None       None       None        None        None  \n",
       "3             None       None       None        None        None  \n",
       "4             None       None       None        None        None  \n",
       "...            ...        ...        ...         ...         ...  \n",
       "110019        None       None       None        None        None  \n",
       "110020        None       None       None        None        None  \n",
       "110021        None       None       None        None        None  \n",
       "110022        None       None       None        None        None  \n",
       "110023        None       None       None        None        None  \n",
       "\n",
       "[110024 rows x 21 columns]"
      ]
     },
     "execution_count": 49,
     "metadata": {},
     "output_type": "execute_result"
    }
   ],
   "source": [
    "combined_removed_dupe_df"
   ]
  },
  {
   "cell_type": "markdown",
   "metadata": {},
   "source": [
    "Turning the subcategories into one category for each podcast and calculating the string length of the \"mega\" category. \n",
    "\n",
    "We do this because we have ended up making alot of categories that are the same but will be countet differently, such as:\n",
    "\n",
    "Arts-science\n",
    "and\n",
    "Science-Arts \n",
    "\n",
    "Which will be counted as different podcasts but are in my opinion the same, based on what we have done with this data set\n"
   ]
  },
  {
   "cell_type": "code",
   "execution_count": 50,
   "metadata": {},
   "outputs": [
    {
     "data": {
      "text/html": [
       "<span style=\"None\">Running query in &#x27;duckdb&#x27;</span>"
      ],
      "text/plain": [
       "Running query in 'duckdb'"
      ]
     },
     "metadata": {},
     "output_type": "display_data"
    }
   ],
   "source": [
    "%%sql\n",
    "rabbit_hole_df <<\n",
    "SELECT podcast_id, the_one_category, LENGTH(the_one_category) as len_category\n",
    "FROM (SELECT podcast_id, CONCAT_WS('-',category1,category2,category3,category4,category5,category6,\n",
    "                 category7,category8,category9,category10,\n",
    "                 category11,category12,category13,category14,\n",
    "                 category15,category16,category17,\n",
    "                 category18,category19,category20) AS the_one_category\n",
    "FROM combined_removed_dupe_df)\n",
    "GROUP BY the_one_category, podcast_id"
   ]
  },
  {
   "cell_type": "code",
   "execution_count": 51,
   "metadata": {},
   "outputs": [
    {
     "data": {
      "text/html": [
       "<span style=\"None\">Running query in &#x27;duckdb&#x27;</span>"
      ],
      "text/plain": [
       "Running query in 'duckdb'"
      ]
     },
     "metadata": {},
     "output_type": "display_data"
    }
   ],
   "source": [
    "%%sql\n",
    "visualizing_the_rabbit_hole << \n",
    "SELECT len_category, COUNT(podcast_id) AS count\n",
    "FROM rabbit_hole_df\n",
    "GROUP BY len_category\n",
    "ORDER BY len_category"
   ]
  },
  {
   "cell_type": "markdown",
   "metadata": {},
   "source": [
    "I had a bigger plan for this initially, however I kept on meeting new problems when trying to deal with the multiple categories for many of the podcasts, The initial plan was to find which subcategories are most popular (based on reviews) and which are most common (based on podcasts with that subcategory). I hope to come back to this, but due to the deadline and other time constraints right now I have to leave it as is (for now)."
   ]
  },
  {
   "cell_type": "code",
   "execution_count": 52,
   "metadata": {},
   "outputs": [
    {
     "data": {
      "text/plain": [
       "<Figure size 1200x800 with 0 Axes>"
      ]
     },
     "metadata": {},
     "output_type": "display_data"
    },
    {
     "data": {
      "image/png": "[encoded data removed]",
      "text/plain": [
       "<Figure size 850x850 with 3 Axes>"
      ]
     },
     "metadata": {},
     "output_type": "display_data"
    }
   ],
   "source": [
    "plt.figure(figsize=(12, 8))\n",
    "g = sns.JointGrid(\n",
    "    data=visualizing_the_rabbit_hole,\n",
    "    x=\"len_category\",\n",
    "    y=\"count\",\n",
    "    height=8.5,\n",
    "    ratio=3,\n",
    "    space=0.05,\n",
    ")\n",
    "g.ax_joint.set_xlabel(\"Category (Length of string)\", fontweight=\"bold\")\n",
    "g.ax_joint.set_ylabel(\"Podcasts Per Category\", fontweight=\"bold\")\n",
    "g.plot_joint(sns.scatterplot, s=75, alpha=0.7)\n",
    "g.plot_marginals(sns.histplot, kde=True)\n",
    "\n",
    "g.fig.suptitle(\"(Full)Category Compared to Podcasts to that category\", fontsize=18)\n",
    "g.fig.subplots_adjust(top=0.90)\n",
    "g.set_axis_labels(xlabel=\"Category (Lenght of String)\", ylabel=\"Count (Podcasts per Category)\")\n",
    "plt.show();"
   ]
  },
  {
   "cell_type": "markdown",
   "metadata": {},
   "source": [
    "## Sub category count"
   ]
  },
  {
   "cell_type": "markdown",
   "metadata": {},
   "source": [
    "We take the removed_dupe_cat_df and instead of using it to make one lone category we keep it split and turn the empty fields into 0 and all others into one, to count the amount of subcategories for each podcast. "
   ]
  },
  {
   "cell_type": "code",
   "execution_count": 53,
   "metadata": {},
   "outputs": [
    {
     "data": {
      "text/html": [
       "<span style=\"None\">Running query in &#x27;duckdb&#x27;</span>"
      ],
      "text/plain": [
       "Running query in 'duckdb'"
      ]
     },
     "metadata": {},
     "output_type": "display_data"
    }
   ],
   "source": [
    "%%sql\n",
    "rabbit_hole_1_and_0_df <<\n",
    "SELECT podcast_id, \n",
    "CASE WHEN TRIM(cat1) = '' THEN 0 ELSE 1 END as category1,\n",
    "CASE WHEN TRIM(cat2) = '' THEN 0 ELSE 1 END as category2,\n",
    "CASE WHEN TRIM(cat3) = '' THEN 0 ELSE 1 END as category3,\n",
    "CASE WHEN TRIM(cat4) = '' THEN 0 ELSE 1 END as category4,\n",
    "CASE WHEN TRIM(cat5) = '' THEN 0 ELSE 1 END as category5,\n",
    "CASE WHEN TRIM(cat6) = '' THEN 0 ELSE 1 END as category6,\n",
    "CASE WHEN TRIM(cat7) = '' THEN 0 ELSE 1 END as category7,\n",
    "CASE WHEN TRIM(cat8) = '' THEN 0 ELSE 1 END as category8,\n",
    "CASE WHEN TRIM(cat9) = '' THEN 0 ELSE 1 END as category9,\n",
    "CASE WHEN TRIM(cat10) = '' THEN 0 ELSE 1 END as category10,\n",
    "CASE WHEN TRIM(cat11) = '' THEN 0 ELSE 1 END as category11,\n",
    "CASE WHEN TRIM(cat12) = '' THEN 0 ELSE 1 END as category12,\n",
    "CASE WHEN TRIM(cat13) = '' THEN 0 ELSE 1 END as category13,\n",
    "CASE WHEN TRIM(cat14) = '' THEN 0 ELSE 1 END as category14,\n",
    "CASE WHEN TRIM(cat15) = '' THEN 0 ELSE 1 END as category15,\n",
    "CASE WHEN TRIM(cat16) = '' THEN 0 ELSE 1 END as category16,\n",
    "CASE WHEN TRIM(cat17) = '' THEN 0 ELSE 1 END as category17,\n",
    "CASE WHEN TRIM(cat18) = '' THEN 0 ELSE 1 END as category18,\n",
    "CASE WHEN TRIM(cat19) = '' THEN 0 ELSE 1 END as category19,\n",
    "CASE WHEN TRIM(cat20) = '' THEN 0 ELSE 1 END as category20,\n",
    "FROM removed_dupe_cat_df"
   ]
  },
  {
   "cell_type": "markdown",
   "metadata": {},
   "source": [
    "we make a total count subcategories for each podcast"
   ]
  },
  {
   "cell_type": "code",
   "execution_count": 54,
   "metadata": {},
   "outputs": [
    {
     "data": {
      "text/html": [
       "<span style=\"None\">Running query in &#x27;duckdb&#x27;</span>"
      ],
      "text/plain": [
       "Running query in 'duckdb'"
      ]
     },
     "metadata": {},
     "output_type": "display_data"
    }
   ],
   "source": [
    "%%sql\n",
    "sub_category_count_df <<\n",
    "SELECT podcast_id, category1 + category2 + category3 + category4 + \n",
    "category5 + category6 + category7 + category8 + category9 + \n",
    "category10 + category11 + category12 + category13 + \n",
    "category14 + category15 + category16 + category17 + \n",
    "category18 + category19 + category20 AS nr_of_subcategories\n",
    "FROM rabbit_hole_1_and_0_df\n",
    "ORDER BY nr_of_subcategories DESC"
   ]
  },
  {
   "cell_type": "markdown",
   "metadata": {},
   "source": [
    "We combine subcategory count with review count"
   ]
  },
  {
   "cell_type": "code",
   "execution_count": 55,
   "metadata": {},
   "outputs": [
    {
     "data": {
      "text/html": [
       "<span style=\"None\">Running query in &#x27;duckdb&#x27;</span>"
      ],
      "text/plain": [
       "Running query in 'duckdb'"
      ]
     },
     "metadata": {},
     "output_type": "display_data"
    }
   ],
   "source": [
    "%%sql\n",
    "sub_categories_podcast_reviews_df <<\n",
    "WITH t1 AS(\n",
    "    SELECT nr_of_subcategories, COUNT(podcast_id) AS nr_of_podcasts_with_subcategories\n",
    "    FROM sub_category_count_df\n",
    "    GROUP BY nr_of_subcategories\n",
    ")\n",
    "SELECT r.podcast,r.num_of_reviews, t1.nr_of_subcategories, t1.nr_of_podcasts_with_subcategories, \n",
    "FROM t1\n",
    "JOIN sub_category_count_df scc\n",
    "ON t1.nr_of_subcategories = scc.nr_of_subcategories\n",
    "JOIN one_review_df r\n",
    "ON scc.podcast_id = r.podcast_id "
   ]
  },
  {
   "cell_type": "code",
   "execution_count": 56,
   "metadata": {},
   "outputs": [
    {
     "data": {
      "text/html": [
       "<div>\n",
       "<style scoped>\n",
       "    .dataframe tbody tr th:only-of-type {\n",
       "        vertical-align: middle;\n",
       "    }\n",
       "\n",
       "    .dataframe tbody tr th {\n",
       "        vertical-align: top;\n",
       "    }\n",
       "\n",
       "    .dataframe thead th {\n",
       "        text-align: right;\n",
       "    }\n",
       "</style>\n",
       "<table border=\"1\" class=\"dataframe\">\n",
       "  <thead>\n",
       "    <tr style=\"text-align: right;\">\n",
       "      <th></th>\n",
       "      <th>podcast</th>\n",
       "      <th>num_of_reviews</th>\n",
       "      <th>nr_of_subcategories</th>\n",
       "      <th>nr_of_podcasts_with_subcategories</th>\n",
       "    </tr>\n",
       "  </thead>\n",
       "  <tbody>\n",
       "    <tr>\n",
       "      <th>0</th>\n",
       "      <td>Crime Junkie</td>\n",
       "      <td>31052</td>\n",
       "      <td>2</td>\n",
       "      <td>34550</td>\n",
       "    </tr>\n",
       "    <tr>\n",
       "      <th>1</th>\n",
       "      <td>My Favorite Murder with Karen Kilgariff and Ge...</td>\n",
       "      <td>9727</td>\n",
       "      <td>3</td>\n",
       "      <td>29210</td>\n",
       "    </tr>\n",
       "    <tr>\n",
       "      <th>2</th>\n",
       "      <td>The Ben Shapiro Show</td>\n",
       "      <td>7464</td>\n",
       "      <td>1</td>\n",
       "      <td>24033</td>\n",
       "    </tr>\n",
       "    <tr>\n",
       "      <th>3</th>\n",
       "      <td>True Crime Obsessed</td>\n",
       "      <td>6677</td>\n",
       "      <td>4</td>\n",
       "      <td>11180</td>\n",
       "    </tr>\n",
       "    <tr>\n",
       "      <th>4</th>\n",
       "      <td>Wow in the World</td>\n",
       "      <td>5565</td>\n",
       "      <td>5</td>\n",
       "      <td>6292</td>\n",
       "    </tr>\n",
       "    <tr>\n",
       "      <th>...</th>\n",
       "      <td>...</td>\n",
       "      <td>...</td>\n",
       "      <td>...</td>\n",
       "      <td>...</td>\n",
       "    </tr>\n",
       "    <tr>\n",
       "      <th>109989</th>\n",
       "      <td>P3: Prayer - Passion - Purpose</td>\n",
       "      <td>1</td>\n",
       "      <td>3</td>\n",
       "      <td>29210</td>\n",
       "    </tr>\n",
       "    <tr>\n",
       "      <th>109990</th>\n",
       "      <td>PA Talks</td>\n",
       "      <td>1</td>\n",
       "      <td>2</td>\n",
       "      <td>34550</td>\n",
       "    </tr>\n",
       "    <tr>\n",
       "      <th>109991</th>\n",
       "      <td>PAC Talks with VJCV</td>\n",
       "      <td>1</td>\n",
       "      <td>1</td>\n",
       "      <td>24033</td>\n",
       "    </tr>\n",
       "    <tr>\n",
       "      <th>109992</th>\n",
       "      <td>PALEMICA THE PODCAST</td>\n",
       "      <td>1</td>\n",
       "      <td>1</td>\n",
       "      <td>24033</td>\n",
       "    </tr>\n",
       "    <tr>\n",
       "      <th>109993</th>\n",
       "      <td>PARENTS vs GAMING</td>\n",
       "      <td>1</td>\n",
       "      <td>4</td>\n",
       "      <td>11180</td>\n",
       "    </tr>\n",
       "  </tbody>\n",
       "</table>\n",
       "<p>109994 rows × 4 columns</p>\n",
       "</div>"
      ],
      "text/plain": [
       "                                                  podcast  num_of_reviews  \\\n",
       "0                                            Crime Junkie           31052   \n",
       "1       My Favorite Murder with Karen Kilgariff and Ge...            9727   \n",
       "2                                    The Ben Shapiro Show            7464   \n",
       "3                                     True Crime Obsessed            6677   \n",
       "4                                        Wow in the World            5565   \n",
       "...                                                   ...             ...   \n",
       "109989                     P3: Prayer - Passion - Purpose               1   \n",
       "109990                                           PA Talks               1   \n",
       "109991                                PAC Talks with VJCV               1   \n",
       "109992                               PALEMICA THE PODCAST               1   \n",
       "109993                                  PARENTS vs GAMING               1   \n",
       "\n",
       "        nr_of_subcategories  nr_of_podcasts_with_subcategories  \n",
       "0                         2                              34550  \n",
       "1                         3                              29210  \n",
       "2                         1                              24033  \n",
       "3                         4                              11180  \n",
       "4                         5                               6292  \n",
       "...                     ...                                ...  \n",
       "109989                    3                              29210  \n",
       "109990                    2                              34550  \n",
       "109991                    1                              24033  \n",
       "109992                    1                              24033  \n",
       "109993                    4                              11180  \n",
       "\n",
       "[109994 rows x 4 columns]"
      ]
     },
     "execution_count": 56,
     "metadata": {},
     "output_type": "execute_result"
    }
   ],
   "source": [
    "sub_categories_podcast_reviews_df"
   ]
  },
  {
   "cell_type": "code",
   "execution_count": 57,
   "metadata": {},
   "outputs": [
    {
     "data": {
      "text/html": [
       "<span style=\"None\">Running query in &#x27;duckdb&#x27;</span>"
      ],
      "text/plain": [
       "Running query in 'duckdb'"
      ]
     },
     "metadata": {},
     "output_type": "display_data"
    }
   ],
   "source": [
    "%%sql\n",
    "sub_cat_tot_podcast <<\n",
    "SELECT DISTINCT nr_of_subcategories AS subcategories, nr_of_podcasts_with_subcategories AS podcasts\n",
    "FROM sub_categories_podcast_reviews_df"
   ]
  },
  {
   "cell_type": "code",
   "execution_count": 58,
   "metadata": {},
   "outputs": [
    {
     "data": {
      "text/html": [
       "<span style=\"None\">Running query in &#x27;duckdb&#x27;</span>"
      ],
      "text/plain": [
       "Running query in 'duckdb'"
      ]
     },
     "metadata": {},
     "output_type": "display_data"
    }
   ],
   "source": [
    "%%sql\n",
    "visualizing_sub_cat_review <<\n",
    "WITH t1 AS(\n",
    "SELECT nr_of_subcategories AS subcategories, SUM(num_of_reviews) AS tot_reviews, MAX(num_of_reviews) AS max_reviews_pp, MIN(num_of_reviews) AS min_reviews_pp\n",
    "FROM sub_categories_podcast_reviews_df\n",
    "GROUP BY subcategories),\n",
    "t2 AS(\n",
    "SELECT nr_of_subcategories AS subcategories, COUNT(*) AS podcasts\n",
    "FROM sub_categories_podcast_reviews_df\n",
    "GROUP BY subcategories\n",
    ")\n",
    "SELECT t1.subcategories, t2.podcasts, t1.tot_reviews, t1.tot_reviews/t2.podcasts AS avg_nr_of_review_per_podcast, t1.max_reviews_pp, t1.min_reviews_pp,\n",
    "FROM t1\n",
    "JOIN t2\n",
    "ON t1.subcategories = t2.subcategories"
   ]
  },
  {
   "cell_type": "code",
   "execution_count": 59,
   "metadata": {},
   "outputs": [
    {
     "data": {
      "text/html": [
       "<div>\n",
       "<style scoped>\n",
       "    .dataframe tbody tr th:only-of-type {\n",
       "        vertical-align: middle;\n",
       "    }\n",
       "\n",
       "    .dataframe tbody tr th {\n",
       "        vertical-align: top;\n",
       "    }\n",
       "\n",
       "    .dataframe thead th {\n",
       "        text-align: right;\n",
       "    }\n",
       "</style>\n",
       "<table border=\"1\" class=\"dataframe\">\n",
       "  <thead>\n",
       "    <tr style=\"text-align: right;\">\n",
       "      <th></th>\n",
       "      <th>subcategories</th>\n",
       "      <th>podcasts</th>\n",
       "      <th>tot_reviews</th>\n",
       "      <th>avg_nr_of_review_per_podcast</th>\n",
       "      <th>max_reviews_pp</th>\n",
       "      <th>min_reviews_pp</th>\n",
       "    </tr>\n",
       "  </thead>\n",
       "  <tbody>\n",
       "    <tr>\n",
       "      <th>0</th>\n",
       "      <td>2</td>\n",
       "      <td>34541</td>\n",
       "      <td>583391.0</td>\n",
       "      <td>16.889812</td>\n",
       "      <td>31052</td>\n",
       "      <td>1</td>\n",
       "    </tr>\n",
       "    <tr>\n",
       "      <th>1</th>\n",
       "      <td>10</td>\n",
       "      <td>23</td>\n",
       "      <td>1205.0</td>\n",
       "      <td>52.391304</td>\n",
       "      <td>604</td>\n",
       "      <td>2</td>\n",
       "    </tr>\n",
       "    <tr>\n",
       "      <th>2</th>\n",
       "      <td>7</td>\n",
       "      <td>802</td>\n",
       "      <td>38692.0</td>\n",
       "      <td>48.244389</td>\n",
       "      <td>4049</td>\n",
       "      <td>1</td>\n",
       "    </tr>\n",
       "  </tbody>\n",
       "</table>\n",
       "</div>"
      ],
      "text/plain": [
       "   subcategories  podcasts  tot_reviews  avg_nr_of_review_per_podcast  \\\n",
       "0              2     34541     583391.0                     16.889812   \n",
       "1             10        23       1205.0                     52.391304   \n",
       "2              7       802      38692.0                     48.244389   \n",
       "\n",
       "   max_reviews_pp  min_reviews_pp  \n",
       "0           31052               1  \n",
       "1             604               2  \n",
       "2            4049               1  "
      ]
     },
     "execution_count": 59,
     "metadata": {},
     "output_type": "execute_result"
    }
   ],
   "source": [
    "visualizing_sub_cat_review[0:3]"
   ]
  },
  {
   "cell_type": "code",
   "execution_count": 60,
   "metadata": {},
   "outputs": [
    {
     "data": {
      "image/png": "[encoded data removed]",
      "text/plain": [
       "<Figure size 1800x500 with 3 Axes>"
      ]
     },
     "metadata": {},
     "output_type": "display_data"
    },
    {
     "data": {
      "text/plain": [
       "<Figure size 1200x800 with 0 Axes>"
      ]
     },
     "metadata": {},
     "output_type": "display_data"
    },
    {
     "data": {
      "text/plain": [
       "<Figure size 1200x800 with 0 Axes>"
      ]
     },
     "metadata": {},
     "output_type": "display_data"
    }
   ],
   "source": [
    "fig, axes = plt.subplots(1, 3, sharey=\"none\")\n",
    "fig.subplots_adjust(top=0.85)\n",
    "sns.barplot(\n",
    "    data=visualizing_sub_cat_review,\n",
    "    x=\"subcategories\",\n",
    "    y=\"podcasts\",\n",
    "    ax=axes[0],\n",
    ")\n",
    "plt.figure(figsize=(12, 8))\n",
    "g = sns.barplot(\n",
    "    data=visualizing_sub_cat_review,\n",
    "    x=\"subcategories\",\n",
    "    y=\"tot_reviews\",\n",
    "    ax=axes[1],\n",
    ")\n",
    "plt.figure(figsize=(12, 8))\n",
    "g = sns.barplot(\n",
    "    data=visualizing_sub_cat_review,\n",
    "    x=\"subcategories\",\n",
    "    y=\"avg_nr_of_review_per_podcast\",\n",
    "    ax=axes[2],\n",
    ")\n",
    "\n",
    "# sns.set_context(\"paper\", font_scale=1.3)\n",
    "fig.set_figheight(5)\n",
    "fig.set_figwidth(18)\n",
    "\n",
    "fig.suptitle(\"Per Subcategory Count:\", fontsize=20)\n",
    "axes[0].set_title(\"Total Podcasts\", fontsize=15)\n",
    "axes[1].set_title(\"Total Reviews\", fontsize=15)\n",
    "axes[2].set_title(\"Average Nr of Reviews\", fontsize=15)\n",
    "axes[0].set_xlabel(\"Subcategories\", fontsize=12)\n",
    "axes[1].set_xlabel(\"Subcategories\", fontsize=12)\n",
    "axes[2].set_xlabel(\"Subcategories\", fontsize=12)\n",
    "axes[0].set_ylabel(\"Count\", fontsize=12)\n",
    "axes[1].set_ylabel(\"Count\", fontsize=12)\n",
    "axes[2].set_ylabel(\"Count\", fontsize=12)\n",
    "plt.show();"
   ]
  },
  {
   "cell_type": "markdown",
   "metadata": {},
   "source": [
    "# Most popular subcategories (Based on the amount of podcasts with said subcategory)"
   ]
  },
  {
   "cell_type": "code",
   "execution_count": 61,
   "metadata": {},
   "outputs": [
    {
     "data": {
      "text/html": [
       "<div>\n",
       "<style scoped>\n",
       "    .dataframe tbody tr th:only-of-type {\n",
       "        vertical-align: middle;\n",
       "    }\n",
       "\n",
       "    .dataframe tbody tr th {\n",
       "        vertical-align: top;\n",
       "    }\n",
       "\n",
       "    .dataframe thead th {\n",
       "        text-align: right;\n",
       "    }\n",
       "</style>\n",
       "<table border=\"1\" class=\"dataframe\">\n",
       "  <thead>\n",
       "    <tr style=\"text-align: right;\">\n",
       "      <th></th>\n",
       "      <th>podcast_id</th>\n",
       "      <th>the_one_category</th>\n",
       "      <th>len_category</th>\n",
       "    </tr>\n",
       "  </thead>\n",
       "  <tbody>\n",
       "    <tr>\n",
       "      <th>0</th>\n",
       "      <td>bbf7d3552663f2544755aca9ceff5979</td>\n",
       "      <td>science-social-sciences</td>\n",
       "      <td>23</td>\n",
       "    </tr>\n",
       "    <tr>\n",
       "      <th>1</th>\n",
       "      <td>bc0b13bfbb61b89431a065bb3737516a</td>\n",
       "      <td>business-entrepreneurship-marketing</td>\n",
       "      <td>35</td>\n",
       "    </tr>\n",
       "    <tr>\n",
       "      <th>2</th>\n",
       "      <td>bc13e20436a1d6972ad4de3c8f2dac65</td>\n",
       "      <td>society-culture-documentary</td>\n",
       "      <td>27</td>\n",
       "    </tr>\n",
       "    <tr>\n",
       "      <th>3</th>\n",
       "      <td>bc200431cac25e1396b84de01de8e8e7</td>\n",
       "      <td>religion-spirituality-tv-film</td>\n",
       "      <td>29</td>\n",
       "    </tr>\n",
       "    <tr>\n",
       "      <th>4</th>\n",
       "      <td>bc92d853226792def92084f98b0cbe33</td>\n",
       "      <td>tv-film-history-interviews</td>\n",
       "      <td>26</td>\n",
       "    </tr>\n",
       "    <tr>\n",
       "      <th>...</th>\n",
       "      <td>...</td>\n",
       "      <td>...</td>\n",
       "      <td>...</td>\n",
       "    </tr>\n",
       "    <tr>\n",
       "      <th>110019</th>\n",
       "      <td>bb9de9571b19ff899bcf764de9346e88</td>\n",
       "      <td>health-fitness-mental-nutrition</td>\n",
       "      <td>31</td>\n",
       "    </tr>\n",
       "    <tr>\n",
       "      <th>110020</th>\n",
       "      <td>bbacc8479b65ce0ac2facd9d87cae93f</td>\n",
       "      <td>society-culture</td>\n",
       "      <td>15</td>\n",
       "    </tr>\n",
       "    <tr>\n",
       "      <th>110021</th>\n",
       "      <td>bbb452e75824a58a70a9ddc9fb1cac6a</td>\n",
       "      <td>society-culture</td>\n",
       "      <td>15</td>\n",
       "    </tr>\n",
       "    <tr>\n",
       "      <th>110022</th>\n",
       "      <td>bbb53c4b55dd74c2484112436e7c8a3a</td>\n",
       "      <td>leisure-video-games</td>\n",
       "      <td>19</td>\n",
       "    </tr>\n",
       "    <tr>\n",
       "      <th>110023</th>\n",
       "      <td>bbba718e9599388b6b7f031d8abaeb2f</td>\n",
       "      <td>society-culture</td>\n",
       "      <td>15</td>\n",
       "    </tr>\n",
       "  </tbody>\n",
       "</table>\n",
       "<p>110024 rows × 3 columns</p>\n",
       "</div>"
      ],
      "text/plain": [
       "                              podcast_id                     the_one_category  \\\n",
       "0       bbf7d3552663f2544755aca9ceff5979              science-social-sciences   \n",
       "1       bc0b13bfbb61b89431a065bb3737516a  business-entrepreneurship-marketing   \n",
       "2       bc13e20436a1d6972ad4de3c8f2dac65          society-culture-documentary   \n",
       "3       bc200431cac25e1396b84de01de8e8e7        religion-spirituality-tv-film   \n",
       "4       bc92d853226792def92084f98b0cbe33           tv-film-history-interviews   \n",
       "...                                  ...                                  ...   \n",
       "110019  bb9de9571b19ff899bcf764de9346e88      health-fitness-mental-nutrition   \n",
       "110020  bbacc8479b65ce0ac2facd9d87cae93f                      society-culture   \n",
       "110021  bbb452e75824a58a70a9ddc9fb1cac6a                      society-culture   \n",
       "110022  bbb53c4b55dd74c2484112436e7c8a3a                  leisure-video-games   \n",
       "110023  bbba718e9599388b6b7f031d8abaeb2f                      society-culture   \n",
       "\n",
       "        len_category  \n",
       "0                 23  \n",
       "1                 35  \n",
       "2                 27  \n",
       "3                 29  \n",
       "4                 26  \n",
       "...              ...  \n",
       "110019            31  \n",
       "110020            15  \n",
       "110021            15  \n",
       "110022            19  \n",
       "110023            15  \n",
       "\n",
       "[110024 rows x 3 columns]"
      ]
     },
     "execution_count": 61,
     "metadata": {},
     "output_type": "execute_result"
    }
   ],
   "source": [
    "rabbit_hole_df"
   ]
  },
  {
   "cell_type": "markdown",
   "metadata": {},
   "source": [
    "Using the same dataframe, \"rabbit_hole_df\" we change all empty columns into Null values and all else as is"
   ]
  },
  {
   "cell_type": "code",
   "execution_count": 62,
   "metadata": {},
   "outputs": [
    {
     "data": {
      "text/html": [
       "<span style=\"None\">Running query in &#x27;duckdb&#x27;</span>"
      ],
      "text/plain": [
       "Running query in 'duckdb'"
      ]
     },
     "metadata": {},
     "output_type": "display_data"
    }
   ],
   "source": [
    "%%sql\n",
    "split_df <<\n",
    "SELECT podcast_id,\n",
    "CASE WHEN TRIM(category1) = '' THEN NULL ELSE category1 END as category1,\n",
    "CASE WHEN TRIM(category2) = '' THEN NULL ELSE category2 END as category2,\n",
    "CASE WHEN TRIM(category3) = '' THEN NULL ELSE category3 END as category3,\n",
    "CASE WHEN TRIM(category4) = '' THEN NULL ELSE category4 END as category4,\n",
    "CASE WHEN TRIM(category5) = '' THEN NULL ELSE category5 END as category5,\n",
    "CASE WHEN TRIM(category6) = '' THEN NULL ELSE category6 END as category6,\n",
    "CASE WHEN TRIM(category7) = '' THEN NULL ELSE category7 END as category7,\n",
    "CASE WHEN TRIM(category8) = '' THEN NULL ELSE category8 END as category8,\n",
    "CASE WHEN TRIM(category9) = '' THEN NULL ELSE category9 END as category9,\n",
    "CASE WHEN TRIM(category10) = '' THEN NULL ELSE category10 END as category10,\n",
    "CASE WHEN TRIM(category11) = '' THEN NULL ELSE category11 END as category11,\n",
    "CASE WHEN TRIM(category12) = '' THEN NULL ELSE category12 END as category12,\n",
    "CASE WHEN TRIM(category13) = '' THEN NULL ELSE category13 END as category13,\n",
    "FROM(SELECT podcast_id,\n",
    "SPLIT_PART(the_one_category, '-', 1) AS category1,\n",
    "SPLIT_PART(the_one_category, '-', 2) AS category2,\n",
    "SPLIT_PART(the_one_category, '-', 3) AS category3,\n",
    "SPLIT_PART(the_one_category, '-', 4) AS category4,\n",
    "SPLIT_PART(the_one_category, '-', 5) AS category5,\n",
    "SPLIT_PART(the_one_category, '-', 6) AS category6,\n",
    "SPLIT_PART(the_one_category, '-', 7) AS category7,\n",
    "SPLIT_PART(the_one_category, '-', 8) AS category8,\n",
    "SPLIT_PART(the_one_category, '-', 9) AS category9,\n",
    "SPLIT_PART(the_one_category, '-', 10) AS category10,\n",
    "SPLIT_PART(the_one_category, '-', 11) AS category11,\n",
    "SPLIT_PART(the_one_category, '-', 12) AS category12,\n",
    "SPLIT_PART(the_one_category, '-', 13) AS category13,\n",
    "FROM rabbit_hole_df)"
   ]
  },
  {
   "cell_type": "code",
   "execution_count": 63,
   "metadata": {},
   "outputs": [
    {
     "data": {
      "text/html": [
       "<div>\n",
       "<style scoped>\n",
       "    .dataframe tbody tr th:only-of-type {\n",
       "        vertical-align: middle;\n",
       "    }\n",
       "\n",
       "    .dataframe tbody tr th {\n",
       "        vertical-align: top;\n",
       "    }\n",
       "\n",
       "    .dataframe thead th {\n",
       "        text-align: right;\n",
       "    }\n",
       "</style>\n",
       "<table border=\"1\" class=\"dataframe\">\n",
       "  <thead>\n",
       "    <tr style=\"text-align: right;\">\n",
       "      <th></th>\n",
       "      <th>podcast_id</th>\n",
       "      <th>category1</th>\n",
       "      <th>category2</th>\n",
       "      <th>category3</th>\n",
       "      <th>category4</th>\n",
       "      <th>category5</th>\n",
       "      <th>category6</th>\n",
       "      <th>category7</th>\n",
       "      <th>category8</th>\n",
       "      <th>category9</th>\n",
       "      <th>category10</th>\n",
       "      <th>category11</th>\n",
       "      <th>category12</th>\n",
       "      <th>category13</th>\n",
       "    </tr>\n",
       "  </thead>\n",
       "  <tbody>\n",
       "    <tr>\n",
       "      <th>0</th>\n",
       "      <td>bbf7d3552663f2544755aca9ceff5979</td>\n",
       "      <td>science</td>\n",
       "      <td>social</td>\n",
       "      <td>sciences</td>\n",
       "      <td>None</td>\n",
       "      <td>None</td>\n",
       "      <td>None</td>\n",
       "      <td>None</td>\n",
       "      <td>None</td>\n",
       "      <td>None</td>\n",
       "      <td>None</td>\n",
       "      <td>None</td>\n",
       "      <td>None</td>\n",
       "      <td>None</td>\n",
       "    </tr>\n",
       "    <tr>\n",
       "      <th>1</th>\n",
       "      <td>bc0b13bfbb61b89431a065bb3737516a</td>\n",
       "      <td>business</td>\n",
       "      <td>entrepreneurship</td>\n",
       "      <td>marketing</td>\n",
       "      <td>None</td>\n",
       "      <td>None</td>\n",
       "      <td>None</td>\n",
       "      <td>None</td>\n",
       "      <td>None</td>\n",
       "      <td>None</td>\n",
       "      <td>None</td>\n",
       "      <td>None</td>\n",
       "      <td>None</td>\n",
       "      <td>None</td>\n",
       "    </tr>\n",
       "  </tbody>\n",
       "</table>\n",
       "</div>"
      ],
      "text/plain": [
       "                         podcast_id category1         category2  category3  \\\n",
       "0  bbf7d3552663f2544755aca9ceff5979   science            social   sciences   \n",
       "1  bc0b13bfbb61b89431a065bb3737516a  business  entrepreneurship  marketing   \n",
       "\n",
       "  category4 category5 category6 category7 category8 category9 category10  \\\n",
       "0      None      None      None      None      None      None       None   \n",
       "1      None      None      None      None      None      None       None   \n",
       "\n",
       "  category11 category12 category13  \n",
       "0       None       None       None  \n",
       "1       None       None       None  "
      ]
     },
     "execution_count": 63,
     "metadata": {},
     "output_type": "execute_result"
    }
   ],
   "source": [
    "split_df[0:2]"
   ]
  },
  {
   "cell_type": "code",
   "execution_count": 64,
   "metadata": {},
   "outputs": [
    {
     "data": {
      "text/html": [
       "<span style=\"None\">Running query in &#x27;duckdb&#x27;</span>"
      ],
      "text/plain": [
       "Running query in 'duckdb'"
      ]
     },
     "metadata": {},
     "output_type": "display_data"
    },
    {
     "data": {
      "text/html": [
       "<div>\n",
       "<style scoped>\n",
       "    .dataframe tbody tr th:only-of-type {\n",
       "        vertical-align: middle;\n",
       "    }\n",
       "\n",
       "    .dataframe tbody tr th {\n",
       "        vertical-align: top;\n",
       "    }\n",
       "\n",
       "    .dataframe thead th {\n",
       "        text-align: right;\n",
       "    }\n",
       "</style>\n",
       "<table border=\"1\" class=\"dataframe\">\n",
       "  <thead>\n",
       "    <tr style=\"text-align: right;\">\n",
       "      <th></th>\n",
       "      <th>count12</th>\n",
       "      <th>category12</th>\n",
       "    </tr>\n",
       "  </thead>\n",
       "  <tbody>\n",
       "    <tr>\n",
       "      <th>0</th>\n",
       "      <td>1</td>\n",
       "      <td>philosophy</td>\n",
       "    </tr>\n",
       "    <tr>\n",
       "      <th>1</th>\n",
       "      <td>1</td>\n",
       "      <td>religion</td>\n",
       "    </tr>\n",
       "    <tr>\n",
       "      <th>2</th>\n",
       "      <td>1</td>\n",
       "      <td>journals</td>\n",
       "    </tr>\n",
       "    <tr>\n",
       "      <th>3</th>\n",
       "      <td>110021</td>\n",
       "      <td>None</td>\n",
       "    </tr>\n",
       "  </tbody>\n",
       "</table>\n",
       "</div>"
      ],
      "text/plain": [
       "   count12  category12\n",
       "0        1  philosophy\n",
       "1        1    religion\n",
       "2        1    journals\n",
       "3   110021        None"
      ]
     },
     "execution_count": 64,
     "metadata": {},
     "output_type": "execute_result"
    }
   ],
   "source": [
    "%%sql \n",
    "SELECT COUNT(podcast_id) as count12, category12\n",
    "    FROM split_df\n",
    "    GROUP BY category12"
   ]
  },
  {
   "cell_type": "markdown",
   "metadata": {},
   "source": [
    "We first create a column called category with all out subcategories in it using UNION, \n",
    "We then count all the podcasts with that subcategory, we do this column by column (hence t1-t13). \n",
    "At the end we take the count for each subcategory from each column and combine them into one count for each subcategory"
   ]
  },
  {
   "cell_type": "code",
   "execution_count": 65,
   "metadata": {},
   "outputs": [
    {
     "data": {
      "text/html": [
       "<span style=\"None\">Running query in &#x27;duckdb&#x27;</span>"
      ],
      "text/plain": [
       "Running query in 'duckdb'"
      ]
     },
     "metadata": {},
     "output_type": "display_data"
    }
   ],
   "source": [
    "%%sql\n",
    "sub_categories_count_df <<\n",
    "WITH table_ultimate AS(\n",
    "WITH t AS(\n",
    "    SELECT category1 AS category\n",
    "    FROM split_df\n",
    "    UNION\n",
    "    SELECT category2\n",
    "    FROM split_df\n",
    "    UNION\n",
    "    SELECT category3\n",
    "    FROM split_df\n",
    "    UNION\n",
    "    SELECT category4\n",
    "    FROM split_df\n",
    "    UNION\n",
    "    SELECT category5\n",
    "    FROM split_df\n",
    "    UNION\n",
    "    SELECT category6\n",
    "    FROM split_df\n",
    "    UNION\n",
    "    SELECT category7\n",
    "    FROM split_df\n",
    "    UNION\n",
    "    SELECT category8\n",
    "    FROM split_df\n",
    "    UNION\n",
    "    SELECT category9\n",
    "    FROM split_df\n",
    "    UNION\n",
    "    SELECT category10\n",
    "    FROM split_df\n",
    "    UNION\n",
    "    SELECT category11\n",
    "    FROM split_df\n",
    "    UNION\n",
    "    SELECT category12\n",
    "    FROM split_df\n",
    "    UNION\n",
    "    SELECT category13\n",
    "    FROM split_df\n",
    "),\n",
    "t1 AS(\n",
    "    SELECT COUNT(podcast_id) as count1, category1\n",
    "    FROM split_df\n",
    "    GROUP BY category1\n",
    "),\n",
    "t2 AS(\n",
    "    SELECT COUNT(podcast_id) as count2, category2\n",
    "    FROM split_df\n",
    "    GROUP BY category2\n",
    "),\n",
    "t3 AS(\n",
    "    SELECT COUNT(podcast_id) as count3, category3\n",
    "    FROM split_df\n",
    "    GROUP BY category3\n",
    "),\n",
    "t4 AS(\n",
    "    SELECT COUNT(podcast_id) as count4, category4\n",
    "    FROM split_df\n",
    "    GROUP BY category4\n",
    "),\n",
    "t5 AS(\n",
    "    SELECT COUNT(podcast_id) as count5, category5\n",
    "    FROM split_df\n",
    "    GROUP BY category5\n",
    "),\n",
    "t6 AS(\n",
    "    SELECT COUNT(podcast_id) as count6, category6\n",
    "    FROM split_df\n",
    "    GROUP BY category6\n",
    "),\n",
    "t7 AS(\n",
    "    SELECT COUNT(podcast_id) as count7, category7\n",
    "    FROM split_df\n",
    "    GROUP BY category7\n",
    "),\n",
    "t8 AS(\n",
    "    SELECT COUNT(podcast_id) as count8, category8\n",
    "    FROM split_df\n",
    "    GROUP BY category8\n",
    "),\n",
    "t9 AS(\n",
    "    SELECT COUNT(podcast_id) as count9, category9\n",
    "    FROM split_df\n",
    "    GROUP BY category9\n",
    "),\n",
    "t10 AS(\n",
    "    SELECT COUNT(podcast_id) as count10, category10\n",
    "    FROM split_df\n",
    "    GROUP BY category10\n",
    "),\n",
    "t11 AS(\n",
    "    SELECT COUNT(podcast_id) as count11, category11\n",
    "    FROM split_df\n",
    "    GROUP BY category11\n",
    "),\n",
    "t12 AS(\n",
    "    SELECT COUNT(podcast_id) as count12, category12\n",
    "    FROM split_df\n",
    "    GROUP BY category12\n",
    "),\n",
    "t13 AS(\n",
    "    SELECT COUNT(podcast_id) as count13, category13\n",
    "    FROM split_df\n",
    "    GROUP BY category13\n",
    ")\n",
    "SELECT t.category, t1.count1, t2.count2, t3.count3, t4.count4, t5.count5, t6.count6, t7.count7, t8.count8, t9.count9, t10.count10, t11.count11, t12.count12, t13.count13\n",
    "FROM t\n",
    "LEFT JOIN t1\n",
    "ON t.category = t1.category1\n",
    "LEFT JOIN t2\n",
    "ON t.category = t2.category2\n",
    "LEFT JOIN t3\n",
    "ON t.category = t3.category3\n",
    "LEFT JOIN t4\n",
    "ON t.category = t4.category4\n",
    "LEFT JOIN t5\n",
    "ON t.category = t5.category5\n",
    "LEFT JOIN t6\n",
    "ON t.category = t6.category6\n",
    "LEFT JOIN t7\n",
    "ON t.category = t7.category7\n",
    "LEFT JOIN t8\n",
    "ON t.category = t8.category8\n",
    "LEFT JOIN t9\n",
    "ON t.category = t9.category9\n",
    "LEFT JOIN t10\n",
    "ON t.category = t10.category10\n",
    "LEFT JOIN t11\n",
    "ON t.category = t11.category11\n",
    "LEFT JOIN t12\n",
    "ON t.category = t12.category12\n",
    "LEFT JOIN t13\n",
    "ON t.category = t13.category13)\n",
    "\n",
    "SELECT category, IFNULL(count1, 0) + IFNULL(count2, 0) + IFNULL(count3, 0) + IFNULL(count4, 0) + IFNULL(count5, 0) + IFNULL(count6, 0)+ IFNULL(count7, 0) + IFNULL(count8, 0) + IFNULL(count9, 0) + IFNULL(count10, 0) + IFNULL(count11, 0) + IFNULL(count12, 0) + IFNULL(count13, 0) AS total_count\n",
    "FROM table_ultimate\n",
    "ORDER BY total_count DESC"
   ]
  },
  {
   "cell_type": "markdown",
   "metadata": {},
   "source": [
    "## top 25 sub categories"
   ]
  },
  {
   "cell_type": "code",
   "execution_count": 66,
   "metadata": {},
   "outputs": [
    {
     "data": {
      "image/png": "[encoded data removed]",
      "text/plain": [
       "<Figure size 1200x500 with 1 Axes>"
      ]
     },
     "metadata": {},
     "output_type": "display_data"
    }
   ],
   "source": [
    "plt.figure(figsize=(12, 5))\n",
    "g = sns.barplot(sub_categories_count_df[0:25], y=\"total_count\", x=\"category\")\n",
    "plt.xticks(rotation=90)\n",
    "g.set_title(\"Total count of Top 25 Subcategories\", fontsize=18)\n",
    "g.set_xlabel(\"Category\", fontsize=14)\n",
    "g.set_ylabel(\"Count\", fontsize=12)\n",
    "plt.show();"
   ]
  },
  {
   "cell_type": "markdown",
   "metadata": {},
   "source": [
    "This plot shows the difference in total number for all categories, X-labels are removed as they will be too stacked and unreadable, see the plot for what it is, a visual representation of podcasts with x- or y-subcategory, visualizing that some subcategories are abundant while some are more scarce"
   ]
  },
  {
   "cell_type": "code",
   "execution_count": 67,
   "metadata": {},
   "outputs": [
    {
     "data": {
      "image/png": "[encoded data removed]",
      "text/plain": [
       "<Figure size 1500x800 with 1 Axes>"
      ]
     },
     "metadata": {},
     "output_type": "display_data"
    }
   ],
   "source": [
    "plt.figure(figsize=(15, 8))\n",
    "g = sns.barplot(sub_categories_count_df, x=\"category\", y=\"total_count\", edgecolor=\"C0\")\n",
    "plt.xticks(rotation=90)\n",
    "g.set_title(\"Total count of Podcasts with Subcategory\", fontsize=18)\n",
    "g.set_xlabel(\"Category\", fontsize=14)\n",
    "g.set_ylabel(\"Count\", fontsize=12)\n",
    "g.set(xticklabels=[])\n",
    "plt.show();"
   ]
  },
  {
   "cell_type": "markdown",
   "metadata": {},
   "source": [
    "## Reviews, subcategory 1 vs subcategory 2"
   ]
  },
  {
   "cell_type": "code",
   "execution_count": 68,
   "metadata": {},
   "outputs": [
    {
     "data": {
      "text/html": [
       "<div>\n",
       "<style scoped>\n",
       "    .dataframe tbody tr th:only-of-type {\n",
       "        vertical-align: middle;\n",
       "    }\n",
       "\n",
       "    .dataframe tbody tr th {\n",
       "        vertical-align: top;\n",
       "    }\n",
       "\n",
       "    .dataframe thead th {\n",
       "        text-align: right;\n",
       "    }\n",
       "</style>\n",
       "<table border=\"1\" class=\"dataframe\">\n",
       "  <thead>\n",
       "    <tr style=\"text-align: right;\">\n",
       "      <th></th>\n",
       "      <th>podcast_id</th>\n",
       "      <th>podcast</th>\n",
       "      <th>num_of_reviews</th>\n",
       "    </tr>\n",
       "  </thead>\n",
       "  <tbody>\n",
       "    <tr>\n",
       "      <th>0</th>\n",
       "      <td>bf5bf76d5b6ffbf9a31bba4480383b7f</td>\n",
       "      <td>Crime Junkie</td>\n",
       "      <td>31052</td>\n",
       "    </tr>\n",
       "    <tr>\n",
       "      <th>1</th>\n",
       "      <td>bc5ddad3898e0973eb541577d1df8004</td>\n",
       "      <td>My Favorite Murder with Karen Kilgariff and Ge...</td>\n",
       "      <td>9727</td>\n",
       "    </tr>\n",
       "    <tr>\n",
       "      <th>2</th>\n",
       "      <td>f5fce0325ac6a4bf5e191d6608b95797</td>\n",
       "      <td>The Ben Shapiro Show</td>\n",
       "      <td>7464</td>\n",
       "    </tr>\n",
       "    <tr>\n",
       "      <th>3</th>\n",
       "      <td>b1a3eb2aa8e82ecbe9c91ed9a963c362</td>\n",
       "      <td>True Crime Obsessed</td>\n",
       "      <td>6677</td>\n",
       "    </tr>\n",
       "    <tr>\n",
       "      <th>4</th>\n",
       "      <td>bad6c91efdbee814db985c7a65199604</td>\n",
       "      <td>Wow in the World</td>\n",
       "      <td>5565</td>\n",
       "    </tr>\n",
       "    <tr>\n",
       "      <th>...</th>\n",
       "      <td>...</td>\n",
       "      <td>...</td>\n",
       "      <td>...</td>\n",
       "    </tr>\n",
       "    <tr>\n",
       "      <th>109989</th>\n",
       "      <td>fa3d0cc9b7b3010621c995da27c55315</td>\n",
       "      <td>Think For Yourself</td>\n",
       "      <td>1</td>\n",
       "    </tr>\n",
       "    <tr>\n",
       "      <th>109990</th>\n",
       "      <td>ffb5720165eef1ca97ca599c7da8d503</td>\n",
       "      <td>Think: Digital Futures</td>\n",
       "      <td>1</td>\n",
       "    </tr>\n",
       "    <tr>\n",
       "      <th>109991</th>\n",
       "      <td>d0baca131a9441d31a151a58c86b464e</td>\n",
       "      <td>ThinkRadio with Alan Wartes</td>\n",
       "      <td>1</td>\n",
       "    </tr>\n",
       "    <tr>\n",
       "      <th>109992</th>\n",
       "      <td>f5897d885d7c935d66caa6d8298504b7</td>\n",
       "      <td>ThinkTorah.org</td>\n",
       "      <td>1</td>\n",
       "    </tr>\n",
       "    <tr>\n",
       "      <th>109993</th>\n",
       "      <td>c0730bb60b712166533beff1661e6c84</td>\n",
       "      <td>Thinking Bee Podcast - Beekeeping and Agriculture</td>\n",
       "      <td>1</td>\n",
       "    </tr>\n",
       "  </tbody>\n",
       "</table>\n",
       "<p>109994 rows × 3 columns</p>\n",
       "</div>"
      ],
      "text/plain": [
       "                              podcast_id  \\\n",
       "0       bf5bf76d5b6ffbf9a31bba4480383b7f   \n",
       "1       bc5ddad3898e0973eb541577d1df8004   \n",
       "2       f5fce0325ac6a4bf5e191d6608b95797   \n",
       "3       b1a3eb2aa8e82ecbe9c91ed9a963c362   \n",
       "4       bad6c91efdbee814db985c7a65199604   \n",
       "...                                  ...   \n",
       "109989  fa3d0cc9b7b3010621c995da27c55315   \n",
       "109990  ffb5720165eef1ca97ca599c7da8d503   \n",
       "109991  d0baca131a9441d31a151a58c86b464e   \n",
       "109992  f5897d885d7c935d66caa6d8298504b7   \n",
       "109993  c0730bb60b712166533beff1661e6c84   \n",
       "\n",
       "                                                  podcast  num_of_reviews  \n",
       "0                                            Crime Junkie           31052  \n",
       "1       My Favorite Murder with Karen Kilgariff and Ge...            9727  \n",
       "2                                    The Ben Shapiro Show            7464  \n",
       "3                                     True Crime Obsessed            6677  \n",
       "4                                        Wow in the World            5565  \n",
       "...                                                   ...             ...  \n",
       "109989                                 Think For Yourself               1  \n",
       "109990                             Think: Digital Futures               1  \n",
       "109991                        ThinkRadio with Alan Wartes               1  \n",
       "109992                                     ThinkTorah.org               1  \n",
       "109993  Thinking Bee Podcast - Beekeeping and Agriculture               1  \n",
       "\n",
       "[109994 rows x 3 columns]"
      ]
     },
     "execution_count": 68,
     "metadata": {},
     "output_type": "execute_result"
    }
   ],
   "source": [
    "one_review_df"
   ]
  },
  {
   "cell_type": "code",
   "execution_count": 69,
   "metadata": {},
   "outputs": [],
   "source": [
    "cur = con.cursor()\n",
    "prompt = \"\"\"\n",
    "SELECT r.podcast_id, p.title AS podcast, r.title AS review_title, r.content, r.rating, r.author_id\n",
    "FROM reviews r\n",
    "JOIN podcasts p\n",
    "ON\n",
    "r.podcast_id = p.podcast_id\n",
    "\"\"\"\n",
    "cur.execute(prompt)\n",
    "df = pd.DataFrame(cur.fetchall(), columns=[d[0] for d in cur.description])\n",
    "cur.close()"
   ]
  },
  {
   "cell_type": "code",
   "execution_count": 70,
   "metadata": {},
   "outputs": [
    {
     "data": {
      "text/html": [
       "<span style=\"None\">Running query in &#x27;duckdb&#x27;</span>"
      ],
      "text/plain": [
       "Running query in 'duckdb'"
      ]
     },
     "metadata": {},
     "output_type": "display_data"
    }
   ],
   "source": [
    "%%sql \n",
    "review_rating_category_df <<\n",
    "WITH t1 AS(SELECT DISTINCT podcast_id, podcast, review_title, rating, author_id\n",
    "FROM df)\n",
    "SELECT t1.podcast, t1.review_title, t1.rating, c.category1, c.category2, t1.author_id\n",
    "FROM t1\n",
    "JOIN split_df c\n",
    "ON t1.podcast_id = c.podcast_id"
   ]
  },
  {
   "cell_type": "code",
   "execution_count": 71,
   "metadata": {},
   "outputs": [
    {
     "data": {
      "text/html": [
       "<span style=\"None\">Running query in &#x27;duckdb&#x27;</span>"
      ],
      "text/plain": [
       "Running query in 'duckdb'"
      ]
     },
     "metadata": {},
     "output_type": "display_data"
    },
    {
     "data": {
      "text/html": [
       "<div>\n",
       "<style scoped>\n",
       "    .dataframe tbody tr th:only-of-type {\n",
       "        vertical-align: middle;\n",
       "    }\n",
       "\n",
       "    .dataframe tbody tr th {\n",
       "        vertical-align: top;\n",
       "    }\n",
       "\n",
       "    .dataframe thead th {\n",
       "        text-align: right;\n",
       "    }\n",
       "</style>\n",
       "<table border=\"1\" class=\"dataframe\">\n",
       "  <thead>\n",
       "    <tr style=\"text-align: right;\">\n",
       "      <th></th>\n",
       "      <th>category1</th>\n",
       "      <th>average_rating_c1</th>\n",
       "      <th>count_c1</th>\n",
       "    </tr>\n",
       "  </thead>\n",
       "  <tbody>\n",
       "    <tr>\n",
       "      <th>0</th>\n",
       "      <td>hinduism</td>\n",
       "      <td>4.926966</td>\n",
       "      <td>178</td>\n",
       "    </tr>\n",
       "    <tr>\n",
       "      <th>1</th>\n",
       "      <td>spirituality</td>\n",
       "      <td>4.900952</td>\n",
       "      <td>2100</td>\n",
       "    </tr>\n",
       "    <tr>\n",
       "      <th>2</th>\n",
       "      <td>business</td>\n",
       "      <td>4.846527</td>\n",
       "      <td>216162</td>\n",
       "    </tr>\n",
       "    <tr>\n",
       "      <th>3</th>\n",
       "      <td>christianity</td>\n",
       "      <td>4.818906</td>\n",
       "      <td>81941</td>\n",
       "    </tr>\n",
       "    <tr>\n",
       "      <th>4</th>\n",
       "      <td>islam</td>\n",
       "      <td>4.816489</td>\n",
       "      <td>1504</td>\n",
       "    </tr>\n",
       "    <tr>\n",
       "      <th>5</th>\n",
       "      <td>health</td>\n",
       "      <td>4.813259</td>\n",
       "      <td>122030</td>\n",
       "    </tr>\n",
       "    <tr>\n",
       "      <th>6</th>\n",
       "      <td>religion</td>\n",
       "      <td>4.812841</td>\n",
       "      <td>25855</td>\n",
       "    </tr>\n",
       "    <tr>\n",
       "      <th>7</th>\n",
       "      <td>education</td>\n",
       "      <td>4.808751</td>\n",
       "      <td>146992</td>\n",
       "    </tr>\n",
       "    <tr>\n",
       "      <th>8</th>\n",
       "      <td>music</td>\n",
       "      <td>4.772562</td>\n",
       "      <td>42926</td>\n",
       "    </tr>\n",
       "    <tr>\n",
       "      <th>9</th>\n",
       "      <td>buddhism</td>\n",
       "      <td>4.771822</td>\n",
       "      <td>1306</td>\n",
       "    </tr>\n",
       "    <tr>\n",
       "      <th>10</th>\n",
       "      <td>judaism</td>\n",
       "      <td>4.763068</td>\n",
       "      <td>2047</td>\n",
       "    </tr>\n",
       "    <tr>\n",
       "      <th>11</th>\n",
       "      <td>leisure</td>\n",
       "      <td>4.740650</td>\n",
       "      <td>75751</td>\n",
       "    </tr>\n",
       "    <tr>\n",
       "      <th>12</th>\n",
       "      <td>arts</td>\n",
       "      <td>4.730944</td>\n",
       "      <td>143706</td>\n",
       "    </tr>\n",
       "    <tr>\n",
       "      <th>13</th>\n",
       "      <td>kids</td>\n",
       "      <td>4.684928</td>\n",
       "      <td>48957</td>\n",
       "    </tr>\n",
       "    <tr>\n",
       "      <th>14</th>\n",
       "      <td>comedy</td>\n",
       "      <td>4.625237</td>\n",
       "      <td>321344</td>\n",
       "    </tr>\n",
       "    <tr>\n",
       "      <th>15</th>\n",
       "      <td>sports</td>\n",
       "      <td>4.613644</td>\n",
       "      <td>142084</td>\n",
       "    </tr>\n",
       "    <tr>\n",
       "      <th>16</th>\n",
       "      <td>tv</td>\n",
       "      <td>4.572562</td>\n",
       "      <td>83329</td>\n",
       "    </tr>\n",
       "    <tr>\n",
       "      <th>17</th>\n",
       "      <td>technology</td>\n",
       "      <td>4.564214</td>\n",
       "      <td>13385</td>\n",
       "    </tr>\n",
       "    <tr>\n",
       "      <th>18</th>\n",
       "      <td>fiction</td>\n",
       "      <td>4.554480</td>\n",
       "      <td>25927</td>\n",
       "    </tr>\n",
       "    <tr>\n",
       "      <th>19</th>\n",
       "      <td>history</td>\n",
       "      <td>4.464527</td>\n",
       "      <td>46458</td>\n",
       "    </tr>\n",
       "    <tr>\n",
       "      <th>20</th>\n",
       "      <td>society</td>\n",
       "      <td>4.444158</td>\n",
       "      <td>208034</td>\n",
       "    </tr>\n",
       "    <tr>\n",
       "      <th>21</th>\n",
       "      <td>science</td>\n",
       "      <td>4.423925</td>\n",
       "      <td>25455</td>\n",
       "    </tr>\n",
       "    <tr>\n",
       "      <th>22</th>\n",
       "      <td>government</td>\n",
       "      <td>4.369484</td>\n",
       "      <td>12826</td>\n",
       "    </tr>\n",
       "    <tr>\n",
       "      <th>23</th>\n",
       "      <td>news</td>\n",
       "      <td>4.248658</td>\n",
       "      <td>143820</td>\n",
       "    </tr>\n",
       "    <tr>\n",
       "      <th>24</th>\n",
       "      <td>true</td>\n",
       "      <td>4.225084</td>\n",
       "      <td>71840</td>\n",
       "    </tr>\n",
       "  </tbody>\n",
       "</table>\n",
       "</div>"
      ],
      "text/plain": [
       "       category1  average_rating_c1  count_c1\n",
       "0       hinduism           4.926966       178\n",
       "1   spirituality           4.900952      2100\n",
       "2       business           4.846527    216162\n",
       "3   christianity           4.818906     81941\n",
       "4          islam           4.816489      1504\n",
       "5         health           4.813259    122030\n",
       "6       religion           4.812841     25855\n",
       "7      education           4.808751    146992\n",
       "8          music           4.772562     42926\n",
       "9       buddhism           4.771822      1306\n",
       "10       judaism           4.763068      2047\n",
       "11       leisure           4.740650     75751\n",
       "12          arts           4.730944    143706\n",
       "13          kids           4.684928     48957\n",
       "14        comedy           4.625237    321344\n",
       "15        sports           4.613644    142084\n",
       "16            tv           4.572562     83329\n",
       "17    technology           4.564214     13385\n",
       "18       fiction           4.554480     25927\n",
       "19       history           4.464527     46458\n",
       "20       society           4.444158    208034\n",
       "21       science           4.423925     25455\n",
       "22    government           4.369484     12826\n",
       "23          news           4.248658    143820\n",
       "24          true           4.225084     71840"
      ]
     },
     "execution_count": 71,
     "metadata": {},
     "output_type": "execute_result"
    }
   ],
   "source": [
    "%%sql\n",
    "SELECT category1, AVG(rating) AS average_rating_c1, COUNT(rating) AS count_c1\n",
    "FROM review_rating_category_df\n",
    "GROUP BY category1\n",
    "ORDER BY average_rating_c1 DESC"
   ]
  },
  {
   "cell_type": "code",
   "execution_count": 72,
   "metadata": {},
   "outputs": [
    {
     "data": {
      "text/html": [
       "<span style=\"None\">Running query in &#x27;duckdb&#x27;</span>"
      ],
      "text/plain": [
       "Running query in 'duckdb'"
      ]
     },
     "metadata": {},
     "output_type": "display_data"
    },
    {
     "data": {
      "text/html": [
       "<div>\n",
       "<style scoped>\n",
       "    .dataframe tbody tr th:only-of-type {\n",
       "        vertical-align: middle;\n",
       "    }\n",
       "\n",
       "    .dataframe tbody tr th {\n",
       "        vertical-align: top;\n",
       "    }\n",
       "\n",
       "    .dataframe thead th {\n",
       "        text-align: right;\n",
       "    }\n",
       "</style>\n",
       "<table border=\"1\" class=\"dataframe\">\n",
       "  <thead>\n",
       "    <tr style=\"text-align: right;\">\n",
       "      <th></th>\n",
       "      <th>category2</th>\n",
       "      <th>average_rating_c2</th>\n",
       "      <th>count_c2</th>\n",
       "    </tr>\n",
       "  </thead>\n",
       "  <tbody>\n",
       "    <tr>\n",
       "      <th>0</th>\n",
       "      <td>rugby</td>\n",
       "      <td>4.984962</td>\n",
       "      <td>133</td>\n",
       "    </tr>\n",
       "    <tr>\n",
       "      <th>1</th>\n",
       "      <td>marketing</td>\n",
       "      <td>4.938465</td>\n",
       "      <td>11782</td>\n",
       "    </tr>\n",
       "    <tr>\n",
       "      <th>2</th>\n",
       "      <td>entrepreneurship</td>\n",
       "      <td>4.908710</td>\n",
       "      <td>64235</td>\n",
       "    </tr>\n",
       "    <tr>\n",
       "      <th>3</th>\n",
       "      <td>islam</td>\n",
       "      <td>4.903846</td>\n",
       "      <td>52</td>\n",
       "    </tr>\n",
       "    <tr>\n",
       "      <th>4</th>\n",
       "      <td>christianity</td>\n",
       "      <td>4.896319</td>\n",
       "      <td>1331</td>\n",
       "    </tr>\n",
       "    <tr>\n",
       "      <th>...</th>\n",
       "      <td>...</td>\n",
       "      <td>...</td>\n",
       "      <td>...</td>\n",
       "    </tr>\n",
       "    <tr>\n",
       "      <th>81</th>\n",
       "      <td>social</td>\n",
       "      <td>4.244732</td>\n",
       "      <td>7024</td>\n",
       "    </tr>\n",
       "    <tr>\n",
       "      <th>82</th>\n",
       "      <td>crime</td>\n",
       "      <td>4.225084</td>\n",
       "      <td>71840</td>\n",
       "    </tr>\n",
       "    <tr>\n",
       "      <th>83</th>\n",
       "      <td>politics</td>\n",
       "      <td>4.145476</td>\n",
       "      <td>26513</td>\n",
       "    </tr>\n",
       "    <tr>\n",
       "      <th>84</th>\n",
       "      <td>true</td>\n",
       "      <td>4.090992</td>\n",
       "      <td>27288</td>\n",
       "    </tr>\n",
       "    <tr>\n",
       "      <th>85</th>\n",
       "      <td>daily</td>\n",
       "      <td>3.883479</td>\n",
       "      <td>12899</td>\n",
       "    </tr>\n",
       "  </tbody>\n",
       "</table>\n",
       "<p>86 rows × 3 columns</p>\n",
       "</div>"
      ],
      "text/plain": [
       "           category2  average_rating_c2  count_c2\n",
       "0              rugby           4.984962       133\n",
       "1          marketing           4.938465     11782\n",
       "2   entrepreneurship           4.908710     64235\n",
       "3              islam           4.903846        52\n",
       "4       christianity           4.896319      1331\n",
       "..               ...                ...       ...\n",
       "81            social           4.244732      7024\n",
       "82             crime           4.225084     71840\n",
       "83          politics           4.145476     26513\n",
       "84              true           4.090992     27288\n",
       "85             daily           3.883479     12899\n",
       "\n",
       "[86 rows x 3 columns]"
      ]
     },
     "execution_count": 72,
     "metadata": {},
     "output_type": "execute_result"
    }
   ],
   "source": [
    "%%sql\n",
    "SELECT category2, AVG(rating) AS average_rating_c2, COUNT(rating) AS count_c2\n",
    "FROM review_rating_category_df\n",
    "GROUP BY category2\n",
    "ORDER BY average_rating_c2 DESC"
   ]
  },
  {
   "cell_type": "code",
   "execution_count": 73,
   "metadata": {},
   "outputs": [
    {
     "data": {
      "text/html": [
       "<span style=\"None\">Running query in &#x27;duckdb&#x27;</span>"
      ],
      "text/plain": [
       "Running query in 'duckdb'"
      ]
     },
     "metadata": {},
     "output_type": "display_data"
    }
   ],
   "source": [
    "%%sql\n",
    "average_rating_df <<\n",
    "WITH t1 AS(SELECT category1, category2, AVG(rating) AS average_rating_category, COUNT(rating) AS count\n",
    "FROM review_rating_category_df\n",
    "GROUP BY category1, category2\n",
    "HAVING count > 10\n",
    "ORDER BY average_rating_category DESC),\n",
    "t2 AS(\n",
    "SELECT category1, AVG(rating) AS average_rating_c1, COUNT(rating) AS count_c1\n",
    "FROM review_rating_category_df\n",
    "GROUP BY category1\n",
    "HAVING count_c1 > 10\n",
    "ORDER BY average_rating_c1 DESC      \n",
    "),\n",
    "t3 AS(\n",
    "SELECT category2, AVG(rating) AS average_rating_c2, COUNT(rating) AS count_c2\n",
    "FROM review_rating_category_df\n",
    "GROUP BY category2\n",
    "HAVING count_c2 > 10\n",
    "ORDER BY average_rating_c2 DESC\n",
    ")\n",
    "SELECT t1.category1, t1.category2, t1.average_rating_category, t2.average_rating_c1, t3.average_rating_c2, t1.count, t2.count_c1, t3.count_c2\n",
    "FROM t1\n",
    "JOIN t2\n",
    "ON t1.category1 = t2.category1\n",
    "JOIN t3\n",
    "ON t1.category2 = t3.category2"
   ]
  },
  {
   "cell_type": "markdown",
   "metadata": {},
   "source": [
    "Statistical question, does category 2 have an greater impact on overall rating than category1 ? "
   ]
  },
  {
   "cell_type": "code",
   "execution_count": 74,
   "metadata": {},
   "outputs": [
    {
     "data": {
      "text/html": [
       "<span style=\"None\">Running query in &#x27;duckdb&#x27;</span>"
      ],
      "text/plain": [
       "Running query in 'duckdb'"
      ]
     },
     "metadata": {},
     "output_type": "display_data"
    },
    {
     "data": {
      "text/html": [
       "<div>\n",
       "<style scoped>\n",
       "    .dataframe tbody tr th:only-of-type {\n",
       "        vertical-align: middle;\n",
       "    }\n",
       "\n",
       "    .dataframe tbody tr th {\n",
       "        vertical-align: top;\n",
       "    }\n",
       "\n",
       "    .dataframe thead th {\n",
       "        text-align: right;\n",
       "    }\n",
       "</style>\n",
       "<table border=\"1\" class=\"dataframe\">\n",
       "  <thead>\n",
       "    <tr style=\"text-align: right;\">\n",
       "      <th></th>\n",
       "      <th>min(average_rating_category)</th>\n",
       "      <th>max(average_rating_category)</th>\n",
       "      <th>avg(average_rating_category)</th>\n",
       "      <th>min(average_rating_c1)</th>\n",
       "      <th>max(average_rating_c1)</th>\n",
       "      <th>avg(average_rating_c1)</th>\n",
       "      <th>min(average_rating_c2)</th>\n",
       "      <th>max(average_rating_c2)</th>\n",
       "      <th>avg(average_rating_c2)</th>\n",
       "    </tr>\n",
       "  </thead>\n",
       "  <tbody>\n",
       "    <tr>\n",
       "      <th>0</th>\n",
       "      <td>1.952381</td>\n",
       "      <td>5.0</td>\n",
       "      <td>4.67121</td>\n",
       "      <td>4.225084</td>\n",
       "      <td>4.926966</td>\n",
       "      <td>4.651838</td>\n",
       "      <td>3.883479</td>\n",
       "      <td>4.984962</td>\n",
       "      <td>4.660644</td>\n",
       "    </tr>\n",
       "  </tbody>\n",
       "</table>\n",
       "</div>"
      ],
      "text/plain": [
       "   min(average_rating_category)  max(average_rating_category)  \\\n",
       "0                      1.952381                           5.0   \n",
       "\n",
       "   avg(average_rating_category)  min(average_rating_c1)  \\\n",
       "0                       4.67121                4.225084   \n",
       "\n",
       "   max(average_rating_c1)  avg(average_rating_c1)  min(average_rating_c2)  \\\n",
       "0                4.926966                4.651838                3.883479   \n",
       "\n",
       "   max(average_rating_c2)  avg(average_rating_c2)  \n",
       "0                4.984962                4.660644  "
      ]
     },
     "execution_count": 74,
     "metadata": {},
     "output_type": "execute_result"
    }
   ],
   "source": [
    "%%sql\n",
    "SELECT MIN(average_rating_category), MAX(average_rating_category), AVG(average_rating_category), MIN(average_rating_c1), MAX(average_rating_c1), AVG(average_rating_c1),\n",
    "MIN(average_rating_c2), MAX(average_rating_c2), AVG(average_rating_c2)\n",
    "FROM average_rating_df"
   ]
  },
  {
   "cell_type": "markdown",
   "metadata": {},
   "source": [
    "## Podcast Rating variation between years and months"
   ]
  },
  {
   "cell_type": "code",
   "execution_count": 75,
   "metadata": {},
   "outputs": [],
   "source": [
    "cur = con.cursor()\n",
    "prompt = \"\"\"\n",
    "SELECT podcast_id, title, rating, strftime('%Y', created_at) AS year, strftime('%m', created_at) AS month\n",
    "FROM reviews\n",
    "\"\"\"\n",
    "cur.execute(prompt)\n",
    "year_rating_df = pd.DataFrame(cur.fetchall(), columns=[d[0] for d in cur.description])\n",
    "cur.close()"
   ]
  },
  {
   "cell_type": "code",
   "execution_count": 76,
   "metadata": {},
   "outputs": [
    {
     "data": {
      "text/html": [
       "<div>\n",
       "<style scoped>\n",
       "    .dataframe tbody tr th:only-of-type {\n",
       "        vertical-align: middle;\n",
       "    }\n",
       "\n",
       "    .dataframe tbody tr th {\n",
       "        vertical-align: top;\n",
       "    }\n",
       "\n",
       "    .dataframe thead th {\n",
       "        text-align: right;\n",
       "    }\n",
       "</style>\n",
       "<table border=\"1\" class=\"dataframe\">\n",
       "  <thead>\n",
       "    <tr style=\"text-align: right;\">\n",
       "      <th></th>\n",
       "      <th>podcast_id</th>\n",
       "      <th>title</th>\n",
       "      <th>rating</th>\n",
       "      <th>year</th>\n",
       "      <th>month</th>\n",
       "    </tr>\n",
       "  </thead>\n",
       "  <tbody>\n",
       "    <tr>\n",
       "      <th>0</th>\n",
       "      <td>c61aa81c9b929a66f0c1db6cbe5d8548</td>\n",
       "      <td>really interesting!</td>\n",
       "      <td>5</td>\n",
       "      <td>2018</td>\n",
       "      <td>04</td>\n",
       "    </tr>\n",
       "    <tr>\n",
       "      <th>1</th>\n",
       "      <td>c61aa81c9b929a66f0c1db6cbe5d8548</td>\n",
       "      <td>Must listen for anyone interested in the arts!!!</td>\n",
       "      <td>5</td>\n",
       "      <td>2018</td>\n",
       "      <td>05</td>\n",
       "    </tr>\n",
       "  </tbody>\n",
       "</table>\n",
       "</div>"
      ],
      "text/plain": [
       "                         podcast_id  \\\n",
       "0  c61aa81c9b929a66f0c1db6cbe5d8548   \n",
       "1  c61aa81c9b929a66f0c1db6cbe5d8548   \n",
       "\n",
       "                                              title  rating  year month  \n",
       "0                               really interesting!       5  2018    04  \n",
       "1  Must listen for anyone interested in the arts!!!       5  2018    05  "
      ]
     },
     "execution_count": 76,
     "metadata": {},
     "output_type": "execute_result"
    }
   ],
   "source": [
    "year_rating_df[0:2]"
   ]
  },
  {
   "cell_type": "code",
   "execution_count": 77,
   "metadata": {},
   "outputs": [
    {
     "data": {
      "text/html": [
       "<span style=\"None\">Running query in &#x27;duckdb&#x27;</span>"
      ],
      "text/plain": [
       "Running query in 'duckdb'"
      ]
     },
     "metadata": {},
     "output_type": "display_data"
    },
    {
     "data": {
      "text/html": [
       "<div>\n",
       "<style scoped>\n",
       "    .dataframe tbody tr th:only-of-type {\n",
       "        vertical-align: middle;\n",
       "    }\n",
       "\n",
       "    .dataframe tbody tr th {\n",
       "        vertical-align: top;\n",
       "    }\n",
       "\n",
       "    .dataframe thead th {\n",
       "        text-align: right;\n",
       "    }\n",
       "</style>\n",
       "<table border=\"1\" class=\"dataframe\">\n",
       "  <thead>\n",
       "    <tr style=\"text-align: right;\">\n",
       "      <th></th>\n",
       "      <th>year</th>\n",
       "      <th>average_rating</th>\n",
       "      <th>reviews</th>\n",
       "    </tr>\n",
       "  </thead>\n",
       "  <tbody>\n",
       "    <tr>\n",
       "      <th>0</th>\n",
       "      <td>2005</td>\n",
       "      <td>4.798077</td>\n",
       "      <td>208</td>\n",
       "    </tr>\n",
       "    <tr>\n",
       "      <th>1</th>\n",
       "      <td>2006</td>\n",
       "      <td>4.582519</td>\n",
       "      <td>3375</td>\n",
       "    </tr>\n",
       "    <tr>\n",
       "      <th>2</th>\n",
       "      <td>2007</td>\n",
       "      <td>4.532443</td>\n",
       "      <td>5918</td>\n",
       "    </tr>\n",
       "    <tr>\n",
       "      <th>3</th>\n",
       "      <td>2008</td>\n",
       "      <td>4.587744</td>\n",
       "      <td>8502</td>\n",
       "    </tr>\n",
       "    <tr>\n",
       "      <th>4</th>\n",
       "      <td>2009</td>\n",
       "      <td>4.566720</td>\n",
       "      <td>11166</td>\n",
       "    </tr>\n",
       "    <tr>\n",
       "      <th>5</th>\n",
       "      <td>2010</td>\n",
       "      <td>4.583269</td>\n",
       "      <td>12898</td>\n",
       "    </tr>\n",
       "    <tr>\n",
       "      <th>6</th>\n",
       "      <td>2011</td>\n",
       "      <td>4.621923</td>\n",
       "      <td>17835</td>\n",
       "    </tr>\n",
       "    <tr>\n",
       "      <th>7</th>\n",
       "      <td>2012</td>\n",
       "      <td>4.697659</td>\n",
       "      <td>26404</td>\n",
       "    </tr>\n",
       "    <tr>\n",
       "      <th>8</th>\n",
       "      <td>2013</td>\n",
       "      <td>4.721124</td>\n",
       "      <td>25592</td>\n",
       "    </tr>\n",
       "    <tr>\n",
       "      <th>9</th>\n",
       "      <td>2014</td>\n",
       "      <td>4.797612</td>\n",
       "      <td>36598</td>\n",
       "    </tr>\n",
       "    <tr>\n",
       "      <th>10</th>\n",
       "      <td>2015</td>\n",
       "      <td>4.813469</td>\n",
       "      <td>62011</td>\n",
       "    </tr>\n",
       "    <tr>\n",
       "      <th>11</th>\n",
       "      <td>2016</td>\n",
       "      <td>4.778873</td>\n",
       "      <td>86448</td>\n",
       "    </tr>\n",
       "    <tr>\n",
       "      <th>12</th>\n",
       "      <td>2017</td>\n",
       "      <td>4.767455</td>\n",
       "      <td>141504</td>\n",
       "    </tr>\n",
       "    <tr>\n",
       "      <th>13</th>\n",
       "      <td>2018</td>\n",
       "      <td>4.737906</td>\n",
       "      <td>203221</td>\n",
       "    </tr>\n",
       "    <tr>\n",
       "      <th>14</th>\n",
       "      <td>2019</td>\n",
       "      <td>4.616265</td>\n",
       "      <td>355469</td>\n",
       "    </tr>\n",
       "    <tr>\n",
       "      <th>15</th>\n",
       "      <td>2020</td>\n",
       "      <td>4.601789</td>\n",
       "      <td>435076</td>\n",
       "    </tr>\n",
       "    <tr>\n",
       "      <th>16</th>\n",
       "      <td>2021</td>\n",
       "      <td>4.563807</td>\n",
       "      <td>363832</td>\n",
       "    </tr>\n",
       "    <tr>\n",
       "      <th>17</th>\n",
       "      <td>2022</td>\n",
       "      <td>4.494005</td>\n",
       "      <td>249607</td>\n",
       "    </tr>\n",
       "    <tr>\n",
       "      <th>18</th>\n",
       "      <td>2023</td>\n",
       "      <td>4.437223</td>\n",
       "      <td>21863</td>\n",
       "    </tr>\n",
       "    <tr>\n",
       "      <th>19</th>\n",
       "      <td>None</td>\n",
       "      <td>5.000000</td>\n",
       "      <td>2</td>\n",
       "    </tr>\n",
       "  </tbody>\n",
       "</table>\n",
       "</div>"
      ],
      "text/plain": [
       "    year  average_rating  reviews\n",
       "0   2005        4.798077      208\n",
       "1   2006        4.582519     3375\n",
       "2   2007        4.532443     5918\n",
       "3   2008        4.587744     8502\n",
       "4   2009        4.566720    11166\n",
       "5   2010        4.583269    12898\n",
       "6   2011        4.621923    17835\n",
       "7   2012        4.697659    26404\n",
       "8   2013        4.721124    25592\n",
       "9   2014        4.797612    36598\n",
       "10  2015        4.813469    62011\n",
       "11  2016        4.778873    86448\n",
       "12  2017        4.767455   141504\n",
       "13  2018        4.737906   203221\n",
       "14  2019        4.616265   355469\n",
       "15  2020        4.601789   435076\n",
       "16  2021        4.563807   363832\n",
       "17  2022        4.494005   249607\n",
       "18  2023        4.437223    21863\n",
       "19  None        5.000000        2"
      ]
     },
     "execution_count": 77,
     "metadata": {},
     "output_type": "execute_result"
    }
   ],
   "source": [
    "%%sql\n",
    "SELECT year, AVG(rating) AS average_rating, COUNT(title) AS reviews\n",
    "FROM year_rating_df\n",
    "GROUP BY year\n",
    "ORDER BY year ASC"
   ]
  },
  {
   "cell_type": "code",
   "execution_count": 78,
   "metadata": {},
   "outputs": [
    {
     "data": {
      "text/html": [
       "<span style=\"None\">Running query in &#x27;duckdb&#x27;</span>"
      ],
      "text/plain": [
       "Running query in 'duckdb'"
      ]
     },
     "metadata": {},
     "output_type": "display_data"
    }
   ],
   "source": [
    "%%sql\n",
    "year_rating <<\n",
    "WITH t1 AS(\n",
    "SELECT year, AVG(rating) AS average_rating, COUNT(title) AS reviews\n",
    "FROM year_rating_df\n",
    "WHERE year != ''\n",
    "GROUP BY year\n",
    "ORDER BY year ASC)\n",
    "SELECT t1.year, t1.average_rating, t1.average_rating - (SELECT AVG(t1.average_rating) FROM t1) AS difference_avg_rating, t1.reviews * 100 / (SELECT SUM(t1.reviews) FROM t1) AS reviews_percentage\n",
    "FROM t1"
   ]
  },
  {
   "cell_type": "markdown",
   "metadata": {},
   "source": [
    "Podcasts saw an increase in average review ratings from 2012 -> 2018 and a decrease again from 2019 -> "
   ]
  },
  {
   "cell_type": "code",
   "execution_count": 79,
   "metadata": {},
   "outputs": [
    {
     "data": {
      "image/png": "[encoded data removed]",
      "text/plain": [
       "<Figure size 1200x800 with 1 Axes>"
      ]
     },
     "metadata": {},
     "output_type": "display_data"
    }
   ],
   "source": [
    "plt.figure(figsize=(12, 8))\n",
    "g = sns.barplot(data=year_rating, x=\"year\", y=\"difference_avg_rating\")\n",
    "plt.xticks(rotation=90)\n",
    "g.set_title(\"Variation in mean rating between years \", fontsize=15)\n",
    "g.set_xlabel(\"Year\", fontsize=12)\n",
    "g.set_ylabel(\"Difference in mean rating\", fontsize=12)\n",
    "plt.show()\n",
    "plt.show()"
   ]
  },
  {
   "cell_type": "markdown",
   "metadata": {},
   "source": [
    "## Most of the podcast reviews are from the covid-19 years, is this a coincidence or did more people listen to podcasts during lockdown ? \n",
    "\n",
    "Keep in mind that the number of reviews where on an increase before the covid-19 pandemic"
   ]
  },
  {
   "cell_type": "code",
   "execution_count": 80,
   "metadata": {},
   "outputs": [
    {
     "data": {
      "image/png": "[encoded data removed]",
      "text/plain": [
       "<Figure size 1200x600 with 1 Axes>"
      ]
     },
     "metadata": {},
     "output_type": "display_data"
    }
   ],
   "source": [
    "plt.figure(figsize=(12, 6))\n",
    "g = sns.barplot(data=year_rating, x=\"year\", y=\"reviews_percentage\")\n",
    "plt.xticks(rotation=90)\n",
    "g.set_title(\"Percentage of total podcast reviews for each year\", fontsize=15)\n",
    "g.set_xlabel(\"Year\", fontsize=12)\n",
    "g.set_ylabel(\"Percentage\", fontsize=12)\n",
    "plt.show()\n",
    "plt.show()"
   ]
  },
  {
   "cell_type": "markdown",
   "metadata": {},
   "source": [
    "#### Creating statistics and confidence intervals for two years that are close in proximity (2022 and 2023)\n",
    "\n",
    "We expect reviews to be lower rated in 2022 than in 2021"
   ]
  },
  {
   "cell_type": "code",
   "execution_count": 81,
   "metadata": {},
   "outputs": [
    {
     "data": {
      "text/html": [
       "<span style=\"None\">Running query in &#x27;duckdb&#x27;</span>"
      ],
      "text/plain": [
       "Running query in 'duckdb'"
      ]
     },
     "metadata": {},
     "output_type": "display_data"
    }
   ],
   "source": [
    "%%sql\n",
    "ratings_2021_df <<\n",
    "SELECT rating, year\n",
    "FROM year_rating_df\n",
    "WHERE year = 2021\n",
    "ORDER BY rating ASC"
   ]
  },
  {
   "cell_type": "code",
   "execution_count": 82,
   "metadata": {},
   "outputs": [
    {
     "data": {
      "text/html": [
       "<span style=\"None\">Running query in &#x27;duckdb&#x27;</span>"
      ],
      "text/plain": [
       "Running query in 'duckdb'"
      ]
     },
     "metadata": {},
     "output_type": "display_data"
    }
   ],
   "source": [
    "%%sql\n",
    "ratings_2022_df <<\n",
    "SELECT rating, year\n",
    "FROM year_rating_df\n",
    "WHERE year = 2022\n",
    "ORDER BY rating ASC"
   ]
  },
  {
   "cell_type": "code",
   "execution_count": 83,
   "metadata": {},
   "outputs": [],
   "source": [
    "def confidence_interval(data, confidence=0.95):\n",
    "    interval = st.norm.interval(confidence=confidence, loc=np.mean(data), scale=st.sem(data))\n",
    "    return interval"
   ]
  },
  {
   "cell_type": "code",
   "execution_count": 84,
   "metadata": {},
   "outputs": [
    {
     "name": "stdout",
     "output_type": "stream",
     "text": [
      "The confidence interval for ratings in 2022 = (np.float64(4.489274016050548), np.float64(4.498735134333855))\n",
      "The confidence interval for ratings in 2021 = (np.float64(4.560121298488119), np.float64(4.567492545263943))\n"
     ]
    }
   ],
   "source": [
    "ci_2022 = confidence_interval(ratings_2022_df[\"rating\"], confidence=0.95)\n",
    "ci_2021 = confidence_interval(ratings_2021_df[\"rating\"], confidence=0.95)\n",
    "print(f\"The confidence interval for ratings in 2022 = {ci_2022}\")\n",
    "print(f\"The confidence interval for ratings in 2021 = {ci_2021}\")"
   ]
  },
  {
   "cell_type": "markdown",
   "metadata": {},
   "source": [
    "Visualizing, by drawing a line between the lower and upper end of both confidence intervals, that the two confidence intervals doesn't overlap, and therefore indicating that there is a significant difference between the two means"
   ]
  },
  {
   "cell_type": "code",
   "execution_count": 85,
   "metadata": {},
   "outputs": [
    {
     "data": {
      "text/plain": [
       "<Axes: >"
      ]
     },
     "execution_count": 85,
     "metadata": {},
     "output_type": "execute_result"
    },
    {
     "data": {
      "image/png": "[encoded data removed]",
      "text/plain": [
       "<Figure size 400x400 with 1 Axes>"
      ]
     },
     "metadata": {},
     "output_type": "display_data"
    }
   ],
   "source": [
    "plt.figure(figsize=(4, 4))\n",
    "df = pd.DataFrame({\"2022\": ci_2022, \"2023\": ci_2021})\n",
    "sns.lineplot(df)"
   ]
  },
  {
   "cell_type": "markdown",
   "metadata": {},
   "source": [
    "Null hypothesis: There is no significant difference between the mean rating of podcasts in 2021 and 2022\n",
    "Alternate Hypothesis: Podcasts where higher rated in 2021 compared to 2022"
   ]
  },
  {
   "cell_type": "markdown",
   "metadata": {},
   "source": [
    "### Podcasts where on average higher rated in 2021 compared to 2022"
   ]
  },
  {
   "cell_type": "code",
   "execution_count": 86,
   "metadata": {},
   "outputs": [
    {
     "name": "stdout",
     "output_type": "stream",
     "text": [
      "The test statistic = 23.07487726098255 and the P-value = 4.139223877305146e-118\n",
      "\n",
      "Reject the null hypothesis: Podcasts reviews in 2021 have on average a higher rating than in 2022\n"
     ]
    }
   ],
   "source": [
    "rating_2022 = ratings_2022_df[\"rating\"].to_list()\n",
    "rating_2021 = ratings_2021_df[\"rating\"].to_list()\n",
    "\n",
    "alpha = 0.05\n",
    "t_stat, p_value = ztest(rating_2021, rating_2022, value=0, alternative=\"larger\")\n",
    "print(f\"The test statistic = {t_stat} and the P-value = {p_value}\")\n",
    "\n",
    "if p_value < alpha:\n",
    "    print(\n",
    "        \"\"\"\n",
    "Reject the null hypothesis: Podcasts reviews in 2021 have on average a higher rating than in 2022\"\"\"\n",
    "    )\n",
    "else:\n",
    "    print(\n",
    "        \"\"\"\n",
    "Fail to Reject the null hypothesis: There is no significant difference between podcast review ratings in 2021 and 2022\n",
    "          \"\"\"\n",
    "    )"
   ]
  },
  {
   "cell_type": "markdown",
   "metadata": {},
   "source": [
    "### There is a small difference in review rating from month to month "
   ]
  },
  {
   "cell_type": "code",
   "execution_count": 87,
   "metadata": {},
   "outputs": [
    {
     "data": {
      "text/html": [
       "<span style=\"None\">Running query in &#x27;duckdb&#x27;</span>"
      ],
      "text/plain": [
       "Running query in 'duckdb'"
      ]
     },
     "metadata": {},
     "output_type": "display_data"
    },
    {
     "data": {
      "text/html": [
       "<div>\n",
       "<style scoped>\n",
       "    .dataframe tbody tr th:only-of-type {\n",
       "        vertical-align: middle;\n",
       "    }\n",
       "\n",
       "    .dataframe tbody tr th {\n",
       "        vertical-align: top;\n",
       "    }\n",
       "\n",
       "    .dataframe thead th {\n",
       "        text-align: right;\n",
       "    }\n",
       "</style>\n",
       "<table border=\"1\" class=\"dataframe\">\n",
       "  <thead>\n",
       "    <tr style=\"text-align: right;\">\n",
       "      <th></th>\n",
       "      <th>month</th>\n",
       "      <th>average_rating</th>\n",
       "      <th>reviews</th>\n",
       "    </tr>\n",
       "  </thead>\n",
       "  <tbody>\n",
       "    <tr>\n",
       "      <th>0</th>\n",
       "      <td>01</td>\n",
       "      <td>4.619766</td>\n",
       "      <td>185241</td>\n",
       "    </tr>\n",
       "    <tr>\n",
       "      <th>1</th>\n",
       "      <td>02</td>\n",
       "      <td>4.655231</td>\n",
       "      <td>171886</td>\n",
       "    </tr>\n",
       "    <tr>\n",
       "      <th>2</th>\n",
       "      <td>03</td>\n",
       "      <td>4.633464</td>\n",
       "      <td>169713</td>\n",
       "    </tr>\n",
       "    <tr>\n",
       "      <th>3</th>\n",
       "      <td>04</td>\n",
       "      <td>4.644383</td>\n",
       "      <td>167731</td>\n",
       "    </tr>\n",
       "    <tr>\n",
       "      <th>4</th>\n",
       "      <td>05</td>\n",
       "      <td>4.641749</td>\n",
       "      <td>170372</td>\n",
       "    </tr>\n",
       "    <tr>\n",
       "      <th>5</th>\n",
       "      <td>06</td>\n",
       "      <td>4.611858</td>\n",
       "      <td>170850</td>\n",
       "    </tr>\n",
       "    <tr>\n",
       "      <th>6</th>\n",
       "      <td>07</td>\n",
       "      <td>4.625680</td>\n",
       "      <td>173397</td>\n",
       "    </tr>\n",
       "    <tr>\n",
       "      <th>7</th>\n",
       "      <td>08</td>\n",
       "      <td>4.625162</td>\n",
       "      <td>178429</td>\n",
       "    </tr>\n",
       "    <tr>\n",
       "      <th>8</th>\n",
       "      <td>09</td>\n",
       "      <td>4.624506</td>\n",
       "      <td>180498</td>\n",
       "    </tr>\n",
       "    <tr>\n",
       "      <th>9</th>\n",
       "      <td>10</td>\n",
       "      <td>4.625952</td>\n",
       "      <td>184404</td>\n",
       "    </tr>\n",
       "    <tr>\n",
       "      <th>10</th>\n",
       "      <td>11</td>\n",
       "      <td>4.608505</td>\n",
       "      <td>161550</td>\n",
       "    </tr>\n",
       "    <tr>\n",
       "      <th>11</th>\n",
       "      <td>12</td>\n",
       "      <td>4.606825</td>\n",
       "      <td>153456</td>\n",
       "    </tr>\n",
       "  </tbody>\n",
       "</table>\n",
       "</div>"
      ],
      "text/plain": [
       "   month  average_rating  reviews\n",
       "0     01        4.619766   185241\n",
       "1     02        4.655231   171886\n",
       "2     03        4.633464   169713\n",
       "3     04        4.644383   167731\n",
       "4     05        4.641749   170372\n",
       "5     06        4.611858   170850\n",
       "6     07        4.625680   173397\n",
       "7     08        4.625162   178429\n",
       "8     09        4.624506   180498\n",
       "9     10        4.625952   184404\n",
       "10    11        4.608505   161550\n",
       "11    12        4.606825   153456"
      ]
     },
     "execution_count": 87,
     "metadata": {},
     "output_type": "execute_result"
    }
   ],
   "source": [
    "%%sql\n",
    "SELECT month, AVG(rating) AS average_rating, COUNT(title) AS reviews\n",
    "FROM year_rating_df\n",
    "WHERE month != ''\n",
    "GROUP BY month\n",
    "ORDER BY month ASC"
   ]
  },
  {
   "cell_type": "code",
   "execution_count": 88,
   "metadata": {},
   "outputs": [
    {
     "data": {
      "text/html": [
       "<span style=\"None\">Running query in &#x27;duckdb&#x27;</span>"
      ],
      "text/plain": [
       "Running query in 'duckdb'"
      ]
     },
     "metadata": {},
     "output_type": "display_data"
    }
   ],
   "source": [
    "%%sql\n",
    "month_rating <<\n",
    "WITH t1 AS(\n",
    "SELECT month, AVG(rating) AS average_rating, COUNT(title) AS reviews\n",
    "FROM year_rating_df\n",
    "WHERE month != ''\n",
    "GROUP BY month\n",
    "ORDER BY month ASC)\n",
    "SELECT t1.month, t1.average_rating, t1.average_rating - (SELECT AVG(t1.average_rating) FROM t1) AS difference_avg_rating, t1.reviews * 100 / (SELECT SUM(t1.reviews) FROM t1) AS reviews_percentage\n",
    "FROM t1"
   ]
  },
  {
   "cell_type": "code",
   "execution_count": 89,
   "metadata": {},
   "outputs": [
    {
     "data": {
      "image/png": "[encoded data removed]",
      "text/plain": [
       "<Figure size 1000x500 with 1 Axes>"
      ]
     },
     "metadata": {},
     "output_type": "display_data"
    }
   ],
   "source": [
    "plt.figure(figsize=(10, 5))\n",
    "g = sns.barplot(data=month_rating, x=\"month\", y=\"reviews_percentage\")\n",
    "g.set_title(\"Percentage of all reviews, divided into months\", fontsize=15)\n",
    "g.set_xlabel(\"Month\", fontsize=12)\n",
    "g.set_ylabel(\"Percentage\", fontsize=12)\n",
    "plt.show();"
   ]
  },
  {
   "cell_type": "code",
   "execution_count": 90,
   "metadata": {},
   "outputs": [
    {
     "data": {
      "image/png": "[encoded data removed]",
      "text/plain": [
       "<Figure size 1000x500 with 1 Axes>"
      ]
     },
     "metadata": {},
     "output_type": "display_data"
    }
   ],
   "source": [
    "plt.figure(figsize=(10, 5))\n",
    "g = sns.barplot(data=month_rating, x=\"month\", y=\"difference_avg_rating\")\n",
    "g.set_title(\"Variation in mean rating between months \", fontsize=15)\n",
    "g.set_xlabel(\"Month\", fontsize=10)\n",
    "g.set_ylabel(\"Difference in mean rating\", fontsize=10)\n",
    "plt.show();"
   ]
  },
  {
   "cell_type": "markdown",
   "metadata": {},
   "source": [
    "## Summer months vs spring months, for all years and for the pandemic years (2019-2022) specifically "
   ]
  },
  {
   "cell_type": "markdown",
   "metadata": {},
   "source": [
    "### All years first"
   ]
  },
  {
   "cell_type": "code",
   "execution_count": 91,
   "metadata": {},
   "outputs": [
    {
     "data": {
      "text/html": [
       "<span style=\"None\">Running query in &#x27;duckdb&#x27;</span>"
      ],
      "text/plain": [
       "Running query in 'duckdb'"
      ]
     },
     "metadata": {},
     "output_type": "display_data"
    }
   ],
   "source": [
    "%%sql\n",
    "spring_months <<\n",
    "SELECT month, rating\n",
    "FROM year_rating_df\n",
    "WHERE month = 3 OR month = 4 OR month = 5\n",
    "ORDER BY month"
   ]
  },
  {
   "cell_type": "code",
   "execution_count": 92,
   "metadata": {},
   "outputs": [
    {
     "data": {
      "text/html": [
       "<span style=\"None\">Running query in &#x27;duckdb&#x27;</span>"
      ],
      "text/plain": [
       "Running query in 'duckdb'"
      ]
     },
     "metadata": {},
     "output_type": "display_data"
    }
   ],
   "source": [
    "%%sql\n",
    "summer_months <<\n",
    "SELECT month, rating\n",
    "FROM year_rating_df\n",
    "WHERE month = 6 OR month = 7 OR month = 8\n",
    "ORDER BY month"
   ]
  },
  {
   "cell_type": "markdown",
   "metadata": {},
   "source": [
    "#### The confidence intervals do not overlap and this signifies that there is a significant difference between the two groups, ratings during summer vs during winter"
   ]
  },
  {
   "cell_type": "code",
   "execution_count": 93,
   "metadata": {},
   "outputs": [
    {
     "name": "stdout",
     "output_type": "stream",
     "text": [
      "The confidence interval for ratings in summer months = (np.float64(4.618128954218062), np.float64(4.623841214681982))\n",
      "The confidence interval for ratings in winter months = (np.float64(4.637012491855731), np.float64(4.642687241906104))\n"
     ]
    }
   ],
   "source": [
    "ci_summer_months = confidence_interval(summer_months[\"rating\"], confidence=0.95)\n",
    "ci_spring_months = confidence_interval(spring_months[\"rating\"], confidence=0.95)\n",
    "print(f\"The confidence interval for ratings in summer months = {ci_summer_months}\")\n",
    "print(f\"The confidence interval for ratings in winter months = {ci_spring_months}\")"
   ]
  },
  {
   "cell_type": "code",
   "execution_count": 94,
   "metadata": {},
   "outputs": [
    {
     "data": {
      "text/plain": [
       "<Axes: >"
      ]
     },
     "execution_count": 94,
     "metadata": {},
     "output_type": "execute_result"
    },
    {
     "data": {
      "image/png": "[encoded data removed]",
      "text/plain": [
       "<Figure size 400x400 with 1 Axes>"
      ]
     },
     "metadata": {},
     "output_type": "display_data"
    }
   ],
   "source": [
    "plt.figure(figsize=(4, 4))\n",
    "winter_df = pd.DataFrame(\n",
    "    {\"summer_ratings\": ci_summer_months, \"spring_ratings\": ci_spring_months}\n",
    ")\n",
    "sns.lineplot(winter_df)"
   ]
  },
  {
   "cell_type": "code",
   "execution_count": 95,
   "metadata": {},
   "outputs": [
    {
     "name": "stdout",
     "output_type": "stream",
     "text": [
      "The test statistic = 9.181238109303772 and the P-value = 2.130814687825593e-20\n",
      "\n",
      "Reject the null hypothesis: Podcast reviews during spring months are higher rated than summer months\n"
     ]
    }
   ],
   "source": [
    "spring_months_rating = spring_months[\"rating\"].to_list()\n",
    "summer_months_rating = summer_months[\"rating\"].to_list()\n",
    "\n",
    "alpha = 0.05\n",
    "t_stat, p_value = ztest(\n",
    "    spring_months_rating, summer_months_rating, value=0, alternative=\"larger\"\n",
    ")\n",
    "print(f\"The test statistic = {t_stat} and the P-value = {p_value}\")\n",
    "\n",
    "if p_value < alpha:\n",
    "    print(\n",
    "        \"\"\"\n",
    "Reject the null hypothesis: Podcast reviews during spring months are higher rated than summer months\"\"\"\n",
    "    )\n",
    "else:\n",
    "    print(\n",
    "        \"\"\"\n",
    "Fail to Reject the null hypothesis: There is not enough evidence to suggest a significant difference between podcast ratings during spring and summer\n",
    "          \"\"\"\n",
    "    )"
   ]
  },
  {
   "cell_type": "markdown",
   "metadata": {},
   "source": [
    "### The pandemic years (2019-2021)\n",
    "\n",
    "would 2019 -> 2022 be better ?"
   ]
  },
  {
   "cell_type": "code",
   "execution_count": 96,
   "metadata": {},
   "outputs": [
    {
     "data": {
      "text/html": [
       "<span style=\"None\">Running query in &#x27;duckdb&#x27;</span>"
      ],
      "text/plain": [
       "Running query in 'duckdb'"
      ]
     },
     "metadata": {},
     "output_type": "display_data"
    }
   ],
   "source": [
    "%%sql\n",
    "month_rating_pandemic_years <<\n",
    "WITH t1 AS(\n",
    "SELECT month, AVG(rating) AS average_rating, COUNT(title) AS reviews\n",
    "FROM year_rating_df\n",
    "WHERE month != '' AND (year = 2019 OR year = 2020 OR year = 2021)\n",
    "GROUP BY month\n",
    "ORDER BY month ASC)\n",
    "SELECT t1.month, t1.average_rating, t1.average_rating - (SELECT AVG(t1.average_rating) FROM t1) AS difference_avg_rating, t1.reviews * 100 / (SELECT SUM(t1.reviews) FROM t1) AS reviews_percentage\n",
    "FROM t1"
   ]
  },
  {
   "cell_type": "markdown",
   "metadata": {},
   "source": [
    "Some smaller differences in how reviews are divided into different months based on percentage, however the difference is small. \n",
    "\n",
    "Some similar trends in regards to review rating between all years and only the pandemic years \n",
    "\n",
    "Keep in mind that the pandemic years also is a majority of all reviews in this dataset, and it will influence the all years analysis, this might be redundant ? I'm choosing to keep this in as I've already done the work, however I realize as I am writing this that this is probably redundant. "
   ]
  },
  {
   "cell_type": "code",
   "execution_count": 97,
   "metadata": {},
   "outputs": [
    {
     "data": {
      "image/png": "[encoded data removed]",
      "text/plain": [
       "<Figure size 1400x600 with 2 Axes>"
      ]
     },
     "metadata": {},
     "output_type": "display_data"
    }
   ],
   "source": [
    "fig, axes = plt.subplots(1, 2, sharey=\"all\")\n",
    "fig.subplots_adjust(top=0.85)\n",
    "sns.barplot(data=month_rating, x=\"month\", y=\"reviews_percentage\", ax=axes[0])\n",
    "sns.barplot(data=month_rating_pandemic_years, x=\"month\", y=\"reviews_percentage\", ax=axes[1])\n",
    "\n",
    "# sns.set_context(\"paper\", font_scale=1.3)\n",
    "fig.set_figheight(6)\n",
    "fig.set_figwidth(14)\n",
    "\n",
    "fig.suptitle(\"Percentage of all reviews, divided into months for:\", fontsize=20)\n",
    "axes[0].set_title(\"All years\", fontsize=15)\n",
    "axes[1].set_title(\"Pandemic years\", fontsize=15)\n",
    "axes[0].set_xlabel(\"Month\", fontsize=12)\n",
    "axes[1].set_xlabel(\"Month\", fontsize=12)\n",
    "axes[0].set_ylabel(\"Percentage\", fontsize=12)\n",
    "plt.show();"
   ]
  },
  {
   "cell_type": "markdown",
   "metadata": {},
   "source": []
  },
  {
   "cell_type": "code",
   "execution_count": 98,
   "metadata": {},
   "outputs": [
    {
     "data": {
      "image/png": "[encoded data removed]",
      "text/plain": [
       "<Figure size 1400x600 with 2 Axes>"
      ]
     },
     "metadata": {},
     "output_type": "display_data"
    }
   ],
   "source": [
    "fig, axes = plt.subplots(1, 2, sharey=\"all\")\n",
    "fig.subplots_adjust(top=0.85)\n",
    "sns.barplot(data=month_rating, x=\"month\", y=\"difference_avg_rating\", ax=axes[0])\n",
    "sns.barplot(data=month_rating_pandemic_years, x=\"month\", y=\"difference_avg_rating\", ax=axes[1])\n",
    "# sns.set_context(\"paper\", font_scale=1.3)\n",
    "fig.set_figheight(6)\n",
    "fig.set_figwidth(14)\n",
    "\n",
    "fig.suptitle(\"Variation in mean rating between months for:\", fontsize=20)\n",
    "axes[0].set_title(\"All years\", fontsize=15)\n",
    "axes[1].set_title(\"Pandemic years\", fontsize=15)\n",
    "axes[0].set_xlabel(\"Month\", fontsize=12)\n",
    "axes[1].set_xlabel(\"Month\", fontsize=12)\n",
    "axes[0].set_ylabel(\"Difference in mean rating\", fontsize=12)\n",
    "plt.show();"
   ]
  },
  {
   "cell_type": "markdown",
   "metadata": {},
   "source": [
    "## Reviews for a specific podcast"
   ]
  },
  {
   "cell_type": "markdown",
   "metadata": {},
   "source": [
    "Calling the review dataframe with adjustments so we only get one review per author in the dataframe"
   ]
  },
  {
   "cell_type": "code",
   "execution_count": 99,
   "metadata": {},
   "outputs": [],
   "source": [
    "cur = con.cursor()\n",
    "prompt = \"\"\"\n",
    "SELECT p.podcast_id, p.title AS podcast, r.author_id, r.title AS review_title, \n",
    "COUNT(r.title) AS one_review_per_author_per_podcast, rating, content,\n",
    "strftime('%Y', created_at) AS year, strftime('%m', created_at) AS month\n",
    "FROM reviews r\n",
    "JOIN podcasts p\n",
    "ON r.podcast_id = p.podcast_id\n",
    "GROUP BY podcast, r.author_id, review_title\n",
    "HAVING one_review_per_author_per_podcast = 1\n",
    "ORDER BY one_review_per_author_per_podcast DESC\n",
    "\"\"\"\n",
    "cur.execute(prompt)\n",
    "df = pd.DataFrame(cur.fetchall(), columns=[d[0] for d in cur.description])\n",
    "cur.close()"
   ]
  },
  {
   "cell_type": "markdown",
   "metadata": {},
   "source": [
    "Printing top 6 podcast to choose one to use in the analysis. Decided on diving deeper into reviews for True Crime Obsessed podcast."
   ]
  },
  {
   "cell_type": "code",
   "execution_count": 100,
   "metadata": {},
   "outputs": [
    {
     "data": {
      "text/html": [
       "<span style=\"None\">Running query in &#x27;duckdb&#x27;</span>"
      ],
      "text/plain": [
       "Running query in 'duckdb'"
      ]
     },
     "metadata": {},
     "output_type": "display_data"
    },
    {
     "data": {
      "text/html": [
       "<div>\n",
       "<style scoped>\n",
       "    .dataframe tbody tr th:only-of-type {\n",
       "        vertical-align: middle;\n",
       "    }\n",
       "\n",
       "    .dataframe tbody tr th {\n",
       "        vertical-align: top;\n",
       "    }\n",
       "\n",
       "    .dataframe thead th {\n",
       "        text-align: right;\n",
       "    }\n",
       "</style>\n",
       "<table border=\"1\" class=\"dataframe\">\n",
       "  <thead>\n",
       "    <tr style=\"text-align: right;\">\n",
       "      <th></th>\n",
       "      <th>podcast</th>\n",
       "      <th>count</th>\n",
       "    </tr>\n",
       "  </thead>\n",
       "  <tbody>\n",
       "    <tr>\n",
       "      <th>0</th>\n",
       "      <td>Crime Junkie</td>\n",
       "      <td>31052</td>\n",
       "    </tr>\n",
       "    <tr>\n",
       "      <th>1</th>\n",
       "      <td>My Favorite Murder with Karen Kilgariff and Ge...</td>\n",
       "      <td>9727</td>\n",
       "    </tr>\n",
       "    <tr>\n",
       "      <th>2</th>\n",
       "      <td>The Ben Shapiro Show</td>\n",
       "      <td>7464</td>\n",
       "    </tr>\n",
       "    <tr>\n",
       "      <th>3</th>\n",
       "      <td>True Crime Obsessed</td>\n",
       "      <td>6677</td>\n",
       "    </tr>\n",
       "    <tr>\n",
       "      <th>4</th>\n",
       "      <td>Wow in the World</td>\n",
       "      <td>5565</td>\n",
       "    </tr>\n",
       "    <tr>\n",
       "      <th>5</th>\n",
       "      <td>The Daily</td>\n",
       "      <td>5059</td>\n",
       "    </tr>\n",
       "  </tbody>\n",
       "</table>\n",
       "</div>"
      ],
      "text/plain": [
       "                                             podcast  count\n",
       "0                                       Crime Junkie  31052\n",
       "1  My Favorite Murder with Karen Kilgariff and Ge...   9727\n",
       "2                               The Ben Shapiro Show   7464\n",
       "3                                True Crime Obsessed   6677\n",
       "4                                   Wow in the World   5565\n",
       "5                                          The Daily   5059"
      ]
     },
     "execution_count": 100,
     "metadata": {},
     "output_type": "execute_result"
    }
   ],
   "source": [
    "%%sql\n",
    "SELECT podcast, COUNT(review_title) AS count\n",
    "FROM df\n",
    "GROUP BY podcast\n",
    "ORDER BY count DESC\n",
    "LIMIT 6"
   ]
  },
  {
   "cell_type": "markdown",
   "metadata": {},
   "source": [
    "### True Crime Obsessed podcast\n",
    "\n",
    "Making two dataframes, one based on crime (murder specifically) and one on politics (liberal, politic, or conservative) based on the content (whats in the review). Will compare the rating of these and see if the episode seemed more or less political vs about murder has any impact on review rating"
   ]
  },
  {
   "cell_type": "markdown",
   "metadata": {},
   "source": [
    "Content of review have the word murder in it"
   ]
  },
  {
   "cell_type": "code",
   "execution_count": 101,
   "metadata": {},
   "outputs": [
    {
     "data": {
      "text/html": [
       "<span style=\"None\">Running query in &#x27;duckdb&#x27;</span>"
      ],
      "text/plain": [
       "Running query in 'duckdb'"
      ]
     },
     "metadata": {},
     "output_type": "display_data"
    }
   ],
   "source": [
    "%%sql\n",
    "TCO_murder_df <<\n",
    "SELECT *\n",
    "FROM df\n",
    "WHERE podcast = 'True Crime Obsessed' AND (LOWER(content) LIKE('%murder%'))\n",
    "ORDER BY rating ASC\n"
   ]
  },
  {
   "cell_type": "markdown",
   "metadata": {},
   "source": [
    "Content of review has something political in it"
   ]
  },
  {
   "cell_type": "code",
   "execution_count": 102,
   "metadata": {},
   "outputs": [
    {
     "data": {
      "text/html": [
       "<span style=\"None\">Running query in &#x27;duckdb&#x27;</span>"
      ],
      "text/plain": [
       "Running query in 'duckdb'"
      ]
     },
     "metadata": {},
     "output_type": "display_data"
    }
   ],
   "source": [
    "%%sql\n",
    "TCO_politics_df <<\n",
    "SELECT *\n",
    "FROM df\n",
    "WHERE podcast = 'True Crime Obsessed' AND (LOWER(content) LIKE('%liberal%') OR LOWER(content) LIKE('%politic%') OR LOWER(content) LIKE('%conservative%'))\n",
    "ORDER BY rating ASC"
   ]
  },
  {
   "cell_type": "markdown",
   "metadata": {},
   "source": [
    "Mean rating of reviews with either murder in the content or something political, there seems to be a difference in mean rating, will test this statistically "
   ]
  },
  {
   "cell_type": "code",
   "execution_count": 103,
   "metadata": {},
   "outputs": [
    {
     "data": {
      "text/html": [
       "<span style=\"None\">Running query in &#x27;duckdb&#x27;</span>"
      ],
      "text/plain": [
       "Running query in 'duckdb'"
      ]
     },
     "metadata": {},
     "output_type": "display_data"
    },
    {
     "data": {
      "text/html": [
       "<div>\n",
       "<style scoped>\n",
       "    .dataframe tbody tr th:only-of-type {\n",
       "        vertical-align: middle;\n",
       "    }\n",
       "\n",
       "    .dataframe tbody tr th {\n",
       "        vertical-align: top;\n",
       "    }\n",
       "\n",
       "    .dataframe thead th {\n",
       "        text-align: right;\n",
       "    }\n",
       "</style>\n",
       "<table border=\"1\" class=\"dataframe\">\n",
       "  <thead>\n",
       "    <tr style=\"text-align: right;\">\n",
       "      <th></th>\n",
       "      <th>mean_murder_rating</th>\n",
       "      <th>mean_politics_rating</th>\n",
       "    </tr>\n",
       "  </thead>\n",
       "  <tbody>\n",
       "    <tr>\n",
       "      <th>0</th>\n",
       "      <td>3.373786</td>\n",
       "      <td>2.549296</td>\n",
       "    </tr>\n",
       "  </tbody>\n",
       "</table>\n",
       "</div>"
      ],
      "text/plain": [
       "   mean_murder_rating  mean_politics_rating\n",
       "0            3.373786              2.549296"
      ]
     },
     "execution_count": 103,
     "metadata": {},
     "output_type": "execute_result"
    }
   ],
   "source": [
    "%%sql\n",
    "WITH t1 AS(\n",
    "SELECT MEAN(rating) AS mean_murder_rating\n",
    "FROM TCO_murder_df),\n",
    "t2 AS(\n",
    "SELECT MEAN(rating) AS mean_politics_rating\n",
    "FROM TCO_politics_df)\n",
    "SELECT t1.mean_murder_rating, t2.mean_politics_rating\n",
    "FROM t1\n",
    "CROSS JOIN t2"
   ]
  },
  {
   "cell_type": "code",
   "execution_count": 104,
   "metadata": {},
   "outputs": [
    {
     "data": {
      "text/html": [
       "<span style=\"None\">Running query in &#x27;duckdb&#x27;</span>"
      ],
      "text/plain": [
       "Running query in 'duckdb'"
      ]
     },
     "metadata": {},
     "output_type": "display_data"
    }
   ],
   "source": [
    "%%sql\n",
    "TCO_politics_metrics_df <<\n",
    "SELECT (COUNT(rating)) AS population, MEAN(rating) AS mean, STDDEV(rating) AS standard_deviation\n",
    "FROM TCO_politics_df"
   ]
  },
  {
   "cell_type": "code",
   "execution_count": 105,
   "metadata": {},
   "outputs": [
    {
     "data": {
      "text/html": [
       "<span style=\"None\">Running query in &#x27;duckdb&#x27;</span>"
      ],
      "text/plain": [
       "Running query in 'duckdb'"
      ]
     },
     "metadata": {},
     "output_type": "display_data"
    }
   ],
   "source": [
    "%%sql\n",
    "TCO_murder_metrics_df <<\n",
    "SELECT (COUNT(rating)) AS population, MEAN(rating) AS mean, STDDEV(rating) AS standard_deviation\n",
    "FROM TCO_murder_df"
   ]
  },
  {
   "cell_type": "markdown",
   "metadata": {},
   "source": [
    "The 95% confidence intervals suggest that there might be a statistically significant difference in rating between the podcasts that are too political and podcasts that are more murder oriented"
   ]
  },
  {
   "cell_type": "code",
   "execution_count": 106,
   "metadata": {},
   "outputs": [
    {
     "name": "stdout",
     "output_type": "stream",
     "text": [
      "The confidence interval for ratings in 'murder' episodes = (np.float64(3.1196110026909816), np.float64(3.627961812842999))\n",
      "The confidence interval for ratings in 'political' episodes = (np.float64(2.2810087363117453), np.float64(2.8175828129840297))\n"
     ]
    }
   ],
   "source": [
    "ci_murder = confidence_interval(TCO_murder_df[\"rating\"], confidence=0.95)\n",
    "ci_politics = confidence_interval(TCO_politics_df[\"rating\"], confidence=0.95)\n",
    "print(f\"The confidence interval for ratings in 'murder' episodes = {ci_murder}\")\n",
    "print(f\"The confidence interval for ratings in 'political' episodes = {ci_politics}\")"
   ]
  },
  {
   "cell_type": "code",
   "execution_count": 107,
   "metadata": {},
   "outputs": [
    {
     "data": {
      "text/plain": [
       "<Axes: >"
      ]
     },
     "execution_count": 107,
     "metadata": {},
     "output_type": "execute_result"
    },
    {
     "data": {
      "image/png": "[encoded data removed]",
      "text/plain": [
       "<Figure size 400x400 with 1 Axes>"
      ]
     },
     "metadata": {},
     "output_type": "display_data"
    }
   ],
   "source": [
    "plt.figure(figsize=(4, 4))\n",
    "SCO_df = pd.DataFrame({\"murder_ci\": ci_murder, \"politics_ci\": ci_politics})\n",
    "sns.lineplot(SCO_df)"
   ]
  },
  {
   "cell_type": "markdown",
   "metadata": {},
   "source": [
    "### We confirm this by doing a Z-test, we find that podcasts containing murder instead of politics are higher rated\n",
    "\n",
    "I want to clarify that I do not know whether or not the podcast episode contain any political statements, I did however need something to practice statistics with. Maybe I could have said that reviews that contain comments about politics (liberal or conservative) are lower rated than reviews that contain the word murder in it, as this is what has actually been tested for. "
   ]
  },
  {
   "cell_type": "code",
   "execution_count": 108,
   "metadata": {},
   "outputs": [
    {
     "name": "stdout",
     "output_type": "stream",
     "text": [
      "The test statistic = 4.267979784777993 and the P-value = 9.862559887271141e-06\n",
      "\n",
      "Reject the null hypothesis: Podcast episodes containing murder instead of politics is higher rated\n"
     ]
    }
   ],
   "source": [
    "TCO_murder_rating = TCO_murder_df[\"rating\"].to_list()\n",
    "TCO_politics_rating = TCO_politics_df[\"rating\"].to_list()\n",
    "\n",
    "alpha = 0.05\n",
    "t_stat, p_value = ztest(TCO_murder_rating, TCO_politics_rating, value=0, alternative=\"larger\")\n",
    "print(f\"The test statistic = {t_stat} and the P-value = {p_value}\")\n",
    "\n",
    "if p_value < alpha:\n",
    "    print(\n",
    "        \"\"\"\n",
    "Reject the null hypothesis: Podcast episodes containing murder instead of politics is higher rated\"\"\"\n",
    "    )\n",
    "else:\n",
    "    print(\n",
    "        \"\"\"\n",
    "Fail to Reject the null hypothesis: There is not enough evidence to suggest a significant difference ratings in political and murder episodes\n",
    "          \"\"\"\n",
    "    )"
   ]
  },
  {
   "cell_type": "markdown",
   "metadata": {},
   "source": [
    "## Unsure why this one doesnt work, I'm leaving it in if you have any comments, if I figure it out I will remove this code before the review"
   ]
  },
  {
   "cell_type": "markdown",
   "metadata": {},
   "source": [
    "However, doing a two sample Z-test with another method gives another result:\n",
    "There is no significant difference between the mean rating of podcasts that are more murder oriented compared to those that are more politically oriented. \n",
    "\n",
    "Alternate hypothesis:\n",
    "There is a significant difference between the mean rating of podcasts that are more murder oriented compared to those that are more politically oriented. "
   ]
  },
  {
   "cell_type": "code",
   "execution_count": 109,
   "metadata": {},
   "outputs": [
    {
     "name": "stdout",
     "output_type": "stream",
     "text": [
      "Z-Score: 0.8244906331191029\n",
      "Critical Z-score: 1.959963984540054\n",
      "Fail to reject the null hypothesis.\n",
      "There is not enough evidence to suggest a significant difference ratings in political and murder episodes\n",
      "          \n"
     ]
    }
   ],
   "source": [
    "population1 = float(TCO_murder_metrics_df[\"population\"][0])\n",
    "mean1 = float(TCO_murder_metrics_df[\"mean\"][0])\n",
    "std1 = float(TCO_murder_metrics_df[\"standard_deviation\"][0])\n",
    "\n",
    "population2 = float(TCO_politics_metrics_df[\"population\"][0])\n",
    "mean2 = float(TCO_politics_metrics_df[\"mean\"][0])\n",
    "std2 = float(TCO_politics_metrics_df[\"standard_deviation\"][0])\n",
    "\n",
    "D = 0\n",
    "\n",
    "alpha = 0.05\n",
    "\n",
    "z_score = (mean1 - mean2) - D / np.sqrt((std1**2 / population1) + (std2**2 / population2))\n",
    "print(\"Z-Score:\", np.abs(z_score))\n",
    "\n",
    "z_critical = st.norm.ppf(1 - alpha / 2)\n",
    "print(\"Critical Z-score:\", z_critical)\n",
    "\n",
    "if np.abs(z_score) > z_critical:\n",
    "    print(\n",
    "        \"\"\"Reject the null hypothesis.\n",
    "There is a significant difference between ratings in political and murder episodes\"\"\"\n",
    "    )\n",
    "\n",
    "else:\n",
    "    print(\n",
    "        \"\"\"Fail to reject the null hypothesis.\n",
    "There is not enough evidence to suggest a significant difference ratings in political and murder episodes\n",
    "          \"\"\"\n",
    "    )"
   ]
  },
  {
   "cell_type": "markdown",
   "metadata": {},
   "source": [
    "Ignore this, its only to write files to CSV for Looker studio\n"
   ]
  },
  {
   "cell_type": "code",
   "execution_count": 110,
   "metadata": {},
   "outputs": [
    {
     "data": {
      "text/html": [
       "<span style=\"None\">Running query in &#x27;duckdb&#x27;</span>"
      ],
      "text/plain": [
       "Running query in 'duckdb'"
      ]
     },
     "metadata": {},
     "output_type": "display_data"
    }
   ],
   "source": [
    "%%sql\n",
    "subcategory_df <<\n",
    "SELECT r.podcast, c.*\n",
    "FROM combined_removed_dupe_df c\n",
    "JOIN one_review_df r\n",
    "ON c.podcast_id = r.podcast_id"
   ]
  },
  {
   "cell_type": "code",
   "execution_count": 111,
   "metadata": {},
   "outputs": [],
   "source": [
    "sub_categories_podcast_reviews_df.to_csv(\"sub_categories_podcast_reviews.csv\")"
   ]
  },
  {
   "cell_type": "code",
   "execution_count": 112,
   "metadata": {},
   "outputs": [],
   "source": [
    "subcategory_df.to_csv(\"subcategory.csv\")"
   ]
  },
  {
   "cell_type": "code",
   "execution_count": null,
   "metadata": {},
   "outputs": [],
   "source": []
  }
 ],
 "metadata": {
  "kernelspec": {
   "display_name": ".venv",
   "language": "python",
   "name": "python3"
  },
  "language_info": {
   "codemirror_mode": {
    "name": "ipython",
    "version": 3
   },
   "file_extension": ".py",
   "mimetype": "text/x-python",
   "name": "python",
   "nbconvert_exporter": "python",
   "pygments_lexer": "ipython3",
   "version": "3.12.6"
  }
 },
 "nbformat": 4,
 "nbformat_minor": 2
}
